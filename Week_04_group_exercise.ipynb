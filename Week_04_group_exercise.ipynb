{
 "cells": [
  {
   "cell_type": "code",
   "execution_count": 30,
   "metadata": {},
   "outputs": [
    {
     "name": "stdout",
     "output_type": "stream",
     "text": [
      "[4, 256, 46656, 16777216, 10000000000, 8916100448256, 11112006825558016]\n",
      "[2.6666666666666665, 170.66666666666666, 31104.0, 11184810.666666666, 6666666666.666666, 5944066965504.0, 7408004550372010.0]\n",
      "['apples', 'cranberries', 'pears', 'cherries', 'plums', 'peaches', 'oranges']\n",
      "{'apples': 1500, 'cranberries': 2000, 'pears': 2500, 'cherries': 1600, 'plums': 2400, 'peaches': 13600, 'oranges': 7}\n",
      "{'APPLES': 3000, 'CRANBERRIES': 4000, 'PEARS': 5000, 'CHERRIES': 3200, 'PLUMS': 4800, 'PEACHES': 27200, 'ORANGES': 14}\n"
     ]
    }
   ],
   "source": [
    "\"\"\"\n",
    "This group activity is focused on list comprehensions!\n",
    "Please do the following in a jupyter notebook (There is no need to put them in a function):\n",
    "1) Take the following list and create a new list from the square of each value.\n",
    "og_list=[2, 4, 6, 8, 10, 12, 14]\n",
    "2) Take the same list from the previous question and create a new list but where each\n",
    "value is 2/3\n",
    "3) Write a list comprehension to lowercase all the keys in the below dictionary. The data\n",
    "represents how many pounds of each fruit a canning company is ordering.\n",
    "Why might you use a list comprehension to do something like this?\n",
    "dict={\"Apples\": 1500, \"Cranberries\": 2000, \"Pears\": 2500, \"Cherries\": 1600, \"Plums\": 2400,\"Peaches\": 13600, \"Oranges\": 7}\n",
    "\"\"\"\n",
    "\n",
    "#1\n",
    "og_list = [2, 4, 6, 8, 10, 12, 14]\n",
    "square_list = [x**x for x in og_list ]\n",
    "\n",
    "print(square_list)\n",
    "\n",
    "#2\n",
    "two_third_list = [x * (2/3) for x in square_list]\n",
    "print(two_third_list)\n",
    "\n",
    "#3\n",
    "dict={\"Apples\": 1500, \"Cranberries\": 2000, \"Pears\": 2500, \"Cherries\": 1600, \"Plums\": 2400,\"Peaches\": 13600, \"Oranges\": 7}\n",
    "dict = {key.lower() : value for key, value in dict.items()}\n",
    "print(dict)\n",
    "\n",
    "# We did #4 and #5 as a group\n",
    "#4 Upper case and double the value\n",
    "dict = {key.upper() : value*2 for key, value in dict.items()}\n",
    "print(dict)"
   ]
  },
  {
   "cell_type": "code",
   "execution_count": 29,
   "metadata": {},
   "outputs": [
    {
     "name": "stdout",
     "output_type": "stream",
     "text": [
      "{'Apples': 1, 'Cranberries': 2, 'Pears': 3, 'Cherries': 4, 'Plums': 5, 'Peaches': 6, 'Oranges': 7}\n"
     ]
    }
   ],
   "source": [
    "#5\n",
    "dict={\"Apples\": 1500, \"Cranberries\": 2000, \"Pears\": 2500, \"Cherries\": 1600, \"Plums\": 2400,\n",
    "\"Peaches\": 13600, \"Oranges\": 7}\n",
    "\n",
    "list=[1,2,3,4,5,6,7]\n",
    "index=0\n",
    "for k, v in dict.items():\n",
    "    dict[k]= list[index]\n",
    "    index = index +1\n",
    "\n",
    "print(dict)\n",
    "\n"
   ]
  },
  {
   "cell_type": "code",
   "execution_count": null,
   "metadata": {},
   "outputs": [],
   "source": []
  }
 ],
 "metadata": {
  "kernelspec": {
   "display_name": "Python 3",
   "language": "python",
   "name": "python3"
  },
  "language_info": {
   "codemirror_mode": {
    "name": "ipython",
    "version": 3
   },
   "file_extension": ".py",
   "mimetype": "text/x-python",
   "name": "python",
   "nbconvert_exporter": "python",
   "pygments_lexer": "ipython3",
   "version": "3.8.5"
  }
 },
 "nbformat": 4,
 "nbformat_minor": 4
}
