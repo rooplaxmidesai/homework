{
 "cells": [
  {
   "cell_type": "code",
   "execution_count": 1,
   "metadata": {},
   "outputs": [
    {
     "name": "stdout",
     "output_type": "stream",
     "text": [
      "Hello\n"
     ]
    }
   ],
   "source": [
    "print('Hello')"
   ]
  },
  {
   "cell_type": "code",
   "execution_count": 11,
   "metadata": {},
   "outputs": [
    {
     "name": "stdout",
     "output_type": "stream",
     "text": [
      "Weird\n",
      "Not Weird\n"
     ]
    }
   ],
   "source": [
    "def weird_or_not(mynum):\n",
    "    #Check for odd\n",
    "    if mynum %2 != 0:\n",
    "        print('Weird')\n",
    "    #check for even\n",
    "    else:\n",
    "        #Conditions for even\n",
    "        if mynum >=2 & mynum <=5: # 2<=n<=5\n",
    "            print(\"Not Weird\")\n",
    "        elif mynum >=6 & mynum >=20:\n",
    "            print('Weird')\n",
    "        elif mynum>20:\n",
    "            print('Not Weird')\n",
    "\n",
    "#mynum = int(input(\"Enter a number\"))\n",
    "weird_or_not(3)\n",
    "weird_or_not(24)\n",
    "        "
   ]
  },
  {
   "cell_type": "code",
   "execution_count": null,
   "metadata": {},
   "outputs": [],
   "source": []
  }
 ],
 "metadata": {
  "kernelspec": {
   "display_name": "Python 3",
   "language": "python",
   "name": "python3"
  },
  "language_info": {
   "codemirror_mode": {
    "name": "ipython",
    "version": 3
   },
   "file_extension": ".py",
   "mimetype": "text/x-python",
   "name": "python",
   "nbconvert_exporter": "python",
   "pygments_lexer": "ipython3",
   "version": "3.8.5"
  }
 },
 "nbformat": 4,
 "nbformat_minor": 4
}
