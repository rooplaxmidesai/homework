{
 "cells": [
  {
   "cell_type": "markdown",
   "metadata": {},
   "source": [
    "### Homework Week 02\n",
    "#### Loops, Functions and Classes\n",
    "1. Do this homework **in order**. \n",
    "2. Be sure to have a solid understanding of Functions before working with Classes. "
   ]
  },
  {
   "cell_type": "markdown",
   "metadata": {},
   "source": [
    "1. Iterate through `integers_list` and `print` values that are multiples of 7."
   ]
  },
  {
   "cell_type": "code",
   "execution_count": 253,
   "metadata": {},
   "outputs": [
    {
     "name": "stdout",
     "output_type": "stream",
     "text": [
      "[254, 823, 760, 771, 514, 135, 931, 313, 959, 42, 73, 987, 681, 970, 510, 521, 140, 70, 650, 191, 599, 20, 797, 677, 517, 988, 343, 199, 956, 217, 465, 0, 85, 435, 687, 973, 53, 580, 430, 386, 289, 645, 373, 526, 917, 941, 126, 359, 358, 558]\n",
      "931\n",
      "959\n",
      "42\n",
      "987\n",
      "140\n",
      "70\n",
      "343\n",
      "217\n",
      "973\n",
      "917\n",
      "126\n"
     ]
    }
   ],
   "source": [
    "import random\n",
    "integers_list = [random.randint(0,1000) for i in range(50)] # a list comprehension\n",
    "print(integers_list)\n",
    "# your code here\n",
    "for i in integers_list:\n",
    "    #If the number is divisible by 7 it is a multiple of 7\n",
    "    if i!=0 and i % 7 == 0:\n",
    "        print(i)"
   ]
  },
  {
   "cell_type": "markdown",
   "metadata": {},
   "source": [
    "2. Create `list` of 5 colors as `strings` which are all lowercase. \n",
    "Iterate through the `list` and capitalize each color. \n",
    "You should modify the `list` in place. "
   ]
  },
  {
   "cell_type": "code",
   "execution_count": 248,
   "metadata": {},
   "outputs": [
    {
     "name": "stdout",
     "output_type": "stream",
     "text": [
      "['Yellow', 'Red', 'Purple', 'Orange', 'Green']\n"
     ]
    }
   ],
   "source": [
    "#create a colors list\n",
    "colors = [\"yellow\",\"red\",\"purple\",\"orange\",\"green\"]\n",
    "\n",
    "for index,color in enumerate(colors):\n",
    "    #Use capitalize() function, to capitalize the first letter of <color> in colors list\n",
    "    colors[index] = color.capitalize()\n",
    "    \n",
    "print(colors)"
   ]
  },
  {
   "cell_type": "markdown",
   "metadata": {},
   "source": [
    "3. Loop through the string and eliminate all the asterisks."
   ]
  },
  {
   "cell_type": "code",
   "execution_count": 247,
   "metadata": {},
   "outputs": [
    {
     "name": "stdout",
     "output_type": "stream",
     "text": [
      "['M', 'y', ' ', 'c', 'o', 'm', 'p', 'u', 't', 'e', 'r', ' ', 'h', 'a', 's', ' ', 'g', 'o', 'n', 'e', ' ', 'c', 'r', 'a', 'z', 'y', ' ', 'a', 'n', 'd', ' ', 'a', 'd', 'd', 'e', 'd', ' ', 'e', 'x', 't', 'r', 'a', ' ', 's', 'y', 'm', 'b', 'o', 'l', 's', '.']\n",
      "My computer has gone crazy and added extra symbols.\n"
     ]
    }
   ],
   "source": [
    "asterisk = 'My *compu*ter has go*ne craz***y an*d add*ed extra *symbols.*'\n",
    "\n",
    "\"\"\"\n",
    "#This is how I did it first, i.e before looking into week_02_homework_hints jupyter notebook\n",
    "without_asterisk =\"\"\n",
    "# your code here\n",
    "for char in asterisk:\n",
    "    if char != \"*\":\n",
    "        without_asterisk = without_asterisk + char\n",
    "    \n",
    "print(without_asterisk)\n",
    "\"\"\"\n",
    "\n",
    "#Looked into week_02_homework_hints jupyter notebook, and tried this version\n",
    "char_list = []\n",
    "\n",
    "for char in asterisk:\n",
    "    if char != '*':\n",
    "        char_list.append(char)\n",
    "print(char_list)\n",
    "\n",
    "print(\"\".join(char_list))"
   ]
  },
  {
   "cell_type": "markdown",
   "metadata": {},
   "source": [
    "4. Write a `while` loop that increments `counter` until it reaches 7."
   ]
  },
  {
   "cell_type": "code",
   "execution_count": 11,
   "metadata": {},
   "outputs": [
    {
     "name": "stdout",
     "output_type": "stream",
     "text": [
      "0\n",
      "1\n",
      "2\n",
      "3\n",
      "4\n",
      "5\n",
      "6\n",
      "7\n"
     ]
    }
   ],
   "source": [
    "counter = 0\n",
    "# your code here\n",
    "while counter<=7:\n",
    "    print(counter)\n",
    "    counter = counter + 1\n",
    "  "
   ]
  },
  {
   "cell_type": "markdown",
   "metadata": {},
   "source": [
    "5. Loop over `double_trouble` and eliminate any 'mosquito'."
   ]
  },
  {
   "cell_type": "code",
   "execution_count": 263,
   "metadata": {},
   "outputs": [
    {
     "name": "stdout",
     "output_type": "stream",
     "text": [
      "mosquito\n",
      "['cat', 'dog', ['mouse', 'bat'], ['elephant', 'dog', 'whale', 'lion', 32], 'bird', [], 'mosquito']\n"
     ]
    }
   ],
   "source": [
    "double_trouble = ['cat', 'dog', ['mouse','mosquito','bat','mosquito'],['elephant','dog','whale','lion',32,'mosquito'],'bird',[],'mosquito']\n",
    "# your code here\n",
    "animal_name = \"mosquito\"\n",
    "#Loop through the double_trouble list\n",
    "for main_index,animal in enumerate(double_trouble):\n",
    "    #If animal is not a list \n",
    "    if type(animal) != list:\n",
    "        #if animal is mosquito\n",
    "        if animal == animal_name:\n",
    "            #Eliminate mosquito from list\n",
    "            #double_trouble.pop() \n",
    "            print(double_trouble[main_index])\n",
    "    else:\n",
    "        #If animal is a list, loop through the list to check for mosquito\n",
    "        for sub_index,a in enumerate(animal):\n",
    "            #if a is mosquito\n",
    "            if animal_name == a:\n",
    "                #Eliminate mosquito from list\n",
    "                double_trouble[main_index].pop(sub_index)\n",
    "                \n",
    "print(double_trouble)"
   ]
  },
  {
   "cell_type": "markdown",
   "metadata": {},
   "source": [
    "6. Loop through the dictionary of phone numbers and correct the parentheses. "
   ]
  },
  {
   "cell_type": "code",
   "execution_count": 255,
   "metadata": {},
   "outputs": [
    {
     "name": "stdout",
     "output_type": "stream",
     "text": [
      "Jill 1-)555(-567-8910\n",
      "Jen 1-)555(-567-8910\n",
      "Jan 1-)555(-567-8910\n",
      "Jane 1-)555(-567-8910\n",
      "Jerri 1-)555(-567-8910\n",
      "{'Jill': '1-(555)-567-8910', 'Jen': '1-(555)-567-8910', 'Jan': '1-(555)-567-8910', 'Jane': '1-(555)-567-8910', 'Jerri': '1-(555)-567-8910'}\n"
     ]
    }
   ],
   "source": [
    "phone_numbers = {'Jill':'1-)555(-567-8910',\n",
    "                'Jen':'1-)555(-567-8910',\n",
    "                'Jan':'1-)555(-567-8910',\n",
    "                'Jane':'1-)555(-567-8910',\n",
    "                'Jerri':'1-)555(-567-8910'}\n",
    "\n",
    "#Loop through the dictionary to get key and value\n",
    "for key,value in phone_numbers.items():\n",
    "    #Assign the corrected parentheses value to the key \n",
    "    phone_numbers[key] = value.replace(\")555(\",\"(555)\")\n",
    "    print(key,value)\n",
    "\n",
    "print(phone_numbers)"
   ]
  },
  {
   "cell_type": "markdown",
   "metadata": {},
   "source": [
    "7. Create a function that takes in two numbers.\n",
    "\n",
    "If the numbers are both even add them and `return` the result.\n",
    "\n",
    "If the numbers are odd, subtract the second number from the first and `return` the result.\n",
    "\n",
    "(Assume you'll always get integers)"
   ]
  },
  {
   "cell_type": "code",
   "execution_count": 68,
   "metadata": {},
   "outputs": [
    {
     "name": "stdout",
     "output_type": "stream",
     "text": [
      "Both even\n",
      "6\n",
      "Both odd\n",
      "-4\n",
      "Either of the numbers is odd or even\n",
      "Either of the numbers is odd or even\n"
     ]
    }
   ],
   "source": [
    "#define calculate_numbers\n",
    "#assume that both numbers are integers\n",
    "def calculate_numbers(num1,num2):\n",
    "    #Condition to check if both the numbers are even\n",
    "    if num1%2 == 0 and num2%2 == 0: \n",
    "        print(\"Both even\")\n",
    "        return num1 + num2\n",
    "    #Condition to check if both the numbers are odd\n",
    "    if num1%2 !=0 and num2%2 !=0:\n",
    "        print(\"Both odd\")\n",
    "        return num1 - num2\n",
    "    \n",
    "    #Return the string if both the numbers are not Even or Odd\n",
    "    return \"Either of the numbers is odd or even\"\n",
    "    \n",
    "#Both numbers even\n",
    "result = calculate_numbers(2,4)\n",
    "print(result)\n",
    "#Both numbers odd\n",
    "result = calculate_numbers(3,7)\n",
    "print(result)\n",
    "#First number is even and second one odd\n",
    "result = calculate_numbers(4,7)\n",
    "print(result)\n",
    "#First number is odd and second one even\n",
    "result = calculate_numbers(5,8)\n",
    "print(result)\n"
   ]
  },
  {
   "cell_type": "markdown",
   "metadata": {},
   "source": [
    "8. Create a function that takes in a `string` and removes all non-alphanumeric characters."
   ]
  },
  {
   "cell_type": "code",
   "execution_count": 256,
   "metadata": {},
   "outputs": [
    {
     "name": "stdout",
     "output_type": "stream",
     "text": [
      "heLLOROOPlaxmi\n"
     ]
    }
   ],
   "source": [
    "#define get_alphabets\n",
    "def get_alphabets(mystring):\n",
    "    new_str = \"\"\n",
    "    #Loop through the string\n",
    "    for character in mystring:\n",
    "        #If the character in the string is an alphabet\n",
    "        if character.isalpha():\n",
    "            new_str = new_str + character\n",
    "            \n",
    "    return new_str\n",
    "\n",
    "only_alphabets = get_alphabets(\"*%^$*heLLO85488&^ROOPlaxmi@$^*\")\n",
    "print(only_alphabets)"
   ]
  },
  {
   "cell_type": "markdown",
   "metadata": {},
   "source": [
    "9. Create a function to convert Celsius to Farenheight and print the result. \n",
    "\n",
    "Bonus(Optional): Include the degree symbol in the output."
   ]
  },
  {
   "cell_type": "code",
   "execution_count": 134,
   "metadata": {},
   "outputs": [
    {
     "name": "stdout",
     "output_type": "stream",
     "text": [
      "356.9°F\n"
     ]
    }
   ],
   "source": [
    "#Function to convert Celcius to Farenheight\n",
    "# Formula to do that is : (0°C × 9/5) + 32\n",
    "def celcius_to_farenheight(celcius_value):\n",
    "    farenheight_value = (celcius_value * 9/5) + 32\n",
    "    farenheight_value = str(farenheight_value) + u\"\\N{DEGREE SIGN}\" + \"F\" \n",
    "    return farenheight_value\n",
    "\n",
    "#call function celcius_to_farenheight(180)\n",
    "print(celcius_to_farenheight(180.5))"
   ]
  },
  {
   "cell_type": "markdown",
   "metadata": {},
   "source": [
    "10. Create a function that prints the fibonacci sequence from 0 to 25. "
   ]
  },
  {
   "cell_type": "code",
   "execution_count": 259,
   "metadata": {},
   "outputs": [
    {
     "name": "stdout",
     "output_type": "stream",
     "text": [
      "0\n",
      "1\n",
      "1\n",
      "2\n",
      "3\n",
      "5\n",
      "8\n",
      "13\n",
      "21\n"
     ]
    }
   ],
   "source": [
    "#Define function to print fobonacci sequence\n",
    "# Fibonnaci series from 0 to 25  is 0,1,1,3,5,8,13,21 \n",
    "#i.e 0, 0+1= 1, 1+1 =2, 2+1= 3, 3+2 = 5, 5+3=8 , 8+5 =13, 13+8 =21\n",
    "\n",
    "def get_fibonacci_sequence():\n",
    "    prev_num = 1\n",
    "    prev_sum = 0\n",
    "    sum = 0 \n",
    "    # while loop will run until sum<=25\n",
    "    while sum <=25:\n",
    "        print(sum)\n",
    "        sum = prev_sum + prev_num\n",
    "        prev_num = prev_sum\n",
    "        prev_sum = sum\n",
    "     \n",
    "     \n",
    "#Call the function to print fibonnaci sequence\n",
    "get_fibonacci_sequence()"
   ]
  },
  {
   "cell_type": "markdown",
   "metadata": {},
   "source": [
    "11. Create two functions. One function that accepts args `a` and `b` and returns `a + b`. \n",
    "\n",
    "Create a second function that accepts the first function as the 3rd argument as well as a and b.\n"
   ]
  },
  {
   "cell_type": "code",
   "execution_count": 126,
   "metadata": {},
   "outputs": [
    {
     "name": "stdout",
     "output_type": "stream",
     "text": [
      "10\n"
     ]
    }
   ],
   "source": [
    "# you do the first function\n",
    "\n",
    "# second function\n",
    "# Here's some starter code to avoid confusion.\n",
    "# Functions can be passed around like any other object. \n",
    "def second_function(a,b,some_function):\n",
    "    pass"
   ]
  },
  {
   "cell_type": "code",
   "execution_count": 246,
   "metadata": {},
   "outputs": [
    {
     "name": "stdout",
     "output_type": "stream",
     "text": [
      "90\n"
     ]
    }
   ],
   "source": [
    "#first function to add numbers\n",
    "def add(a,b):\n",
    "    return a+b\n",
    "\n",
    "# second function to pass first function as an argument.\n",
    "def second_function(a,b,fun):\n",
    "    return  add(a,b)\n",
    "\n",
    "\n",
    "#Call second function with add function as an argument\n",
    "print(second_function(5,85,add))"
   ]
  },
  {
   "cell_type": "markdown",
   "metadata": {},
   "source": [
    "12. Create a function that prints prime number from 0 to 100. "
   ]
  },
  {
   "cell_type": "code",
   "execution_count": 114,
   "metadata": {},
   "outputs": [
    {
     "name": "stdout",
     "output_type": "stream",
     "text": [
      " 2 is a Prime Number\n",
      " 3 is a Prime Number\n",
      " 5 is a Prime Number\n",
      " 7 is a Prime Number\n",
      " 11 is a Prime Number\n",
      " 13 is a Prime Number\n",
      " 17 is a Prime Number\n",
      " 19 is a Prime Number\n",
      " 23 is a Prime Number\n",
      " 29 is a Prime Number\n",
      " 31 is a Prime Number\n",
      " 37 is a Prime Number\n",
      " 41 is a Prime Number\n",
      " 43 is a Prime Number\n",
      " 47 is a Prime Number\n",
      " 53 is a Prime Number\n",
      " 59 is a Prime Number\n",
      " 61 is a Prime Number\n",
      " 67 is a Prime Number\n",
      " 71 is a Prime Number\n",
      " 73 is a Prime Number\n",
      " 79 is a Prime Number\n",
      " 83 is a Prime Number\n",
      " 89 is a Prime Number\n",
      " 97 is a Prime Number\n"
     ]
    }
   ],
   "source": [
    "\"\"\"\n",
    "# I tried this version of code before writing the logic to get prime numbers. \n",
    "#This part of code is using isprime() function from sympy module\n",
    "#define function to get prime numbers. \n",
    "import sympy\n",
    "#define function to get prime numbers\n",
    "def get_prime_numbers():\n",
    "    number = 0\n",
    "    while number<=100:\n",
    "        if sympy.isprime(number):\n",
    "            print(\" %d is a Prime Number\" %number)\n",
    "        number  = number + 1\n",
    "\"\"\" \n",
    "    \n",
    "#define function to get prime numbers\n",
    "# any number greater than 1 and only divisible by the number itself is a prime number\n",
    "def get_prime_numbers():\n",
    "    number = 2\n",
    "    while number<=100:\n",
    "        is_prime = True\n",
    "        #check if number is divisible by 2 to number//2 e.g 7//2= 3, so range(2,3+1) If its divisble that is not a prime number \n",
    "        #and break out of the loop\n",
    "        for i in range(2, (number//2 + 1)):\n",
    "            if(number % i == 0):\n",
    "                is_prime = False\n",
    "                break\n",
    "       \n",
    "        #if number was divisible by other than the number itself is_prime will will be False, else it will be True\n",
    "        if is_prime:\n",
    "                print(\" %d is a Prime Number\" %number)\n",
    "\n",
    "        #increment the counter for while loop    \n",
    "        number  = number + 1\n",
    "\n",
    "#Call the get_prime_numbers function\n",
    "get_prime_numbers()"
   ]
  },
  {
   "cell_type": "markdown",
   "metadata": {},
   "source": [
    "13. Now's your chance to show off. Create a function that does something that has not already been done in the homework. Get creative. "
   ]
  },
  {
   "cell_type": "code",
   "execution_count": 204,
   "metadata": {},
   "outputs": [
    {
     "name": "stdout",
     "output_type": "stream",
     "text": [
      "[589, 689, 328, 965, 998, 450, 688, 695, 33, 533]\n",
      "No of values in the list : 10\n",
      "Mean : 596.8\n"
     ]
    }
   ],
   "source": [
    "import random\n",
    "#function to calculate mean of set of values\n",
    "def calculate_mean(set_of_values):\n",
    "    # Mean = sum of all the values in the list / count of values in the list\n",
    "    mean = sum(set_of_values) / len(set_of_values)\n",
    "    return mean\n",
    "    \n",
    "    \n",
    "random_number = random.randint(2,10)\n",
    "#Create a list of set of <random_number> values in the range of 0 to 1000    \n",
    "set_of_values = [random.randint(0,1000) for i in range(random_number)]   \n",
    "print(set_of_values)\n",
    "print(\"No of values in the list :\", random_number)\n",
    "\n",
    "#Call the calculate_mean function on those 9 values\n",
    "mean_of_values = calculate_mean(set_of_values)\n",
    "print(\"Mean :\", mean_of_values)\n"
   ]
  },
  {
   "cell_type": "markdown",
   "metadata": {},
   "source": [
    "14. Add an attribute called `age` to the `__init__` method of the `Person` class.\n",
    "\n",
    "Create an instance of `Person()` and print the `age`."
   ]
  },
  {
   "cell_type": "code",
   "execution_count": 137,
   "metadata": {},
   "outputs": [
    {
     "name": "stdout",
     "output_type": "stream",
     "text": [
      "42\n"
     ]
    }
   ],
   "source": [
    "class Person():\n",
    "    \n",
    "    def __init__(self, name, occupation, country,age):\n",
    "        self.name = name\n",
    "        self.occupation = occupation\n",
    "        self.country = country\n",
    "        # you attribute goes here\n",
    "        self.age = age\n",
    "        \n",
    "person1 = Person(\"Roopa\",\"Homemaker\",\"USA\",42)\n",
    "print(person1.age)"
   ]
  },
  {
   "cell_type": "markdown",
   "metadata": {},
   "source": [
    "15. Creat an instance of the class `Candy`. \n",
    "\n",
    "Add an attribute called `cost` on your instance. (Don't modify the class starter code.)\n",
    "\n",
    "Print the instance's `cost` attribute.\n",
    "\n",
    "Bonus(optional): Add a function of your choice to the instance. "
   ]
  },
  {
   "cell_type": "code",
   "execution_count": 174,
   "metadata": {},
   "outputs": [
    {
     "name": "stdout",
     "output_type": "stream",
     "text": [
      "20\n"
     ]
    }
   ],
   "source": [
    "class Candy():\n",
    "    \n",
    "    def __init__(self, kind='chocolate', brand= 'Nestle', caramel = False):\n",
    "        self.type = kind\n",
    "        self.brand = brand\n",
    "        self.caramel = caramel\n",
    "        \n"
   ]
  },
  {
   "cell_type": "code",
   "execution_count": 183,
   "metadata": {},
   "outputs": [
    {
     "name": "stdout",
     "output_type": "stream",
     "text": [
      "10\n"
     ]
    }
   ],
   "source": [
    "class Candy():\n",
    "    \n",
    "    def __init__(self, kind='chocolate', brand= 'Nestle', caramel = False):\n",
    "        self.type = kind\n",
    "        self.brand = brand\n",
    "        self.caramel = caramel\n",
    "        \n",
    "    cost = 5\n",
    "\n",
    "candy1 = Candy()\n",
    "candy1.cost = 10\n",
    "print(candy1.cost)"
   ]
  },
  {
   "cell_type": "markdown",
   "metadata": {},
   "source": [
    "16. Add an instance method to our class `Greet` that prints a greeting including `greeting` and the `name`. \n",
    "\n",
    "Example:\n",
    "\n",
    "`jen = Greet()`\n",
    "\n",
    "`jen.greet_method()` returns `\"Hello Jennifer\"`\n"
   ]
  },
  {
   "cell_type": "code",
   "execution_count": 172,
   "metadata": {},
   "outputs": [
    {
     "name": "stdout",
     "output_type": "stream",
     "text": [
      "Hello Jennifer\n",
      "Namaste Roopa\n"
     ]
    }
   ],
   "source": [
    "class Greet():\n",
    "    \n",
    "    def __init__(self, name='Jennifer', language='english', greeting=\"Hello\"):\n",
    "        \n",
    "        self.language = language\n",
    "        self.greeting = greeting\n",
    "        self.name = name\n",
    "        \n",
    "    # Your method here\n",
    "    def print_greeting(self):\n",
    "        return self.greeting + \" \" + self.name\n",
    "        \n",
    "greet1 = Greet()\n",
    "print(greet1.print_greeting())\n",
    "\n",
    "greet2 = Greet(\"Roopa\",\"Hindi\",\"Namaste\")\n",
    "print(greet2.print_greeting())\n",
    "\n",
    "        "
   ]
  },
  {
   "cell_type": "markdown",
   "metadata": {},
   "source": [
    "17. Add a line to the follwing code that will increment `employee_count` by 1 for **all** instances of `Employee`.\n",
    "\n",
    "The code should run each time an new instance of`Employee` is created. \n",
    "\n",
    "Hint: You don't need methods. Just a single expression will work. And it does NOT inlcude the word `self`. "
   ]
  },
  {
   "cell_type": "code",
   "execution_count": 180,
   "metadata": {},
   "outputs": [
    {
     "name": "stdout",
     "output_type": "stream",
     "text": [
      "1\n",
      "2\n"
     ]
    }
   ],
   "source": [
    "class Employee():\n",
    "    \n",
    "    # class variables. Applies to all instances of this class during creation.\n",
    "    yearly_bonus = 1.01 # not used anywhere in this example\n",
    "    \n",
    "    employee_count = 0 # This variable will change for all instances of the class.\n",
    "    \n",
    "       \n",
    "    def __init__(self,name, age, base_pay): # creates an instance of our object with unique attributes\n",
    "        \n",
    "        self.name = name\n",
    "        self.age = age\n",
    "        self.base_pay = base_pay\n",
    "        \n",
    "        \n",
    "        # your code here inside the __init__ method. \n",
    "        # Every time a new object of Employee is created, employee_count is incremented by 1\n",
    "        Employee.employee_count += 1\n",
    "        \n",
    "emp1 = Employee('Matt', 32,40000)\n",
    "print(emp1.employee_count) # should be 1 if the __init__ method is working properly. \n",
    "\n",
    "emp2 = emp1 = Employee('Joe', 22,50000) # should be 2 if the __init__ method is working properly. \n",
    "print(emp2.employee_count)\n",
    "\n"
   ]
  },
  {
   "cell_type": "markdown",
   "metadata": {},
   "source": [
    "18 . Add a `static` method of your choice to the class below. \n",
    "\n",
    "Instaiate an object and call your method. \n",
    "\n",
    "What is a static method anyway? \n"
   ]
  },
  {
   "cell_type": "code",
   "execution_count": 238,
   "metadata": {},
   "outputs": [
    {
     "name": "stdout",
     "output_type": "stream",
     "text": [
      "Meryl Streep: This is my line...\n",
      "Looking for best actress Oscar Winners...\n",
      "Looking for theatre nearby...\n"
     ]
    }
   ],
   "source": [
    "import webbrowser\n",
    "\n",
    "class actress():\n",
    "    def __init__(self, name = 'Meryl Streep'):\n",
    "        self.name = name\n",
    "        \n",
    "    def act(self, line):\n",
    "        print(f'{self.name}: {line}')\n",
    "        \n",
    "    # your static method goes here.\n",
    "    @staticmethod\n",
    "    def find_theatre_nearby():\n",
    "        print(\"Looking for theatre nearby...\")\n",
    "        webbrowser.open('https://www.google.com/search?channel=fs&client=ubuntu&q=theatre+nearby', new=0)\n",
    "    \n",
    "    @staticmethod\n",
    "    def find_oscar_best_actress_winners():\n",
    "        #Search the web for the best actress Oscar Winners\n",
    "        print(\"Looking for best actress Oscar Winners...\")\n",
    "        webbrowser.open('https://www.google.com/search?channel=fs&client=ubuntu&q=oscar+best+actress+winners', new=0)\n",
    "        \n",
    "meryl = actress()\n",
    "meryl.act('This is my line...')\n",
    "#Calling static methods\n",
    "#@staticmethod -  static mehtods have a logically related function to the class. It does not rely on instance variables \n",
    "#or class variables. We need to use @staticmethod decorator to define static method.\n",
    "actress.find_oscar_best_actress_winners()\n",
    "meryl.find_theatre_nearby()"
   ]
  },
  {
   "cell_type": "code",
   "execution_count": null,
   "metadata": {},
   "outputs": [],
   "source": []
  },
  {
   "cell_type": "markdown",
   "metadata": {},
   "source": [
    "19. Create a `class` called Car that accepts 3 attributes (make, model and year). \n",
    "\n",
    "In the `__init__` method give your instance those three attributes. \n",
    "\n",
    "Instantiate (create) an object that is your dream car. \n",
    "\n",
    "Print the make of your dream car using the object attributes. \n",
    "\n",
    "Then call the dir() method on your new object. (See your attrs are now included!)"
   ]
  },
  {
   "cell_type": "code",
   "execution_count": 182,
   "metadata": {},
   "outputs": [
    {
     "name": "stdout",
     "output_type": "stream",
     "text": [
      "Honda\n"
     ]
    },
    {
     "data": {
      "text/plain": [
       "['__class__',\n",
       " '__delattr__',\n",
       " '__dict__',\n",
       " '__dir__',\n",
       " '__doc__',\n",
       " '__eq__',\n",
       " '__format__',\n",
       " '__ge__',\n",
       " '__getattribute__',\n",
       " '__gt__',\n",
       " '__hash__',\n",
       " '__init__',\n",
       " '__init_subclass__',\n",
       " '__le__',\n",
       " '__lt__',\n",
       " '__module__',\n",
       " '__ne__',\n",
       " '__new__',\n",
       " '__reduce__',\n",
       " '__reduce_ex__',\n",
       " '__repr__',\n",
       " '__setattr__',\n",
       " '__sizeof__',\n",
       " '__str__',\n",
       " '__subclasshook__',\n",
       " '__weakref__',\n",
       " 'make',\n",
       " 'model',\n",
       " 'year']"
      ]
     },
     "execution_count": 182,
     "metadata": {},
     "output_type": "execute_result"
    }
   ],
   "source": [
    "class Car():\n",
    "    def __init__(self,make,model,year):\n",
    "        self.make = make\n",
    "        self.model = model\n",
    "        self.year = year\n",
    "        \n",
    "car1 = Car('Honda','CRV',2015)\n",
    "print(car1.make)\n",
    "dir(car1)"
   ]
  },
  {
   "cell_type": "markdown",
   "metadata": {},
   "source": [
    "20. Create a class called `Dice` that accepts a single argument called `number_of_dice`. \n",
    "\n",
    "Create an instance method called `roll`. \n",
    "\n",
    "`roll` should randomly pick a number for each die when called and print the results as a list. \n",
    "\n",
    "Create an instance of `Dice`. Then call `roll()` on your instance.\n",
    "\n",
    "Hint: Inside your class create an empty list called `dice`."
   ]
  },
  {
   "cell_type": "code",
   "execution_count": 12,
   "metadata": {},
   "outputs": [
    {
     "name": "stdout",
     "output_type": "stream",
     "text": [
      "3\n"
     ]
    }
   ],
   "source": [
    "# Helpful starter code\n",
    "from random import randrange\n",
    "\n",
    "print(randrange(1,7)) # randomly generates a number between 1 and 6"
   ]
  },
  {
   "cell_type": "code",
   "execution_count": 223,
   "metadata": {},
   "outputs": [
    {
     "name": "stdout",
     "output_type": "stream",
     "text": [
      "[4]\n",
      "[6, 4]\n",
      "[6, 1, 1]\n"
     ]
    }
   ],
   "source": [
    "import random\n",
    "class Dice():\n",
    "    dice  = []\n",
    "    \n",
    "    #Initialize number_of_dice while creating instance\n",
    "    def __init__(self,number_of_dice):\n",
    "        self.number_of_dice = number_of_dice\n",
    "        Dice.dice  = []\n",
    "        \n",
    "    #Roll the dice for number_of_dice\n",
    "    def roll(self):\n",
    "        while self.number_of_dice >0:\n",
    "            #pick a random number from 1,7 for each die\n",
    "            Dice.dice.append(randrange(1,7))\n",
    "            self.number_of_dice -= 1\n",
    "        print(Dice.dice)\n",
    "        \n",
    "\n",
    "\n",
    "#Call a function roll with number_of_dice = 1\n",
    "dice_object1 = Dice(1)\n",
    "dice_object1.roll()\n",
    "\n",
    "#Call a function roll with number_of_dice = 2\n",
    "dice_object2 = Dice(2)\n",
    "dice_object2.roll()\n",
    "\n",
    "#Call a function roll with number_of_dice = 3\n",
    "dice_object3 = Dice(3)\n",
    "dice_object3.roll()\n",
    "\n"
   ]
  },
  {
   "cell_type": "markdown",
   "metadata": {},
   "source": [
    "Bonus(optional):\n",
    "\n",
    "0. Create a class of your choice.\n",
    "1. Give it instance variables and class variables. \n",
    "2. Give it a classmethod. \n",
    "3. Give it a regular method (instance method).\n",
    "4. Give it a static method. \n",
    "\n",
    "Show how each works by printing an example. "
   ]
  },
  {
   "cell_type": "code",
   "execution_count": 243,
   "metadata": {},
   "outputs": [
    {
     "name": "stdout",
     "output_type": "stream",
     "text": [
      "Beth\n",
      "John\n",
      "Student Name: Beth ,Age: 9 ,Grade: 3 ,School: Highcroft Elementary School\n",
      "Student Count:  2\n",
      "Looking for inclement weather school closures in St.Louis...\n"
     ]
    }
   ],
   "source": [
    "#Create class Student\n",
    "class Student():\n",
    "    student_count = 0\n",
    "    \n",
    "    def __init__(self,name,age,grade,school):\n",
    "        self.name = name\n",
    "        self.age = age\n",
    "        self.grade = grade\n",
    "        self.school = school\n",
    "        Student.student_count +=1\n",
    "        \n",
    "    \n",
    "    #regular method to display student information\n",
    "    def display_student_info(self):\n",
    "        print(\"Student Name: {} ,Age: {} ,Grade: {} ,School: {}\".format(self.name,self.age,self.grade,self.school))\n",
    " \n",
    "    #Static method to open website to show school closures for the city\n",
    "    @staticmethod\n",
    "    def inclement_weather_school_closures(city):\n",
    "        if city == \"St.Louis\":\n",
    "            #Show list of inclement weather school closures in city!\n",
    "            print(\"Looking for inclement weather school closures in \" + city + \"...\")\n",
    "            webbrowser.open('https://fox2now.com/weather/closings/', new=0)\n",
    "        \n",
    "       \n",
    "    #alternate constructor for student class. To create an object from string\n",
    "    @classmethod\n",
    "    def from_string(cls,student_str):\n",
    "        name,age,grade,school = student_str.split(\"-\")\n",
    "        return cls(name,age,grade,school)\n",
    "        \n",
    "        \n",
    "        \n",
    "\n",
    "student_str = \"John-7-2-Ellisville Elementary School\"\n",
    "student1 = Student(\"Beth\",9,3,\"Highcroft Elementary School\")\n",
    "student2 = Student.from_string(student_str)\n",
    "    \n",
    "print(student1.name)\n",
    "print(student2.name)\n",
    "student1.display_student_info()\n",
    "print(\"Student Count: \", Student.student_count)\n",
    "\n",
    "Student.inclement_weather_school_closures(\"St.Louis\")\n",
    "  "
   ]
  },
  {
   "cell_type": "code",
   "execution_count": null,
   "metadata": {},
   "outputs": [],
   "source": []
  }
 ],
 "metadata": {
  "kernelspec": {
   "display_name": "Python 3",
   "language": "python",
   "name": "python3"
  },
  "language_info": {
   "codemirror_mode": {
    "name": "ipython",
    "version": 3
   },
   "file_extension": ".py",
   "mimetype": "text/x-python",
   "name": "python",
   "nbconvert_exporter": "python",
   "pygments_lexer": "ipython3",
   "version": "3.8.5"
  }
 },
 "nbformat": 4,
 "nbformat_minor": 4
}
