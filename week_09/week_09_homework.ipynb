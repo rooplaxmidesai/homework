{
 "cells": [
  {
   "cell_type": "code",
   "execution_count": 209,
   "metadata": {},
   "outputs": [],
   "source": [
    "import numpy as np\n",
    "import pandas as pd\n",
    "import seaborn as sns\n",
    "import matplotlib.pyplot as plt\n",
    "%matplotlib inline"
   ]
  },
  {
   "cell_type": "markdown",
   "metadata": {},
   "source": [
    "## 1. Create two histograms in a subplot that show the distribution of reviews_per_month and number_of_reviews in Belize Airbnb data\n",
    "How do you choose your bin size? \n"
   ]
  },
  {
   "cell_type": "code",
   "execution_count": 2,
   "metadata": {},
   "outputs": [
    {
     "data": {
      "text/html": [
       "<div>\n",
       "<style scoped>\n",
       "    .dataframe tbody tr th:only-of-type {\n",
       "        vertical-align: middle;\n",
       "    }\n",
       "\n",
       "    .dataframe tbody tr th {\n",
       "        vertical-align: top;\n",
       "    }\n",
       "\n",
       "    .dataframe thead th {\n",
       "        text-align: right;\n",
       "    }\n",
       "</style>\n",
       "<table border=\"1\" class=\"dataframe\">\n",
       "  <thead>\n",
       "    <tr style=\"text-align: right;\">\n",
       "      <th></th>\n",
       "      <th>id</th>\n",
       "      <th>name</th>\n",
       "      <th>host_id</th>\n",
       "      <th>host_name</th>\n",
       "      <th>neighbourhood_group</th>\n",
       "      <th>neighbourhood</th>\n",
       "      <th>latitude</th>\n",
       "      <th>longitude</th>\n",
       "      <th>room_type</th>\n",
       "      <th>price</th>\n",
       "      <th>minimum_nights</th>\n",
       "      <th>number_of_reviews</th>\n",
       "      <th>last_review</th>\n",
       "      <th>reviews_per_month</th>\n",
       "      <th>calculated_host_listings_count</th>\n",
       "      <th>availability_365</th>\n",
       "    </tr>\n",
       "  </thead>\n",
       "  <tbody>\n",
       "    <tr>\n",
       "      <th>0</th>\n",
       "      <td>36666</td>\n",
       "      <td>Mo's Cozy Casa w/ veranda &amp; access to dock</td>\n",
       "      <td>157752</td>\n",
       "      <td>Monique</td>\n",
       "      <td>Belize</td>\n",
       "      <td>Belize Islands</td>\n",
       "      <td>17.74786</td>\n",
       "      <td>-88.02398</td>\n",
       "      <td>Entire home/apt</td>\n",
       "      <td>141</td>\n",
       "      <td>3</td>\n",
       "      <td>250</td>\n",
       "      <td>2/23/2021</td>\n",
       "      <td>2.0</td>\n",
       "      <td>5</td>\n",
       "      <td>225</td>\n",
       "    </tr>\n",
       "  </tbody>\n",
       "</table>\n",
       "</div>"
      ],
      "text/plain": [
       "      id                                        name  host_id host_name  \\\n",
       "0  36666  Mo's Cozy Casa w/ veranda & access to dock   157752   Monique   \n",
       "\n",
       "  neighbourhood_group   neighbourhood  latitude  longitude        room_type  \\\n",
       "0              Belize  Belize Islands  17.74786  -88.02398  Entire home/apt   \n",
       "\n",
       "   price  minimum_nights  number_of_reviews last_review  reviews_per_month  \\\n",
       "0    141               3                250   2/23/2021                2.0   \n",
       "\n",
       "   calculated_host_listings_count  availability_365  \n",
       "0                               5               225  "
      ]
     },
     "execution_count": 2,
     "metadata": {},
     "output_type": "execute_result"
    }
   ],
   "source": [
    "belize_airbnb_df = pd.read_csv(\"belize_airbnb_listings.csv\")\n",
    "belize_airbnb_df.head(1)"
   ]
  },
  {
   "cell_type": "code",
   "execution_count": 393,
   "metadata": {},
   "outputs": [
    {
     "data": {
      "image/png": "[encoded data removed]",
      "text/plain": [
       "<Figure size 576x576 with 2 Axes>"
      ]
     },
     "metadata": {
      "needs_background": "light"
     },
     "output_type": "display_data"
    }
   ],
   "source": [
    "fig,ax =  plt.subplots(2)\n",
    "fig.set_size_inches([8,8])\n",
    "\n",
    "plt.suptitle(\"Distribution of reviews per month and number of reviews\")\n",
    "plt.ylabel(\"Frequency\",position=(2,1))\n",
    "\n",
    "##Looking at the data of reviews_per_months, there are highest number of reviews_per_month for 0.08. Hence to include \n",
    "# that range bin size is taken as below\n",
    "#print(belize_airbnb_df['reviews_per_month'].value_counts().head(10))\n",
    "bins = np.arange(0,6,0.5)\n",
    "ax[0].hist(x=\"reviews_per_month\",data=belize_airbnb_df,bins=bins,color='orange',alpha=0.9,rwidth=0.85)\n",
    "ax[0].set_xlabel(\"Reviews per month\")\n",
    "\n",
    "##Looking at the data for number_of_reviews its spread is from 0 to 350 the most between 0 and 150 and hence including below binsize to show the spread\n",
    "#print(belize_airbnb_df['number_of_reviews'].value_counts().head(10))\n",
    "bins = np.arange(0,320,20)\n",
    "ax[1].hist(x=\"number_of_reviews\",data=belize_airbnb_df,bins=bins,color='pink',alpha=0.9,rwidth=0.65)\n",
    "ax[1].set_xlabel(\"Number of reviews\")\n",
    "plt.show()\n",
    "\n",
    "\n",
    "\n"
   ]
  },
  {
   "cell_type": "markdown",
   "metadata": {},
   "source": [
    "## 2. Create a box and whisker plot for availability_365. What does this show you?"
   ]
  },
  {
   "cell_type": "code",
   "execution_count": 385,
   "metadata": {},
   "outputs": [
    {
     "data": {
      "text/plain": [
       "Text(0.5, 0, 'Availability 365 ')"
      ]
     },
     "execution_count": 385,
     "metadata": {},
     "output_type": "execute_result"
    },
    {
     "data": {
      "image/png": "[encoded data removed]",
      "text/plain": [
       "<Figure size 576x360 with 1 Axes>"
      ]
     },
     "metadata": {
      "needs_background": "light"
     },
     "output_type": "display_data"
    }
   ],
   "source": [
    "plt.figure(figsize=(8,5))\n",
    "sns.boxplot(x=\"availability_365\",data=belize_airbnb_df,showfliers=False)\n",
    "plt.suptitle(\"365 days availability\")\n",
    "plt.xlabel(\"Availability 365 \")\n",
    "# Median availability is 350 days\n",
    "# Spread of availability is from min 1 day to max 365 days and shows the quartiles Q1- 25%,Q2-50% i.e median and Q3-75%"
   ]
  },
  {
   "cell_type": "markdown",
   "metadata": {},
   "source": [
    "## 3. What is the probablity that the price for an Airbnb is under 50\n",
    "#### Probability of price of an Airbnb under 50 is 1.75%\n",
    "* a. what to you notice about these records? Hint : look at the other columns\n",
    "     - Belize Mainland neighbourhood has minimum price i.e 20\n",
    "     - Orange walk neighbourhood has lowest listing count for price under 50\n",
    "     - Cayo neighbourhood has more probability of finding a listing under 50, it has high no of listing count.\n",
    "     \n",
    "* b. What distributions does this data most closely fit?\n",
    "    - Bimodal distribution. The two peaks in a bimodal distribution also represent two maximums one at 28 and other at 40; these are points where the data points stop increasing and start decreasing.\n",
    "\n"
   ]
  },
  {
   "cell_type": "code",
   "execution_count": 399,
   "metadata": {},
   "outputs": [
    {
     "name": "stdout",
     "output_type": "stream",
     "text": [
      "Probablity of price under $50: 1.7525035765379113\n"
     ]
    },
    {
     "data": {
      "text/html": [
       "<div>\n",
       "<style scoped>\n",
       "    .dataframe tbody tr th:only-of-type {\n",
       "        vertical-align: middle;\n",
       "    }\n",
       "\n",
       "    .dataframe tbody tr th {\n",
       "        vertical-align: top;\n",
       "    }\n",
       "\n",
       "    .dataframe thead th {\n",
       "        text-align: right;\n",
       "    }\n",
       "</style>\n",
       "<table border=\"1\" class=\"dataframe\">\n",
       "  <thead>\n",
       "    <tr style=\"text-align: right;\">\n",
       "      <th></th>\n",
       "      <th>price</th>\n",
       "      <th>calculated_host_listings_count</th>\n",
       "    </tr>\n",
       "    <tr>\n",
       "      <th>neighbourhood</th>\n",
       "      <th></th>\n",
       "      <th></th>\n",
       "    </tr>\n",
       "  </thead>\n",
       "  <tbody>\n",
       "    <tr>\n",
       "      <th>Belize Islands</th>\n",
       "      <td>39.000000</td>\n",
       "      <td>4</td>\n",
       "    </tr>\n",
       "    <tr>\n",
       "      <th>Belize Mainland</th>\n",
       "      <td>35.066667</td>\n",
       "      <td>15</td>\n",
       "    </tr>\n",
       "    <tr>\n",
       "      <th>Cayo</th>\n",
       "      <td>35.047619</td>\n",
       "      <td>21</td>\n",
       "    </tr>\n",
       "    <tr>\n",
       "      <th>Orange Walk</th>\n",
       "      <td>22.000000</td>\n",
       "      <td>1</td>\n",
       "    </tr>\n",
       "    <tr>\n",
       "      <th>Stann Creek Mainland</th>\n",
       "      <td>28.000000</td>\n",
       "      <td>6</td>\n",
       "    </tr>\n",
       "    <tr>\n",
       "      <th>Toledo Mainland</th>\n",
       "      <td>35.000000</td>\n",
       "      <td>2</td>\n",
       "    </tr>\n",
       "  </tbody>\n",
       "</table>\n",
       "</div>"
      ],
      "text/plain": [
       "                          price  calculated_host_listings_count\n",
       "neighbourhood                                                  \n",
       "Belize Islands        39.000000                               4\n",
       "Belize Mainland       35.066667                              15\n",
       "Cayo                  35.047619                              21\n",
       "Orange Walk           22.000000                               1\n",
       "Stann Creek Mainland  28.000000                               6\n",
       "Toledo Mainland       35.000000                               2"
      ]
     },
     "execution_count": 399,
     "metadata": {},
     "output_type": "execute_result"
    }
   ],
   "source": [
    "## find probablity of airbnb under 50\n",
    "price_under50 = belize_airbnb_df[belize_airbnb_df['price']<50]\n",
    "## divide no.of under rows of under 50 df with total no. of rows from belize airbnb df\n",
    "prob = (100 *price_under50.shape[0])/belize_airbnb_df.shape[0]\n",
    "print(\"Probablity of price under $50:\",prob)\n",
    "\n",
    "#a. what to you notice about these records?\n",
    "price_under50.groupby('neighbourhood').agg({'price':'mean','calculated_host_listings_count':'count'})"
   ]
  },
  {
   "cell_type": "code",
   "execution_count": 384,
   "metadata": {},
   "outputs": [
    {
     "name": "stderr",
     "output_type": "stream",
     "text": [
      "C:\\Ananonda3\\lib\\site-packages\\seaborn\\distributions.py:2551: FutureWarning: `distplot` is a deprecated function and will be removed in a future version. Please adapt your code to use either `displot` (a figure-level function with similar flexibility) or `histplot` (an axes-level function for histograms).\n",
      "  warnings.warn(msg, FutureWarning)\n"
     ]
    },
    {
     "data": {
      "image/png": "[encoded data removed]",
      "text/plain": [
       "<Figure size 432x288 with 1 Axes>"
      ]
     },
     "metadata": {
      "needs_background": "light"
     },
     "output_type": "display_data"
    }
   ],
   "source": [
    "#b. What distributions does this data most closely fit?\n",
    "#Plot probability distribution for price under 50\n",
    "sns.distplot(price_under50['price'])\n",
    "plt.suptitle(\"Distribution of price under 50\")\n",
    "plt.xlabel('Price under 50')\n",
    "plt.show()"
   ]
  },
  {
   "cell_type": "markdown",
   "metadata": {},
   "source": [
    "## 4. Calculate the sample variance and standard deviation for all the numerical columns in the same output.\n",
    "* a. Why the sample variance and not population variance?\n",
    "    - This data is not the entire population from belize airbnb. Its the subset of population. It is not always possible to get the whole population data. Inferences can be made from sample population to predict about entire population.\n",
    "    - pd.DataFrame.std degree of freedom is 1 by default also known as sample standard deviation\n",
    "    - numpy.std assumes 0 as degree of freedom also known as population standard deviation\n",
    "* b. What is your takeaway for each metric?\n",
    "    - count  - There are 2796 records in belize airbnb dataframe loaded from csv file\n",
    "    - mean   - average price in the belize airbnb listing is 357.10\n",
    "    - std    - sample standard deviation 563.12\n",
    "    - min    - minimum price in belize airbnb listing is 20\n",
    "    - 25%    - minimum_nights is 1\n",
    "    - 50%    - median price is 220\n",
    "    - 75%    - minimum_nights between 1 and 3\n",
    "    - max    - maximum price in belize airbnb listing is 11788\n",
    "    \n",
    "    - Most people book atleast for minimum 3 night ;\n",
    "    - 75% listing are available for more than 360 days\n",
    "    - people who book more than 3 nights tend to write reviews more often\n",
    "* c. What are the scales of measurement for each of these values? - Quantitative data\n",
    "    - Price                     - Ratio    - Range from min of 20 to max of 11788.\n",
    "    - minimum_nights            - Ratio\n",
    "    - number_of_reviews         - Ratio    - Range from min of 0 to 316\n",
    "    - reviews_per_month         - Ratio    - Range from 0 to 6 , \n",
    "    - calculated_host_listings  - Ratio\n",
    "    - availability_365          - Ratio\n",
    "    - Id                        - Ordinal\n",
    "    - host_id                   - Ordinal\n",
    "    - longitude                 - Interval\n",
    "    - lattitude                 - Interval"
   ]
  },
  {
   "cell_type": "code",
   "execution_count": 402,
   "metadata": {},
   "outputs": [
    {
     "data": {
      "text/html": [
       "<div>\n",
       "<style scoped>\n",
       "    .dataframe tbody tr th:only-of-type {\n",
       "        vertical-align: middle;\n",
       "    }\n",
       "\n",
       "    .dataframe tbody tr th {\n",
       "        vertical-align: top;\n",
       "    }\n",
       "\n",
       "    .dataframe thead th {\n",
       "        text-align: right;\n",
       "    }\n",
       "</style>\n",
       "<table border=\"1\" class=\"dataframe\">\n",
       "  <thead>\n",
       "    <tr style=\"text-align: right;\">\n",
       "      <th></th>\n",
       "      <th>id</th>\n",
       "      <th>host_id</th>\n",
       "      <th>latitude</th>\n",
       "      <th>longitude</th>\n",
       "      <th>price</th>\n",
       "      <th>minimum_nights</th>\n",
       "      <th>number_of_reviews</th>\n",
       "      <th>reviews_per_month</th>\n",
       "      <th>calculated_host_listings_count</th>\n",
       "      <th>availability_365</th>\n",
       "    </tr>\n",
       "  </thead>\n",
       "  <tbody>\n",
       "    <tr>\n",
       "      <th>count</th>\n",
       "      <td>2.796000e+03</td>\n",
       "      <td>2.796000e+03</td>\n",
       "      <td>2796.000000</td>\n",
       "      <td>2796.000000</td>\n",
       "      <td>2796.000000</td>\n",
       "      <td>2796.000000</td>\n",
       "      <td>2796.000000</td>\n",
       "      <td>1810.000000</td>\n",
       "      <td>2796.000000</td>\n",
       "      <td>2796.000000</td>\n",
       "    </tr>\n",
       "    <tr>\n",
       "      <th>mean</th>\n",
       "      <td>2.792490e+07</td>\n",
       "      <td>1.240278e+08</td>\n",
       "      <td>17.448295</td>\n",
       "      <td>-88.292035</td>\n",
       "      <td>357.102289</td>\n",
       "      <td>2.263948</td>\n",
       "      <td>14.453505</td>\n",
       "      <td>0.538088</td>\n",
       "      <td>22.848355</td>\n",
       "      <td>280.315451</td>\n",
       "    </tr>\n",
       "    <tr>\n",
       "      <th>std</th>\n",
       "      <td>1.288964e+07</td>\n",
       "      <td>1.018001e+08</td>\n",
       "      <td>0.537440</td>\n",
       "      <td>0.383876</td>\n",
       "      <td>563.124825</td>\n",
       "      <td>5.669843</td>\n",
       "      <td>30.327768</td>\n",
       "      <td>0.662154</td>\n",
       "      <td>51.711183</td>\n",
       "      <td>120.617632</td>\n",
       "    </tr>\n",
       "    <tr>\n",
       "      <th>min</th>\n",
       "      <td>3.666600e+04</td>\n",
       "      <td>1.507890e+05</td>\n",
       "      <td>16.079260</td>\n",
       "      <td>-89.150680</td>\n",
       "      <td>20.000000</td>\n",
       "      <td>1.000000</td>\n",
       "      <td>0.000000</td>\n",
       "      <td>0.010000</td>\n",
       "      <td>1.000000</td>\n",
       "      <td>0.000000</td>\n",
       "    </tr>\n",
       "    <tr>\n",
       "      <th>25%</th>\n",
       "      <td>1.870854e+07</td>\n",
       "      <td>4.389292e+07</td>\n",
       "      <td>17.129573</td>\n",
       "      <td>-88.371015</td>\n",
       "      <td>135.000000</td>\n",
       "      <td>1.000000</td>\n",
       "      <td>0.000000</td>\n",
       "      <td>0.110000</td>\n",
       "      <td>2.000000</td>\n",
       "      <td>221.000000</td>\n",
       "    </tr>\n",
       "    <tr>\n",
       "      <th>50%</th>\n",
       "      <td>2.891586e+07</td>\n",
       "      <td>9.171577e+07</td>\n",
       "      <td>17.735145</td>\n",
       "      <td>-88.205560</td>\n",
       "      <td>220.000000</td>\n",
       "      <td>2.000000</td>\n",
       "      <td>2.000000</td>\n",
       "      <td>0.275000</td>\n",
       "      <td>6.000000</td>\n",
       "      <td>349.000000</td>\n",
       "    </tr>\n",
       "    <tr>\n",
       "      <th>75%</th>\n",
       "      <td>3.977962e+07</td>\n",
       "      <td>1.875677e+08</td>\n",
       "      <td>17.913837</td>\n",
       "      <td>-87.973793</td>\n",
       "      <td>394.250000</td>\n",
       "      <td>3.000000</td>\n",
       "      <td>13.000000</td>\n",
       "      <td>0.700000</td>\n",
       "      <td>14.000000</td>\n",
       "      <td>364.000000</td>\n",
       "    </tr>\n",
       "    <tr>\n",
       "      <th>max</th>\n",
       "      <td>4.833222e+07</td>\n",
       "      <td>3.890334e+08</td>\n",
       "      <td>18.468140</td>\n",
       "      <td>-87.593140</td>\n",
       "      <td>11788.000000</td>\n",
       "      <td>180.000000</td>\n",
       "      <td>316.000000</td>\n",
       "      <td>5.920000</td>\n",
       "      <td>204.000000</td>\n",
       "      <td>365.000000</td>\n",
       "    </tr>\n",
       "  </tbody>\n",
       "</table>\n",
       "</div>"
      ],
      "text/plain": [
       "                 id       host_id     latitude    longitude         price  \\\n",
       "count  2.796000e+03  2.796000e+03  2796.000000  2796.000000   2796.000000   \n",
       "mean   2.792490e+07  1.240278e+08    17.448295   -88.292035    357.102289   \n",
       "std    1.288964e+07  1.018001e+08     0.537440     0.383876    563.124825   \n",
       "min    3.666600e+04  1.507890e+05    16.079260   -89.150680     20.000000   \n",
       "25%    1.870854e+07  4.389292e+07    17.129573   -88.371015    135.000000   \n",
       "50%    2.891586e+07  9.171577e+07    17.735145   -88.205560    220.000000   \n",
       "75%    3.977962e+07  1.875677e+08    17.913837   -87.973793    394.250000   \n",
       "max    4.833222e+07  3.890334e+08    18.468140   -87.593140  11788.000000   \n",
       "\n",
       "       minimum_nights  number_of_reviews  reviews_per_month  \\\n",
       "count     2796.000000        2796.000000        1810.000000   \n",
       "mean         2.263948          14.453505           0.538088   \n",
       "std          5.669843          30.327768           0.662154   \n",
       "min          1.000000           0.000000           0.010000   \n",
       "25%          1.000000           0.000000           0.110000   \n",
       "50%          2.000000           2.000000           0.275000   \n",
       "75%          3.000000          13.000000           0.700000   \n",
       "max        180.000000         316.000000           5.920000   \n",
       "\n",
       "       calculated_host_listings_count  availability_365  \n",
       "count                     2796.000000       2796.000000  \n",
       "mean                        22.848355        280.315451  \n",
       "std                         51.711183        120.617632  \n",
       "min                          1.000000          0.000000  \n",
       "25%                          2.000000        221.000000  \n",
       "50%                          6.000000        349.000000  \n",
       "75%                         14.000000        364.000000  \n",
       "max                        204.000000        365.000000  "
      ]
     },
     "metadata": {},
     "output_type": "display_data"
    },
    {
     "name": "stdout",
     "output_type": "stream",
     "text": [
      "30.32234403539402\n",
      "30.32234403539402\n"
     ]
    }
   ],
   "source": [
    "#4. Calculate the sample variance and standard deviation for all the numerical columns in the same output\n",
    "display(belize_airbnb_df.describe())\n",
    "\n",
    "#4 a.\n",
    "#np.std ddof is 0 by default - population standard deviation\n",
    "print(np.std(belize_airbnb_df[\"number_of_reviews\"]))\n",
    "\n",
    "#pandas std with ddof=0 - population standard deviation\n",
    "print(belize_airbnb_df[\"number_of_reviews\"].std(ddof=0))\n",
    "\n",
    "#Pandas ddof is 1 by default - sample standard deviation, please see describe() outout\n"
   ]
  },
  {
   "cell_type": "markdown",
   "metadata": {},
   "source": [
    "## 5. What percent of Airbnb listings in Belize are available 360 days a year or more? \n",
    "#### 39.52% probability that Airbnb listings in Belize are available 360 days a year or more\n",
    "\n",
    "* a. 360 days or less\n",
    "    - 61.55%\n",
    "* b. What distribution does this data most closely fit? \n",
    "    - left skewed distribution for available 360 days a year or more\n",
    "    - Multimodal distribution(i.e more than one peak) for available 360 days a year or less"
   ]
  },
  {
   "cell_type": "code",
   "execution_count": 373,
   "metadata": {},
   "outputs": [
    {
     "name": "stdout",
     "output_type": "stream",
     "text": [
      "0.3952074391988555\n"
     ]
    },
    {
     "data": {
      "image/png": "[encoded data removed]",
      "text/plain": [
       "<Figure size 432x288 with 1 Axes>"
      ]
     },
     "metadata": {
      "needs_background": "light"
     },
     "output_type": "display_data"
    }
   ],
   "source": [
    "#5.Probablity of listing available 360 days or more a year\n",
    "avail360_df = belize_airbnb_df.loc[belize_airbnb_df[\"availability_365\"]>=360]\n",
    "prob_avail360 = avail360_df.shape[0]/belize_airbnb_df.shape[0]\n",
    "print(prob_avail360)\n",
    "\n",
    "# distribution\n",
    "sns.histplot(x='availability_365',data=avail360_df,kde=True)\n",
    "plt.suptitle(\"Distribution of availability 360 days or more\")\n",
    "plt.xlabel('Availability 360 days or more')\n",
    "plt.show()"
   ]
  },
  {
   "cell_type": "code",
   "execution_count": 378,
   "metadata": {},
   "outputs": [
    {
     "name": "stdout",
     "output_type": "stream",
     "text": [
      "0.6155221745350501\n"
     ]
    },
    {
     "data": {
      "image/png": "[encoded data removed]",
      "text/plain": [
       "<Figure size 432x288 with 1 Axes>"
      ]
     },
     "metadata": {
      "needs_background": "light"
     },
     "output_type": "display_data"
    }
   ],
   "source": [
    "#5a. 360 days or less\n",
    "avail360less_df = belize_airbnb_df.loc[belize_airbnb_df[\"availability_365\"]<=360]\n",
    "prob_avail360less = avail360less_df.shape[0]/belize_airbnb_df.shape[0]\n",
    "print(prob_avail360less)\n",
    "\n",
    "#distplot is getting deprecated, hence using kdeplot to display the distribution\n",
    "sns.kdeplot(avail360less_df['availability_365'])\n",
    "plt.suptitle(\"Distribution of availability 360 days or less\")\n",
    "plt.xlabel('Availability 360 days or less')\n",
    "plt.show()"
   ]
  },
  {
   "cell_type": "markdown",
   "metadata": {},
   "source": [
    "## 6. What minimum night count are 75% of Airbnb listing in Belize greater than?\n",
    "    - The minimum night stay that is below 75% of all the other required minimum nights is 1 as shown by calculation,boxplot and  describe()\n",
    "\n",
    "\n"
   ]
  },
  {
   "cell_type": "code",
   "execution_count": 395,
   "metadata": {},
   "outputs": [
    {
     "name": "stdout",
     "output_type": "stream",
     "text": [
      "1.0\n",
      "3.0\n"
     ]
    },
    {
     "data": {
      "image/png": "[encoded data removed]",
      "text/plain": [
       "<Figure size 432x288 with 1 Axes>"
      ]
     },
     "metadata": {
      "needs_background": "light"
     },
     "output_type": "display_data"
    }
   ],
   "source": [
    "#6. 75% of minimum_night count are greater than 1\n",
    "\n",
    "# first quartile 25%\n",
    "q1 = np.quantile(belize_airbnb_df['minimum_nights'],0.25)\n",
    "print(q1)\n",
    "\n",
    "# Third quartile 75%\n",
    "q3 = np.quantile(belize_airbnb_df['minimum_nights'],0.75)\n",
    "print(q3)\n",
    "\n",
    "#start of the box shows 1st quartile, i.e 25%, end of the box shows 3rd quartile i.e 75%\n",
    "sns.boxplot(x='minimum_nights',data=belize_airbnb_df,showfliers=False)\n",
    "plt.suptitle(\"Belize minimum nights distribution\")\n",
    "plt.xlabel('Minimum nights')\n",
    "plt.show()"
   ]
  },
  {
   "cell_type": "code",
   "execution_count": 312,
   "metadata": {},
   "outputs": [
    {
     "data": {
      "text/plain": [
       "count    2796.000000\n",
       "mean        2.263948\n",
       "std         5.669843\n",
       "min         1.000000\n",
       "25%         1.000000\n",
       "50%         2.000000\n",
       "75%         3.000000\n",
       "max       180.000000\n",
       "Name: minimum_nights, dtype: float64"
      ]
     },
     "execution_count": 312,
     "metadata": {},
     "output_type": "execute_result"
    }
   ],
   "source": [
    " belize_airbnb_df['minimum_nights'].describe()"
   ]
  },
  {
   "cell_type": "code",
   "execution_count": null,
   "metadata": {},
   "outputs": [],
   "source": []
  }
 ],
 "metadata": {
  "kernelspec": {
   "display_name": "Python 3",
   "language": "python",
   "name": "python3"
  },
  "language_info": {
   "codemirror_mode": {
    "name": "ipython",
    "version": 3
   },
   "file_extension": ".py",
   "mimetype": "text/x-python",
   "name": "python",
   "nbconvert_exporter": "python",
   "pygments_lexer": "ipython3",
   "version": "3.8.5"
  }
 },
 "nbformat": 4,
 "nbformat_minor": 4
}
