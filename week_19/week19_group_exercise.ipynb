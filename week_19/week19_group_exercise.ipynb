{
 "cells": [
  {
   "cell_type": "markdown",
   "metadata": {},
   "source": [
    "## 1. Take one of the supervised learning models you have built recently and apply at least\n",
    "three dimensionality reduction techniques to it (separately). Be sure to create a short\n",
    "summary of each technique you use. Indicate how each changed the model\n",
    "performance. Reference:\n",
    "https://machinelearningmastery.com/dimensionality-reduction-algorithms-with-python/\n"
   ]
  },
  {
   "cell_type": "code",
   "execution_count": 1,
   "metadata": {},
   "outputs": [],
   "source": [
    "import warnings\n",
    "warnings.filterwarnings('ignore')\n",
    "import matplotlib.pyplot as plt\n",
    "import seaborn as sns\n",
    "import numpy as np\n",
    "import pandas as pd"
   ]
  },
  {
   "cell_type": "code",
   "execution_count": 2,
   "metadata": {},
   "outputs": [],
   "source": [
    "#sklearn\n",
    "from sklearn.model_selection import train_test_split\n",
    "from sklearn.preprocessing import StandardScaler\n",
    "from sklearn.metrics import (mean_squared_error,r2_score)"
   ]
  },
  {
   "cell_type": "code",
   "execution_count": 3,
   "metadata": {},
   "outputs": [],
   "source": [
    "#keras\n",
    "import keras\n",
    "from keras.layers import Dense\n",
    "from keras.models import Sequential\n",
    "from keras.utils import to_categorical\n",
    "from keras.callbacks import EarlyStopping"
   ]
  },
  {
   "cell_type": "code",
   "execution_count": 4,
   "metadata": {},
   "outputs": [],
   "source": [
    "#function to calculate root mean squared error\n",
    "def rmse(y_true, y_pred):\n",
    "    return np.sqrt(mean_squared_error(y_true, y_pred))"
   ]
  },
  {
   "cell_type": "markdown",
   "metadata": {},
   "source": [
    "### Load abalone dataset"
   ]
  },
  {
   "cell_type": "code",
   "execution_count": 5,
   "metadata": {},
   "outputs": [],
   "source": [
    "column_list = ['Sex','Length','Diameter','Height','Whole weight','Shucked weight','Viscera weight','Shell weight','Rings']\n",
    "abalone_df = pd.read_table(\"../week_17/abalone.data\",sep=\",\",header=None,names=column_list)\n",
    "abalone_copy_df = abalone_df.copy()"
   ]
  },
  {
   "cell_type": "markdown",
   "metadata": {},
   "source": [
    "### Remove outliers"
   ]
  },
  {
   "cell_type": "code",
   "execution_count": 6,
   "metadata": {},
   "outputs": [
    {
     "data": {
      "text/html": [
       "<div>\n",
       "<style scoped>\n",
       "    .dataframe tbody tr th:only-of-type {\n",
       "        vertical-align: middle;\n",
       "    }\n",
       "\n",
       "    .dataframe tbody tr th {\n",
       "        vertical-align: top;\n",
       "    }\n",
       "\n",
       "    .dataframe thead th {\n",
       "        text-align: right;\n",
       "    }\n",
       "</style>\n",
       "<table border=\"1\" class=\"dataframe\">\n",
       "  <thead>\n",
       "    <tr style=\"text-align: right;\">\n",
       "      <th></th>\n",
       "      <th>Sex</th>\n",
       "      <th>Length</th>\n",
       "      <th>Diameter</th>\n",
       "      <th>Height</th>\n",
       "      <th>Whole weight</th>\n",
       "      <th>Shucked weight</th>\n",
       "      <th>Viscera weight</th>\n",
       "      <th>Shell weight</th>\n",
       "      <th>Rings</th>\n",
       "    </tr>\n",
       "  </thead>\n",
       "  <tbody>\n",
       "    <tr>\n",
       "      <th>0</th>\n",
       "      <td>M</td>\n",
       "      <td>0.455</td>\n",
       "      <td>0.365</td>\n",
       "      <td>0.095</td>\n",
       "      <td>0.5140</td>\n",
       "      <td>0.2245</td>\n",
       "      <td>0.1010</td>\n",
       "      <td>0.1500</td>\n",
       "      <td>15</td>\n",
       "    </tr>\n",
       "    <tr>\n",
       "      <th>1</th>\n",
       "      <td>M</td>\n",
       "      <td>0.350</td>\n",
       "      <td>0.265</td>\n",
       "      <td>0.090</td>\n",
       "      <td>0.2255</td>\n",
       "      <td>0.0995</td>\n",
       "      <td>0.0485</td>\n",
       "      <td>0.0700</td>\n",
       "      <td>7</td>\n",
       "    </tr>\n",
       "    <tr>\n",
       "      <th>2</th>\n",
       "      <td>F</td>\n",
       "      <td>0.530</td>\n",
       "      <td>0.420</td>\n",
       "      <td>0.135</td>\n",
       "      <td>0.6770</td>\n",
       "      <td>0.2565</td>\n",
       "      <td>0.1415</td>\n",
       "      <td>0.2100</td>\n",
       "      <td>9</td>\n",
       "    </tr>\n",
       "    <tr>\n",
       "      <th>3</th>\n",
       "      <td>M</td>\n",
       "      <td>0.440</td>\n",
       "      <td>0.365</td>\n",
       "      <td>0.125</td>\n",
       "      <td>0.5160</td>\n",
       "      <td>0.2155</td>\n",
       "      <td>0.1140</td>\n",
       "      <td>0.1550</td>\n",
       "      <td>10</td>\n",
       "    </tr>\n",
       "    <tr>\n",
       "      <th>4</th>\n",
       "      <td>I</td>\n",
       "      <td>0.330</td>\n",
       "      <td>0.255</td>\n",
       "      <td>0.080</td>\n",
       "      <td>0.2050</td>\n",
       "      <td>0.0895</td>\n",
       "      <td>0.0395</td>\n",
       "      <td>0.0550</td>\n",
       "      <td>7</td>\n",
       "    </tr>\n",
       "    <tr>\n",
       "      <th>...</th>\n",
       "      <td>...</td>\n",
       "      <td>...</td>\n",
       "      <td>...</td>\n",
       "      <td>...</td>\n",
       "      <td>...</td>\n",
       "      <td>...</td>\n",
       "      <td>...</td>\n",
       "      <td>...</td>\n",
       "      <td>...</td>\n",
       "    </tr>\n",
       "    <tr>\n",
       "      <th>4172</th>\n",
       "      <td>F</td>\n",
       "      <td>0.565</td>\n",
       "      <td>0.450</td>\n",
       "      <td>0.165</td>\n",
       "      <td>0.8870</td>\n",
       "      <td>0.3700</td>\n",
       "      <td>0.2390</td>\n",
       "      <td>0.2490</td>\n",
       "      <td>11</td>\n",
       "    </tr>\n",
       "    <tr>\n",
       "      <th>4173</th>\n",
       "      <td>M</td>\n",
       "      <td>0.590</td>\n",
       "      <td>0.440</td>\n",
       "      <td>0.135</td>\n",
       "      <td>0.9660</td>\n",
       "      <td>0.4390</td>\n",
       "      <td>0.2145</td>\n",
       "      <td>0.2605</td>\n",
       "      <td>10</td>\n",
       "    </tr>\n",
       "    <tr>\n",
       "      <th>4174</th>\n",
       "      <td>M</td>\n",
       "      <td>0.600</td>\n",
       "      <td>0.475</td>\n",
       "      <td>0.205</td>\n",
       "      <td>1.1760</td>\n",
       "      <td>0.5255</td>\n",
       "      <td>0.2875</td>\n",
       "      <td>0.3080</td>\n",
       "      <td>9</td>\n",
       "    </tr>\n",
       "    <tr>\n",
       "      <th>4175</th>\n",
       "      <td>F</td>\n",
       "      <td>0.625</td>\n",
       "      <td>0.485</td>\n",
       "      <td>0.150</td>\n",
       "      <td>1.0945</td>\n",
       "      <td>0.5310</td>\n",
       "      <td>0.2610</td>\n",
       "      <td>0.2960</td>\n",
       "      <td>10</td>\n",
       "    </tr>\n",
       "    <tr>\n",
       "      <th>4176</th>\n",
       "      <td>M</td>\n",
       "      <td>0.710</td>\n",
       "      <td>0.555</td>\n",
       "      <td>0.195</td>\n",
       "      <td>1.9485</td>\n",
       "      <td>0.9455</td>\n",
       "      <td>0.3765</td>\n",
       "      <td>0.4950</td>\n",
       "      <td>12</td>\n",
       "    </tr>\n",
       "  </tbody>\n",
       "</table>\n",
       "<p>4027 rows × 9 columns</p>\n",
       "</div>"
      ],
      "text/plain": [
       "     Sex  Length  Diameter  Height  Whole weight  Shucked weight  \\\n",
       "0      M   0.455     0.365   0.095        0.5140          0.2245   \n",
       "1      M   0.350     0.265   0.090        0.2255          0.0995   \n",
       "2      F   0.530     0.420   0.135        0.6770          0.2565   \n",
       "3      M   0.440     0.365   0.125        0.5160          0.2155   \n",
       "4      I   0.330     0.255   0.080        0.2050          0.0895   \n",
       "...   ..     ...       ...     ...           ...             ...   \n",
       "4172   F   0.565     0.450   0.165        0.8870          0.3700   \n",
       "4173   M   0.590     0.440   0.135        0.9660          0.4390   \n",
       "4174   M   0.600     0.475   0.205        1.1760          0.5255   \n",
       "4175   F   0.625     0.485   0.150        1.0945          0.5310   \n",
       "4176   M   0.710     0.555   0.195        1.9485          0.9455   \n",
       "\n",
       "      Viscera weight  Shell weight  Rings  \n",
       "0             0.1010        0.1500     15  \n",
       "1             0.0485        0.0700      7  \n",
       "2             0.1415        0.2100      9  \n",
       "3             0.1140        0.1550     10  \n",
       "4             0.0395        0.0550      7  \n",
       "...              ...           ...    ...  \n",
       "4172          0.2390        0.2490     11  \n",
       "4173          0.2145        0.2605     10  \n",
       "4174          0.2875        0.3080      9  \n",
       "4175          0.2610        0.2960     10  \n",
       "4176          0.3765        0.4950     12  \n",
       "\n",
       "[4027 rows x 9 columns]"
      ]
     },
     "execution_count": 6,
     "metadata": {},
     "output_type": "execute_result"
    }
   ],
   "source": [
    "from scipy import stats\n",
    "z = np.abs(stats.zscore(abalone_df.drop('Sex',axis=1)))  \n",
    "threshold = 3\n",
    "abalone_df = abalone_df[(z < 3).all(axis=1)]    \n",
    "abalone_df"
   ]
  },
  {
   "cell_type": "markdown",
   "metadata": {},
   "source": [
    "### Label encode Sex column"
   ]
  },
  {
   "cell_type": "code",
   "execution_count": 7,
   "metadata": {},
   "outputs": [],
   "source": [
    "from sklearn.preprocessing import LabelEncoder\n",
    "\n",
    "le=LabelEncoder()\n",
    "\n",
    "abalone_df['Sex_E']=le.fit_transform(abalone_df['Sex'])\n",
    "\n",
    "# Drop sex variable after encoding:\n",
    "abalone_df.drop('Sex',axis=1,inplace=True)"
   ]
  },
  {
   "cell_type": "markdown",
   "metadata": {},
   "source": [
    "### train test split and standardize training data"
   ]
  },
  {
   "cell_type": "code",
   "execution_count": 8,
   "metadata": {},
   "outputs": [],
   "source": [
    "#Set X as all the features except Rings and Ring label and y as target i,e Rings\n",
    "X = abalone_df.drop(['Rings'], axis=1).values\n",
    "#X = abalone_df[['Shell weight','Length','Height','Sex_F','Sex_I']].values \n",
    "y = abalone_df['Rings'].values\n",
    "\n",
    "# Split into training and test set\n",
    "X_train, X_test, y_train, y_test = train_test_split(X, y, test_size = 0.25, random_state=42) #, stratify=y)\n",
    "\n",
    "# #Standardize\n",
    "sc= StandardScaler()\n",
    "X_train=sc.fit_transform(X_train)\n",
    "X_test=sc.fit_transform(X_test)"
   ]
  },
  {
   "cell_type": "markdown",
   "metadata": {},
   "source": [
    "### Run Keras model without dimentionality reduction\n",
    "- Test rmse :  1.943225067356561 Test MSE: 3.776123662402911\n",
    "- R2 score :  0.5376443001183294"
   ]
  },
  {
   "cell_type": "code",
   "execution_count": 9,
   "metadata": {},
   "outputs": [
    {
     "name": "stdout",
     "output_type": "stream",
     "text": [
      "Test rmse :  1.943225067356561 Test MSE: 3.776123662402911\n",
      "R2 score :  0.5376443001183294\n"
     ]
    }
   ],
   "source": [
    "\n",
    "n_cols = X_train.shape[1]\n",
    "\n",
    "model = Sequential()\n",
    "model.add(Dense(units=10, input_dim=n_cols,activation='relu'))\n",
    "model.add(Dense(10, activation='relu'))\n",
    "model.add(Dense(10, activation='relu'))\n",
    "model.add(Dense(units=1,activation='linear'))\n",
    "model.compile(optimizer='adam', loss='mean_squared_error',  metrics=['mae','mse'])\n",
    " \n",
    "early_stop = keras.callbacks.EarlyStopping(monitor='val_loss', patience=10)\n",
    " \n",
    "history=model.fit(X_train,y_train,batch_size=5, validation_split = 0.2, callbacks=[early_stop], epochs=100,verbose=0)\n",
    " \n",
    "# Model summary for number of parameters use in the algorithm\n",
    "#model.summary()\n",
    "\n",
    "#Predict testing labels\n",
    " \n",
    "y_pred= model.predict(X_test)\n",
    "\n",
    "#print(\"Train rmse : \", rmse(y_train, y_pred), \"Train MSE:\",mean_squared_error(y_train,y_pred))\n",
    "print(\"Test rmse : \", rmse(y_test,y_pred), \"Test MSE:\",mean_squared_error(y_test, y_pred))\n",
    "print(\"R2 score : \",r2_score(y_test,y_pred))"
   ]
  },
  {
   "cell_type": "markdown",
   "metadata": {},
   "source": [
    "# Dimentionality reduction techniques - applying on abalone dataset and keras model"
   ]
  },
  {
   "cell_type": "markdown",
   "metadata": {},
   "source": [
    "### 1. SVD - Singular Value Decomposition\n",
    "SVD is a dimentionality reduction technique used for sparse data(with most zero values). SVD is a technique from Linear Algebra. This is also called as feature projection and the algorithms used are referred to as projection methods. Projection methods seek to reduce the number of dimensions in the feature space while also preserving the most important structure or relationships between the variables observed in the data.\n",
    "\n",
    "Examples of sparse data approriate for applying SVD are recommender systems ,customer-product purchases, user-movie Ratings\n",
    "\n",
    "The skearn library has TrancatedSVD library to do SVD. You can set n_components to set number of features to be transformed into.\n",
    "\n",
    "These the values after doing SVD. There is no improvement in the performance.\n",
    "- Test rmse :  2.157681384112996 Test MSE: 4.655588955347773\n",
    "- R2 score :  0.4299609117034472"
   ]
  },
  {
   "cell_type": "code",
   "execution_count": 10,
   "metadata": {},
   "outputs": [
    {
     "name": "stdout",
     "output_type": "stream",
     "text": [
      "Test rmse :  2.157681384112996 Test MSE: 4.655588955347773\n",
      "R2 score :  0.4299609117034472\n"
     ]
    }
   ],
   "source": [
    "from sklearn.decomposition import TruncatedSVD\n",
    "\n",
    "svd = TruncatedSVD(n_components=3)\n",
    "\n",
    "X_train_svd=svd.fit_transform(X_train)\n",
    "X_test_svd=svd.fit_transform(X_test)\n",
    "\n",
    "n_cols = X_train_svd.shape[1]\n",
    "input_shape = (n_cols,)\n",
    "\n",
    "model = Sequential()\n",
    "model.add(Dense(units=10, input_dim=n_cols,activation='relu'))\n",
    "model.add(Dense(10, activation='relu'))\n",
    "model.add(Dense(10, activation='relu'))\n",
    "model.add(Dense(units=1,activation='linear'))\n",
    "model.compile(optimizer='adam', loss='mean_squared_error',  metrics=['mae','mse'])\n",
    " \n",
    "early_stop = keras.callbacks.EarlyStopping(monitor='val_loss', patience=10)\n",
    " \n",
    "history=model.fit(X_train_svd,y_train,batch_size=5, validation_split = 0.2, callbacks=[early_stop], epochs=100,verbose=0)\n",
    " \n",
    "# Model summary for number of parameters use in the algorithm\n",
    "#model.summary()\n",
    " \n",
    "y_pred= model.predict(X_test_svd)\n",
    "#print(\"Train rmse : \", rmse(y_train, y_pred), \"Train MSE:\",mean_squared_error(y_train,y_pred))\n",
    "print(\"Test rmse : \", rmse(y_test,y_pred), \"Test MSE:\",mean_squared_error(y_test, y_pred))\n",
    "print(\"R2 score : \",r2_score(y_test,y_pred))"
   ]
  },
  {
   "cell_type": "markdown",
   "metadata": {},
   "source": [
    "### 2. PCA - Principal Component Analysis\n",
    "PCA is a a popular technique for dimentionality reduction for dense data(with few zero values). using n_components to decide number of features to be transformed into.The new transformed features are called Principal components.\n",
    "\n",
    "A principal component is a linear combination of the original variables.Principal components are extracted in such a way that the first principal component explains maximum variance in the dataset.Second principal component tries to explain the remaining variance in the dataset and is uncorrelated to the first principal component.Third principal component tries to explain the variance which is not explained by the first two principal components and so on.\n",
    "\n",
    "These are the values after doing PCA. There is no improvement in RMSE value.\n",
    "- Test rmse :  2.1711020596125405 Test MSE: 4.7136841532538165\n",
    "- R2 score :  0.4228476261521684"
   ]
  },
  {
   "cell_type": "code",
   "execution_count": 11,
   "metadata": {},
   "outputs": [
    {
     "name": "stdout",
     "output_type": "stream",
     "text": [
      "Test rmse :  2.1711020596125405 Test MSE: 4.7136841532538165\n",
      "R2 score :  0.4228476261521684\n"
     ]
    }
   ],
   "source": [
    "from sklearn.decomposition import PCA\n",
    "\n",
    "pca = PCA(n_components=3)\n",
    "\n",
    "X_train_pca=pca.fit_transform(X_train)\n",
    "X_test_pca=pca.fit_transform(X_test)\n",
    "\n",
    "n_cols = X_train_svd.shape[1]\n",
    "input_shape = (n_cols,)\n",
    "\n",
    "model = Sequential()\n",
    "model.add(Dense(units=10, input_dim=n_cols,activation='relu'))\n",
    "model.add(Dense(10, activation='relu'))\n",
    "model.add(Dense(10, activation='relu'))\n",
    "model.add(Dense(units=1,activation='linear'))\n",
    "model.compile(optimizer='adam', loss='mean_squared_error',  metrics=['mae','mse'])\n",
    " \n",
    "early_stop = keras.callbacks.EarlyStopping(monitor='val_loss', patience=10)\n",
    " \n",
    "history=model.fit(X_train_pca,y_train,batch_size=5, validation_split = 0.2, callbacks=[early_stop], epochs=100,verbose=0)\n",
    " \n",
    "# Model summary for number of parameters use in the algorithm\n",
    "#model.summary()\n",
    " \n",
    "y_pred= model.predict(X_test_pca)\n",
    "#print(\"Train rmse : \", rmse(y_train, y_pred), \"Train MSE:\",mean_squared_error(y_train,y_pred))\n",
    "print(\"Test rmse : \", rmse(y_test,y_pred), \"Test MSE:\",mean_squared_error(y_test, y_pred))\n",
    "print(\"R2 score : \",r2_score(y_test,y_pred))"
   ]
  },
  {
   "cell_type": "markdown",
   "metadata": {},
   "source": [
    "### 3.Isomap Embedding\n",
    "Isomap, creates an embedding of the dataset to preserver the relationship of the dataset.\n",
    "\n",
    "Isomap tries to get lower dimension representation of data where points maintain geodesic distance between them like original representation. Scikit-learn provides an implementation of Isomap as a part of the manifold module.We can set n_components accepts integer value specifying number of features transformed dataset will have.default=2\n",
    "\n",
    "Wthout providing n_neighbors parameters, rmse was quiet high.\n",
    "These are the values after doing Isomap. There is no improvement in the RMSE value, in fact it has increased. \n",
    "- Test rmse :  3.406520363360927 Test MSE: 11.604380985992663\n",
    "- R2 score :  -0.4208622842234946"
   ]
  },
  {
   "cell_type": "code",
   "execution_count": 12,
   "metadata": {},
   "outputs": [
    {
     "name": "stdout",
     "output_type": "stream",
     "text": [
      "Test rmse :  3.406520363360927 Test MSE: 11.604380985992663\n",
      "R2 score :  -0.4208622842234946\n"
     ]
    }
   ],
   "source": [
    "from sklearn.manifold import Isomap\n",
    "\n",
    "imap = Isomap(n_neighbors=15,n_components=3)\n",
    "\n",
    "X_train_imap=imap.fit_transform(X_train)\n",
    "X_test_imap=imap.fit_transform(X_test)\n",
    "\n",
    "n_cols = X_train_imap.shape[1]\n",
    "input_shape = (n_cols,)\n",
    "\n",
    "model = Sequential()\n",
    "model.add(Dense(units=10, input_dim=n_cols,activation='relu'))\n",
    "model.add(Dense(10, activation='relu'))\n",
    "model.add(Dense(10, activation='relu'))\n",
    "model.add(Dense(units=1,activation='linear'))\n",
    "model.compile(optimizer='adam', loss='mean_squared_error',  metrics=['mae','mse'])\n",
    " \n",
    "early_stop = keras.callbacks.EarlyStopping(monitor='val_loss', patience=10)\n",
    " \n",
    "history=model.fit(X_train_imap,y_train,batch_size=5, validation_split = 0.2, callbacks=[early_stop], epochs=100,verbose=0)\n",
    " \n",
    "# Model summary for number of parameters use in the algorithm\n",
    "#model.summary()\n",
    " \n",
    "y_pred= model.predict(X_test_imap)\n",
    "#print(\"Train rmse : \", rmse(y_train, y_pred), \"Train MSE:\",mean_squared_error(y_train,y_pred))\n",
    "print(\"Test rmse : \", rmse(y_test,y_pred), \"Test MSE:\",mean_squared_error(y_test, y_pred))\n",
    "print(\"R2 score : \",r2_score(y_test,y_pred))"
   ]
  },
  {
   "cell_type": "markdown",
   "metadata": {},
   "source": [
    "### 4.Locally Linear Embedding\n",
    "Locally Linear Embedding, or LLE, creates an embedding of the dataset and attempts to preserve the relationships between neighborhoods in the dataset.\n",
    "\n",
    "LLE tries to find the lower-dimensional projection of data while maintaining distances within local neighborhood points. It can be viewed as applying a series of local PCAs that are then compared globally to find the most suited non-linear embedding.  Scikit-learn provides an estimator named LocallyLinearEmbedding as a part of the manifold module for performing Locally Linear Embedding on data. \n",
    "\n",
    "Wthout providing n_neighbors parameters, rmse was quiet high.\n",
    "These are the values after doing Locally Linear Embedding. There is no improvement in the RMSE value, in fact it has increased. \n",
    "- Test rmse :  3.409951787183732 Test MSE: 11.627771190917528\n",
    "- R2 score :  -0.42372622500914403"
   ]
  },
  {
   "cell_type": "code",
   "execution_count": 13,
   "metadata": {},
   "outputs": [
    {
     "name": "stdout",
     "output_type": "stream",
     "text": [
      "Test rmse :  3.409951787183732 Test MSE: 11.627771190917528\n",
      "R2 score :  -0.42372622500914403\n"
     ]
    }
   ],
   "source": [
    "from sklearn.manifold import LocallyLinearEmbedding\n",
    "lle = LocallyLinearEmbedding(n_neighbors=15,n_components=3)\n",
    "\n",
    "X_train_lle=lle.fit_transform(X_train)\n",
    "X_test_lle=lle.fit_transform(X_test)\n",
    "\n",
    "n_cols = X_train_lle.shape[1]\n",
    "input_shape = (n_cols,)\n",
    "\n",
    "model = Sequential()\n",
    "model.add(Dense(units=10, input_dim=n_cols,activation='relu'))\n",
    "model.add(Dense(10, activation='relu'))\n",
    "model.add(Dense(10, activation='relu'))\n",
    "model.add(Dense(units=1,activation='linear'))\n",
    "model.compile(optimizer='adam', loss='mean_squared_error',  metrics=['mae','mse'])\n",
    " \n",
    "early_stop = keras.callbacks.EarlyStopping(monitor='val_loss', patience=10)\n",
    " \n",
    "history=model.fit(X_train_lle,y_train,batch_size=5, validation_split = 0.2, callbacks=[early_stop], epochs=100,verbose=0)\n",
    " \n",
    "# Model summary for number of parameters use in the algorithm\n",
    "#model.summary()\n",
    " \n",
    "y_pred= model.predict(X_test_lle)\n",
    "#print(\"Train rmse : \", rmse(y_train, y_pred), \"Train MSE:\",mean_squared_error(y_train,y_pred))\n",
    "print(\"Test rmse : \", rmse(y_test,y_pred), \"Test MSE:\",mean_squared_error(y_test, y_pred))\n",
    "print(\"R2 score : \",r2_score(y_test,y_pred))\n"
   ]
  },
  {
   "cell_type": "markdown",
   "metadata": {},
   "source": [
    "## 2. Write a function that will indicate if an inputted IPv4 address is accurate or not.\n",
    "IP addresses are valid if they have 4 values between 0 and 255 (inclusive), punctuated\n",
    "by periods.\n",
    "- Input 1:\n",
    "    - 2.33.245.5\n",
    "- Output 1:\n",
    "    - True\n",
    "\n",
    "- Input 2:\n",
    "    - 12.345.67.89\n",
    "- Output 2:\n",
    "    - False"
   ]
  },
  {
   "cell_type": "code",
   "execution_count": 14,
   "metadata": {},
   "outputs": [],
   "source": [
    "def isIPv4Valid(ipv4):\n",
    "    #Split the string using period\n",
    "    ipv4_split = ipv4.split(\".\")\n",
    "    \n",
    "    #This takes care of if string has any other character than period then length of list after split will not be 4\n",
    "    if len(ipv4_split) == 4:\n",
    "        true_count = 0\n",
    "        for i in ipv4_split:\n",
    "            #Check if value is between 0 and 255 (inclusive)\n",
    "            if int(i)>=0 and int(i)<=255:\n",
    "                #increase true count by 1\n",
    "                true_count = true_count + 1\n",
    "                #print(i,true_count)\n",
    "        #If all the 4 values are between 0 and 255 (inclusive)\n",
    "        if true_count==4:\n",
    "            print(\"True\")\n",
    "        else:\n",
    "            print(\"False\")\n",
    "    else:\n",
    "        print(\"False\")\n",
    "    \n"
   ]
  },
  {
   "cell_type": "code",
   "execution_count": 15,
   "metadata": {},
   "outputs": [
    {
     "name": "stdout",
     "output_type": "stream",
     "text": [
      "True\n",
      "False\n",
      "True\n",
      "False\n",
      "True\n",
      "False\n",
      "False\n",
      "False\n"
     ]
    }
   ],
   "source": [
    "isIPv4Valid(\"2.33.245.5\")\n",
    "isIPv4Valid(\"12.345.67.89\")\n",
    "isIPv4Valid(\"212.45.67.189\")\n",
    "isIPv4Valid(\"1.45.567.0\")\n",
    "isIPv4Valid(\"0.0.0.0\")\n",
    "isIPv4Valid(\"456.768.656.434\")\n",
    "isIPv4Valid(\"1-35.78.254\")\n",
    "isIPv4Valid(\"0-21_134*42\")"
   ]
  },
  {
   "cell_type": "code",
   "execution_count": null,
   "metadata": {},
   "outputs": [],
   "source": []
  }
 ],
 "metadata": {
  "kernelspec": {
   "display_name": "Python 3",
   "language": "python",
   "name": "python3"
  },
  "language_info": {
   "codemirror_mode": {
    "name": "ipython",
    "version": 3
   },
   "file_extension": ".py",
   "mimetype": "text/x-python",
   "name": "python",
   "nbconvert_exporter": "python",
   "pygments_lexer": "ipython3",
   "version": "3.8.5"
  }
 },
 "nbformat": 4,
 "nbformat_minor": 4
}
