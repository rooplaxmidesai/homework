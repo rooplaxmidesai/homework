{
 "cells": [
  {
   "cell_type": "markdown",
   "metadata": {},
   "source": [
    "### 1. KNN\n",
    "What is KNN?\n",
    "K Nearest Neighbor is an algorithm that stores all the available cases and classifies the new data or case based on a similarity measure. K in KNN denotes the number of nearest neighbor which are voting to classify the new data or testing data. This machine learning module use a set of input values to predict output values.\n",
    "\n",
    "How do I choose K?\n",
    "- K= sqrt(total number of data points)\n",
    "- odd value of K is always selected to avoid confusion between 2 classes.\n",
    "\n",
    "When is KNN?\n",
    "- we have properly labeled data(If we are predicting someone is having diabetes or not the final label can be 1 or 0, it can not be NaN or -1)\n",
    "- Data is noise free(For the diabetes data we can not have Glucose levels as 0 or 100000)\n",
    "- small dataset\n",
    "\n",
    "How does KNN work?\n",
    "- Usually by calculating Euclidien distance to calculate the neartest neighbor. If we have two points (x1,y1)and (x2,y2). The formula is\n",
    "$$d = \\sqrt {\\left( {x_1 - x_2 } \\right)^2 + \\left( {y_1 - y_2 } \\right)^2 }$$\n",
    "\n",
    "\n",
    "We try to get the smallest Euclidean distance and based on th enumber of smaller distances we perform our calculation.\n",
    "\n",
    "Industrial application of KNN algorithm\n",
    "- KNN can be used in scenarios like recommending products in Amazon, media in Netflix\n",
    "- KNN can be used in concept search, searching semantically similar documents and classifying documents based on similar contents\n",
    "- Handwriting detection\n",
    "- Image recognition\n",
    "- Video recognition\n"
   ]
  },
  {
   "cell_type": "markdown",
   "metadata": {},
   "source": [
    "## 2. Using the KNN example from class, write a function that finds the optimal value for k. You should iterate over a range of values and return the k and the score when the accuracy score is maximized"
   ]
  },
  {
   "cell_type": "code",
   "execution_count": null,
   "metadata": {
    "scrolled": true
   },
   "outputs": [],
   "source": [
    "import pandas as pd\n",
    "import matplotlib.pyplot as plt\n",
    "import seaborn as sns\n",
    "from sklearn.neighbors import KNeighborsClassifier\n",
    "from sklearn.model_selection import train_test_split"
   ]
  },
  {
   "cell_type": "code",
   "execution_count": 56,
   "metadata": {},
   "outputs": [],
   "source": [
    "def optimal_k():\n",
    "    diabetes_df = pd.read_csv(\"diabetes.csv\")\n",
    "    diabetes_df.head()\n",
    "\n",
    "    X = diabetes_df.drop('Outcome',axis=1)\n",
    "    y = diabetes_df['Outcome']\n",
    "\n",
    "    #split \n",
    "    X_train, X_test, y_train, y_test = train_test_split(X, y, test_size = 0.5, random_state = 45)\n",
    "\n",
    "    #standardization\n",
    "    from sklearn.preprocessing import StandardScaler\n",
    "    sc = StandardScaler()\n",
    "    X_train = sc.fit_transform(X_train)\n",
    "    X_test = sc.fit_transform(X_test)\n",
    "    max_score = 0\n",
    "    for k in range(1,21):\n",
    "        knn = KNeighborsClassifier(n_neighbors = k)\n",
    "        knn.fit(X_train, y_train)\n",
    "        knn_score = knn.score(X_test, y_test)\n",
    "        #print(\"Accuracy score for k=\",k ,\" is \",knn_score)\n",
    "        if knn_score > max_score:\n",
    "            max_score = knn_score\n",
    "            kn = k\n",
    "    return (kn,max_score)        \n",
    "  "
   ]
  },
  {
   "cell_type": "code",
   "execution_count": 57,
   "metadata": {
    "scrolled": true
   },
   "outputs": [
    {
     "name": "stdout",
     "output_type": "stream",
     "text": [
      "Maximum accuracy score is  0.7421875  for k= 5\n"
     ]
    }
   ],
   "source": [
    "kn,knn_score = optimal_k()\n",
    "print(\"Maximum accuracy score is \",knn_score, \" for k=\",kn)\n"
   ]
  },
  {
   "cell_type": "markdown",
   "metadata": {},
   "source": [
    "## 3. Create a function called digital_root that takes in an integer. Digital root is the recursive sum of all the digits in a number\n",
    "\n",
    "Given n, take the sum of digits of n. If that value has more than one digit, continue reducing in this way until a single digit is produced. The input will be non negative integer."
   ]
  },
  {
   "cell_type": "code",
   "execution_count": 63,
   "metadata": {},
   "outputs": [],
   "source": [
    "from functools import reduce\n",
    "\n",
    "def digital_root(number):\n",
    "    if number >= 0:\n",
    "        while number>10:\n",
    "            int_list = []\n",
    "            int_list = [int(i) for i in str(number)]\n",
    "            #print(int_list)\n",
    "            #calculate the sum\n",
    "            result = reduce(lambda x,y:x+y,int_list)\n",
    "            #print(result)\n",
    "            number = result\n",
    "    else:\n",
    "        print(\"Number must be non-negative\")\n",
    "    return number"
   ]
  },
  {
   "cell_type": "code",
   "execution_count": 64,
   "metadata": {},
   "outputs": [
    {
     "name": "stdout",
     "output_type": "stream",
     "text": [
      "7\n",
      "6\n",
      "6\n",
      "2\n",
      "Number must be non-negative\n",
      "-26\n",
      "9\n",
      "0\n"
     ]
    }
   ],
   "source": [
    "print(digital_root(16))\n",
    "print(digital_root(942))\n",
    "print(digital_root(132189))\n",
    "print(digital_root(493193))\n",
    "print(digital_root(-26))\n",
    "print(digital_root(9))\n",
    "print(digital_root(0))"
   ]
  },
  {
   "cell_type": "code",
   "execution_count": null,
   "metadata": {},
   "outputs": [],
   "source": []
  }
 ],
 "metadata": {
  "kernelspec": {
   "display_name": "Python 3",
   "language": "python",
   "name": "python3"
  },
  "language_info": {
   "codemirror_mode": {
    "name": "ipython",
    "version": 3
   },
   "file_extension": ".py",
   "mimetype": "text/x-python",
   "name": "python",
   "nbconvert_exporter": "python",
   "pygments_lexer": "ipython3",
   "version": "3.8.5"
  }
 },
 "nbformat": 4,
 "nbformat_minor": 4
}
