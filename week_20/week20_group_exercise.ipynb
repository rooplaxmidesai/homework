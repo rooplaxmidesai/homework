{
 "cells": [
  {
   "cell_type": "markdown",
   "metadata": {},
   "source": [
    "## 1. Take the result of the following line of code (but use whatever available text you want)\n",
    "and write a function to concatenate the data back into sentences, with one readable\n",
    "sentence in each list.\n",
    "sentences = nltk.corpus.gutenberg.sents(\"carroll-alice.txt\")[:10]\n"
   ]
  },
  {
   "cell_type": "code",
   "execution_count": 34,
   "metadata": {},
   "outputs": [],
   "source": [
    "import nltk"
   ]
  },
  {
   "cell_type": "code",
   "execution_count": 38,
   "metadata": {},
   "outputs": [
    {
     "name": "stderr",
     "output_type": "stream",
     "text": [
      "[nltk_data] Downloading package punkt to\n",
      "[nltk_data]     C:\\Users\\roopi\\AppData\\Roaming\\nltk_data...\n",
      "[nltk_data]   Unzipping tokenizers\\punkt.zip.\n"
     ]
    },
    {
     "data": {
      "text/plain": [
       "True"
      ]
     },
     "execution_count": 38,
     "metadata": {},
     "output_type": "execute_result"
    }
   ],
   "source": [
    "#nltk.download('punkt')"
   ]
  },
  {
   "cell_type": "code",
   "execution_count": 36,
   "metadata": {},
   "outputs": [
    {
     "name": "stderr",
     "output_type": "stream",
     "text": [
      "[nltk_data] Downloading package gutenberg to\n",
      "[nltk_data]     C:\\Users\\roopi\\AppData\\Roaming\\nltk_data...\n",
      "[nltk_data]   Unzipping corpora\\gutenberg.zip.\n"
     ]
    },
    {
     "data": {
      "text/plain": [
       "True"
      ]
     },
     "execution_count": 36,
     "metadata": {},
     "output_type": "execute_result"
    }
   ],
   "source": [
    "#nltk.download('gutenberg')"
   ]
  },
  {
   "cell_type": "code",
   "execution_count": 46,
   "metadata": {},
   "outputs": [],
   "source": [
    "def concat_sentences(sentences):\n",
    "    cstring=''\n",
    "    sentence_list = []\n",
    "    for sentence in sentences:\n",
    "        cstring = ' '.join(sentence)\n",
    "        slist = []\n",
    "        slist.append(cstring)\n",
    "        sentence_list.append(slist)\n",
    "    return sentence_list\n"
   ]
  },
  {
   "cell_type": "code",
   "execution_count": 47,
   "metadata": {},
   "outputs": [
    {
     "data": {
      "text/plain": [
       "[[\"[ Alice ' s Adventures in Wonderland by Lewis Carroll 1865 ]\"],\n",
       " ['CHAPTER I .'],\n",
       " ['Down the Rabbit - Hole'],\n",
       " [\"Alice was beginning to get very tired of sitting by her sister on the bank , and of having nothing to do : once or twice she had peeped into the book her sister was reading , but it had no pictures or conversations in it , ' and what is the use of a book ,' thought Alice ' without pictures or conversation ?'\"],\n",
       " ['So she was considering in her own mind ( as well as she could , for the hot day made her feel very sleepy and stupid ), whether the pleasure of making a daisy - chain would be worth the trouble of getting up and picking the daisies , when suddenly a White Rabbit with pink eyes ran close by her .'],\n",
       " [\"There was nothing so VERY remarkable in that ; nor did Alice think it so VERY much out of the way to hear the Rabbit say to itself , ' Oh dear !\"],\n",
       " ['Oh dear !'],\n",
       " [\"I shall be late !'\"],\n",
       " ['( when she thought it over afterwards , it occurred to her that she ought to have wondered at this , but at the time it all seemed quite natural ); but when the Rabbit actually TOOK A WATCH OUT OF ITS WAISTCOAT - POCKET , and looked at it , and then hurried on , Alice started to her feet , for it flashed across her mind that she had never before seen a rabbit with either a waistcoat - pocket , or a watch to take out of it , and burning with curiosity , she ran across the field after it , and fortunately was just in time to see it pop down a large rabbit - hole under the hedge .'],\n",
       " ['In another moment down went Alice after it , never once considering how in the world she was to get out again .']]"
      ]
     },
     "execution_count": 47,
     "metadata": {},
     "output_type": "execute_result"
    }
   ],
   "source": [
    "sentences = nltk.corpus.gutenberg.sents(\"carroll-alice.txt\")[:10]\n",
    "concat_sentences(sentences)"
   ]
  },
  {
   "cell_type": "code",
   "execution_count": 48,
   "metadata": {},
   "outputs": [
    {
     "data": {
      "text/plain": [
       "[['[ The Tragedie of Hamlet by William Shakespeare 1599 ]'],\n",
       " ['Actus Primus .'],\n",
       " ['Scoena Prima .'],\n",
       " ['Enter Barnardo and Francisco two Centinels .'],\n",
       " ['Barnardo .'],\n",
       " [\"Who ' s there ?\"],\n",
       " ['Fran .'],\n",
       " ['Nay answer me : Stand & vnfold your selfe'],\n",
       " ['Bar .'],\n",
       " ['Long liue the King']]"
      ]
     },
     "execution_count": 48,
     "metadata": {},
     "output_type": "execute_result"
    }
   ],
   "source": [
    "sentences = nltk.corpus.gutenberg.sents(\"shakespeare-hamlet.txt\")[:10]\n",
    "concat_sentences(sentences)"
   ]
  },
  {
   "cell_type": "markdown",
   "metadata": {},
   "source": [
    "## 2. Create a function that accepts a list of values. Filter out all values that are numeric and return the new list.\n",
    "- Input:\n",
    "    - [1,2,'a','b',7.6]\n",
    "- output:\n",
    "    - [‘a’,’b’]"
   ]
  },
  {
   "cell_type": "code",
   "execution_count": 31,
   "metadata": {},
   "outputs": [],
   "source": [
    "def filterOutNumericValues(lvalues):\n",
    "    non_numeric = []\n",
    "    for value in lvalues:\n",
    "        if type(value) == int or type(value) == float:\n",
    "            continue\n",
    "        non_numeric.append(value)    \n",
    "    return non_numeric"
   ]
  },
  {
   "cell_type": "code",
   "execution_count": 32,
   "metadata": {},
   "outputs": [
    {
     "data": {
      "text/plain": [
       "['a', 'b']"
      ]
     },
     "execution_count": 32,
     "metadata": {},
     "output_type": "execute_result"
    }
   ],
   "source": [
    "filterOutNumericValues([1,2,'a','b',7.6])"
   ]
  },
  {
   "cell_type": "code",
   "execution_count": 33,
   "metadata": {},
   "outputs": [
    {
     "data": {
      "text/plain": [
       "['R', '$', 'a']"
      ]
     },
     "execution_count": 33,
     "metadata": {},
     "output_type": "execute_result"
    }
   ],
   "source": [
    "filterOutNumericValues(['R','$','a',95,784.45])"
   ]
  }
 ],
 "metadata": {
  "kernelspec": {
   "display_name": "Python 3",
   "language": "python",
   "name": "python3"
  },
  "language_info": {
   "codemirror_mode": {
    "name": "ipython",
    "version": 3
   },
   "file_extension": ".py",
   "mimetype": "text/x-python",
   "name": "python",
   "nbconvert_exporter": "python",
   "pygments_lexer": "ipython3",
   "version": "3.8.5"
  }
 },
 "nbformat": 4,
 "nbformat_minor": 4
}
