{
 "cells": [
  {
   "cell_type": "markdown",
   "metadata": {},
   "source": [
    "## 1. Write simple (straightforward) definitions for the following parameters for RandomForestClassifier\n",
    "(https://scikit-learn.org/stable/modules/generated/sklearn.ensemble.RandomForestClassifier.html) and indicate how they correlate with the precision and recall for the basic diabetes model we built in class. You will need to rerun the model multiple times to do so.\n",
    "\n",
    " - estimators - number of trees.Ideally, this should be increased until no further improvement is seen in the model            \n",
    " - max_depth   - this is depth of tree( longest path between the root node and the leaf node:). This parameter can be used to pruning            \n",
    " - min_samples_split   - The minimum number of samples required to split an internal node. It can be int or float     \n",
    " - min_samples_leaf     - The minimum number of samples required to split leaf node in left and right branches. This can be int or float.   \n",
    " - min_weight_fraction_leaf - If provided fraction of sum of total weights of samples at leaf node else equal weight\n",
    " - max_leaf_nodes   - Grow trees with max_leaf_nodes in best-first fashion. Best nodes are defined as relative reduction in impurity. If None then unlimited number of leaf nodes.        \n",
    " - min_impurity_decrease    - Decides split of a node if there is decrease of the impurity greater than or equal to this value.\n",
    " - min_impurity_split - Threshold for early stopping in tree growth. A node will split if its impurity is above the threshold, otherwise it is a leaf."
   ]
  },
  {
   "cell_type": "markdown",
   "metadata": {},
   "source": [
    "| Parameter                | Correlation with Precision       | Correlation with Recall         | Highest value at     |\n",
    "| ------------------------ | ---------------------------------| --------------------------------|--------------------  |\n",
    "| estimators               | Increased and then went down     | Increased and then went down    | n_estimators= 100    |\n",
    "| max_depth                | Increased, descrese and increase | Increased, descrese and increase| Max_Depth=  11       |\n",
    "| min_samples_split        | Increased and then decreased     | Increased and then decreased    | min_samples_split= 4|\n",
    "| min_samples_leaf         | Increased and decreased pattern  | Increased and decreased pattern | min_samples_leaf=3 |\n",
    "| min_weight_fraction_leaf | Decrease                         | Decrease                        |min_weight_fraction_leaf=0.2|\n",
    "| max_leaf_nodes           | remains same                     | Remains same                    |max_leaf_nodes= None\n",
    "| min_impurity_decrease    | Decreased                        | Decreased                       |min_impurity_decrease=  0.0\n",
    "| min_impurity_split       | increase,descrese,increase stays decreased|increase,descrese,increase stays decreased                        |min_impurity_split=  0.25"
   ]
  },
  {
   "cell_type": "code",
   "execution_count": 1,
   "metadata": {},
   "outputs": [
    {
     "data": {
      "text/html": [
       "<div>\n",
       "<style scoped>\n",
       "    .dataframe tbody tr th:only-of-type {\n",
       "        vertical-align: middle;\n",
       "    }\n",
       "\n",
       "    .dataframe tbody tr th {\n",
       "        vertical-align: top;\n",
       "    }\n",
       "\n",
       "    .dataframe thead th {\n",
       "        text-align: right;\n",
       "    }\n",
       "</style>\n",
       "<table border=\"1\" class=\"dataframe\">\n",
       "  <thead>\n",
       "    <tr style=\"text-align: right;\">\n",
       "      <th></th>\n",
       "      <th>Pregnancies</th>\n",
       "      <th>Glucose</th>\n",
       "      <th>BloodPressure</th>\n",
       "      <th>SkinThickness</th>\n",
       "      <th>Insulin</th>\n",
       "      <th>BMI</th>\n",
       "      <th>DiabetesPedigreeFunction</th>\n",
       "      <th>Age</th>\n",
       "      <th>Outcome</th>\n",
       "    </tr>\n",
       "  </thead>\n",
       "  <tbody>\n",
       "    <tr>\n",
       "      <th>0</th>\n",
       "      <td>6</td>\n",
       "      <td>148</td>\n",
       "      <td>72</td>\n",
       "      <td>35</td>\n",
       "      <td>0</td>\n",
       "      <td>33.6</td>\n",
       "      <td>0.627</td>\n",
       "      <td>50</td>\n",
       "      <td>1</td>\n",
       "    </tr>\n",
       "    <tr>\n",
       "      <th>1</th>\n",
       "      <td>1</td>\n",
       "      <td>85</td>\n",
       "      <td>66</td>\n",
       "      <td>29</td>\n",
       "      <td>0</td>\n",
       "      <td>26.6</td>\n",
       "      <td>0.351</td>\n",
       "      <td>31</td>\n",
       "      <td>0</td>\n",
       "    </tr>\n",
       "    <tr>\n",
       "      <th>2</th>\n",
       "      <td>8</td>\n",
       "      <td>183</td>\n",
       "      <td>64</td>\n",
       "      <td>0</td>\n",
       "      <td>0</td>\n",
       "      <td>23.3</td>\n",
       "      <td>0.672</td>\n",
       "      <td>32</td>\n",
       "      <td>1</td>\n",
       "    </tr>\n",
       "    <tr>\n",
       "      <th>3</th>\n",
       "      <td>1</td>\n",
       "      <td>89</td>\n",
       "      <td>66</td>\n",
       "      <td>23</td>\n",
       "      <td>94</td>\n",
       "      <td>28.1</td>\n",
       "      <td>0.167</td>\n",
       "      <td>21</td>\n",
       "      <td>0</td>\n",
       "    </tr>\n",
       "    <tr>\n",
       "      <th>4</th>\n",
       "      <td>0</td>\n",
       "      <td>137</td>\n",
       "      <td>40</td>\n",
       "      <td>35</td>\n",
       "      <td>168</td>\n",
       "      <td>43.1</td>\n",
       "      <td>2.288</td>\n",
       "      <td>33</td>\n",
       "      <td>1</td>\n",
       "    </tr>\n",
       "  </tbody>\n",
       "</table>\n",
       "</div>"
      ],
      "text/plain": [
       "   Pregnancies  Glucose  BloodPressure  SkinThickness  Insulin   BMI  \\\n",
       "0            6      148             72             35        0  33.6   \n",
       "1            1       85             66             29        0  26.6   \n",
       "2            8      183             64              0        0  23.3   \n",
       "3            1       89             66             23       94  28.1   \n",
       "4            0      137             40             35      168  43.1   \n",
       "\n",
       "   DiabetesPedigreeFunction  Age  Outcome  \n",
       "0                     0.627   50        1  \n",
       "1                     0.351   31        0  \n",
       "2                     0.672   32        1  \n",
       "3                     0.167   21        0  \n",
       "4                     2.288   33        1  "
      ]
     },
     "execution_count": 1,
     "metadata": {},
     "output_type": "execute_result"
    }
   ],
   "source": [
    "import pandas as pd\n",
    "from sklearn import tree\n",
    "from sklearn.metrics import confusion_matrix, classification_report, plot_confusion_matrix\n",
    "import numpy as np\n",
    "import warnings\n",
    "warnings.filterwarnings('ignore')\n",
    "\n",
    "diabetes_df = pd.read_csv(\"../week_13/diabetes.csv\")\n",
    "diabetes_df.head()"
   ]
  },
  {
   "cell_type": "code",
   "execution_count": 2,
   "metadata": {},
   "outputs": [],
   "source": [
    "from sklearn.model_selection import train_test_split\n",
    "from sklearn.preprocessing import StandardScaler\n",
    "\n",
    "X = diabetes_df.drop('Outcome', axis=1)\n",
    "y = diabetes_df['Outcome']\n",
    "\n",
    "# Split into training and test set\n",
    "X_train, X_test, y_train, y_test = train_test_split(X, y, test_size = 0.2, random_state=42, stratify=y)\n",
    "\n",
    "#Standardize\n",
    "sc= StandardScaler()\n",
    "X_train=sc.fit_transform(X_train)\n",
    "X_test=sc.fit_transform(X_test)"
   ]
  },
  {
   "cell_type": "code",
   "execution_count": 3,
   "metadata": {
    "scrolled": false
   },
   "outputs": [
    {
     "name": "stdout",
     "output_type": "stream",
     "text": [
      "n_estimators= 10 (0.7251114954546856, 0.7337662337662337, 0.7236747438378277, None)\n",
      "n_estimators= 100 (0.7473701821527908, 0.7532467532467533, 0.748121878121878, None)\n",
      "n_estimators= 200 (0.7610055001359349, 0.7662337662337663, 0.7613786213786213, None)\n",
      "n_estimators= 300 (0.7545792843068642, 0.7597402597402597, 0.7554767899150163, None)\n",
      "n_estimators= 400 (0.7422917218835586, 0.7467532467532467, 0.7436948559373376, None)\n",
      "n_estimators= 500 (0.7483459936290124, 0.7532467532467533, 0.7495827986975903, None)\n",
      "n_estimators= 1000 (0.7422917218835586, 0.7467532467532467, 0.7436948559373376, None)\n"
     ]
    }
   ],
   "source": [
    "from sklearn.ensemble import RandomForestClassifier\n",
    "from sklearn.metrics import precision_recall_fscore_support\n",
    "\n",
    "#Estimators\n",
    "for value in [10,100,200,300,400,500,1000]:\n",
    "    rf = RandomForestClassifier(n_estimators=value,random_state =42)\n",
    "    rf = rf.fit(X_train, y_train)\n",
    "    predictions = rf.predict(X_test)\n",
    "    print(\"n_estimators=\" , value, precision_recall_fscore_support(y_test, predictions, average='weighted'))\n",
    "\n"
   ]
  },
  {
   "cell_type": "code",
   "execution_count": 4,
   "metadata": {},
   "outputs": [
    {
     "name": "stdout",
     "output_type": "stream",
     "text": [
      "Max_Depth=  1 (0.762012987012987, 0.7012987012987013, 0.6255522141792634, None)\n",
      "Max_Depth=  3 (0.7325288141985057, 0.7402597402597403, 0.7272936403371186, None)\n",
      "Max_Depth=  5 (0.7182282003710575, 0.7272727272727273, 0.7179459691252145, None)\n",
      "Max_Depth=  7 (0.7263910401525081, 0.7337662337662337, 0.7273970049089666, None)\n",
      "Max_Depth=  9 (0.7680081627847654, 0.7727272727272727, 0.7641125862030235, None)\n",
      "Max_Depth=  11 (0.774640818119079, 0.7792207792207793, 0.7746353646353646, None)\n",
      "Max_Depth=  13 (0.7610055001359349, 0.7662337662337663, 0.7613786213786213, None)\n",
      "Max_Depth=  15 (0.7610055001359349, 0.7662337662337663, 0.7613786213786213, None)\n",
      "Max_Depth=  17 (0.7401405933516025, 0.7467532467532467, 0.7406947119865779, None)\n",
      "Max_Depth=  19 (0.7401405933516025, 0.7467532467532467, 0.7406947119865779, None)\n"
     ]
    }
   ],
   "source": [
    "#max_depth\n",
    "for value in  range(1,20,2):\n",
    "    rf = RandomForestClassifier(max_depth=value,random_state =42)\n",
    "    rf = rf.fit(X_train, y_train)\n",
    "    predictions = rf.predict(X_test)\n",
    "    print(\"Max_Depth= \", value, precision_recall_fscore_support(y_test, predictions, average='weighted'))"
   ]
  },
  {
   "cell_type": "code",
   "execution_count": 5,
   "metadata": {},
   "outputs": [
    {
     "name": "stdout",
     "output_type": "stream",
     "text": [
      "min_samples_split=  2 (0.7473701821527908, 0.7532467532467533, 0.748121878121878, None)\n",
      "min_samples_split=  3 (0.7496603396603396, 0.7532467532467533, 0.7509206479794716, None)\n",
      "min_samples_split=  4 (0.7894305694305694, 0.7922077922077922, 0.7902489667195549, None)\n",
      "min_samples_split=  5 (0.7617771379563832, 0.7662337662337663, 0.7627626513977172, None)\n",
      "min_samples_split=  6 (0.7610055001359349, 0.7662337662337663, 0.7613786213786213, None)\n",
      "min_samples_split=  7 (0.7744982290436836, 0.7792207792207793, 0.7732131813764467, None)\n",
      "min_samples_split=  8 (0.7538901465506971, 0.7597402597402597, 0.7539924190641895, None)\n",
      "min_samples_split=  9 (0.7483459936290124, 0.7532467532467533, 0.7495827986975903, None)\n"
     ]
    }
   ],
   "source": [
    "#min_samples_split\n",
    "for value in  range(2,10,1):\n",
    "    rf = RandomForestClassifier(min_samples_split=value,random_state =42)\n",
    "    rf = rf.fit(X_train, y_train)\n",
    "    predictions = rf.predict(X_test)\n",
    "    print(\"min_samples_split= \", value, precision_recall_fscore_support(y_test, predictions, average='weighted'))"
   ]
  },
  {
   "cell_type": "code",
   "execution_count": 6,
   "metadata": {},
   "outputs": [
    {
     "name": "stdout",
     "output_type": "stream",
     "text": [
      "min_samples_leaf=  1 (0.7473701821527908, 0.7532467532467533, 0.748121878121878, None)\n",
      "min_samples_leaf=  3 (0.7538901465506971, 0.7597402597402597, 0.7539924190641895, None)\n",
      "min_samples_leaf=  5 (0.7395849488872746, 0.7467532467532467, 0.7389951134515556, None)\n",
      "min_samples_leaf=  7 (0.7465213358070502, 0.7532467532467533, 0.7448082577799559, None)\n",
      "min_samples_leaf=  9 (0.7182282003710575, 0.7272727272727273, 0.7179459691252145, None)\n",
      "min_samples_leaf=  11 (0.7251114954546856, 0.7337662337662337, 0.7236747438378277, None)\n",
      "min_samples_leaf=  13 (0.7394103845647122, 0.7467532467532467, 0.7371540246262261, None)\n",
      "min_samples_leaf=  15 (0.7322453861927547, 0.7402597402597403, 0.7294135572123244, None)\n",
      "min_samples_leaf=  17 (0.7250141163184641, 0.7337662337662337, 0.7215829931508851, None)\n",
      "min_samples_leaf=  19 (0.7323747680890539, 0.7402597402597403, 0.7313771134525852, None)\n"
     ]
    }
   ],
   "source": [
    "#min_samples_leaf\n",
    "for value in  range(1,20,2):\n",
    "    rf = RandomForestClassifier(min_samples_leaf=value,random_state =42)\n",
    "    rf = rf.fit(X_train, y_train)\n",
    "    predictions = rf.predict(X_test)\n",
    "    print(\"min_samples_leaf= \", value, precision_recall_fscore_support(y_test, predictions, average='weighted'))"
   ]
  },
  {
   "cell_type": "code",
   "execution_count": 7,
   "metadata": {},
   "outputs": [
    {
     "name": "stdout",
     "output_type": "stream",
     "text": [
      "min_weight_fraction_leaf=  0.0 (0.7473701821527908, 0.7532467532467533, 0.748121878121878, None)\n",
      "min_weight_fraction_leaf=  0.1 (0.7250141163184641, 0.7337662337662337, 0.7215829931508851, None)\n",
      "min_weight_fraction_leaf=  0.2 (0.7502546473134708, 0.7532467532467533, 0.7364226682408501, None)\n",
      "min_weight_fraction_leaf=  0.30000000000000004 (0.7382920110192837, 0.7272727272727273, 0.6886652367596107, None)\n",
      "min_weight_fraction_leaf=  0.4 (0.4216562658121099, 0.6493506493506493, 0.5112997238981491, None)\n",
      "min_weight_fraction_leaf=  0.5 (0.4216562658121099, 0.6493506493506493, 0.5112997238981491, None)\n"
     ]
    }
   ],
   "source": [
    "#min_weight_fraction_leaf\n",
    "for value in np.arange(0,0.6,0.1):\n",
    "    rf = RandomForestClassifier(min_weight_fraction_leaf=value,random_state =42)\n",
    "    rf = rf.fit(X_train, y_train)\n",
    "    predictions = rf.predict(X_test)\n",
    "    print(\"min_weight_fraction_leaf= \", value, precision_recall_fscore_support(y_test, predictions, average='weighted'))"
   ]
  },
  {
   "cell_type": "code",
   "execution_count": 8,
   "metadata": {},
   "outputs": [
    {
     "name": "stdout",
     "output_type": "stream",
     "text": [
      "max_leaf_nodes=  100 (0.7337348641696468, 0.7402597402597403, 0.7348651348651349, None)\n",
      "max_leaf_nodes=  1100 (0.7337348641696468, 0.7402597402597403, 0.7348651348651349, None)\n",
      "max_leaf_nodes=  2100 (0.7337348641696468, 0.7402597402597403, 0.7348651348651349, None)\n",
      "max_leaf_nodes=  3100 (0.7337348641696468, 0.7402597402597403, 0.7348651348651349, None)\n",
      "max_leaf_nodes=  4100 (0.7337348641696468, 0.7402597402597403, 0.7348651348651349, None)\n",
      "max_leaf_nodes=  5100 (0.7337348641696468, 0.7402597402597403, 0.7348651348651349, None)\n",
      "max_leaf_nodes=  6100 (0.7337348641696468, 0.7402597402597403, 0.7348651348651349, None)\n",
      "max_leaf_nodes=  7100 (0.7337348641696468, 0.7402597402597403, 0.7348651348651349, None)\n",
      "max_leaf_nodes=  8100 (0.7337348641696468, 0.7402597402597403, 0.7348651348651349, None)\n",
      "max_leaf_nodes=  9100 (0.7337348641696468, 0.7402597402597403, 0.7348651348651349, None)\n",
      "max_leaf_nodes= None (0.7473701821527908, 0.7532467532467533, 0.748121878121878, None)\n"
     ]
    }
   ],
   "source": [
    "#max_leaf_nodes\n",
    "for value in np.arange(100,10001,1000):\n",
    "    rf = RandomForestClassifier(max_leaf_nodes=value,random_state =42)\n",
    "    rf = rf.fit(X_train, y_train)\n",
    "    predictions = rf.predict(X_test)\n",
    "    print(\"max_leaf_nodes= \", value, precision_recall_fscore_support(y_test, predictions, average='weighted'))\n",
    "    \n",
    "rf = RandomForestClassifier(max_leaf_nodes=None,random_state =42)\n",
    "rf = rf.fit(X_train, y_train)\n",
    "predictions = rf.predict(X_test)\n",
    "print(\"max_leaf_nodes= None\", precision_recall_fscore_support(y_test, predictions, average='weighted'))"
   ]
  },
  {
   "cell_type": "code",
   "execution_count": 9,
   "metadata": {},
   "outputs": [
    {
     "name": "stdout",
     "output_type": "stream",
     "text": [
      "min_impurity_decrease=  0.0 (0.7473701821527908, 0.7532467532467533, 0.748121878121878, None)\n",
      "min_impurity_decrease=  0.01 (0.7253257253257254, 0.7337662337662337, 0.7193267561931156, None)\n",
      "min_impurity_decrease=  0.02 (0.709478021978022, 0.7142857142857143, 0.6818295739348371, None)\n",
      "min_impurity_decrease=  0.03 (0.7385888964836334, 0.7207792207792207, 0.6746357693603393, None)\n",
      "min_impurity_decrease=  0.04 (0.740351198097677, 0.7012987012987013, 0.6321777396157561, None)\n",
      "min_impurity_decrease=  0.05 (0.4216562658121099, 0.6493506493506493, 0.5112997238981491, None)\n",
      "min_impurity_decrease=  0.06 (0.4216562658121099, 0.6493506493506493, 0.5112997238981491, None)\n",
      "min_impurity_decrease=  0.07 (0.4216562658121099, 0.6493506493506493, 0.5112997238981491, None)\n"
     ]
    }
   ],
   "source": [
    "\n",
    "#min_impurity_decrease\n",
    "for value in np.arange(0.0,0.07,0.01):\n",
    "    rf = RandomForestClassifier(min_impurity_decrease=value,random_state =42)\n",
    "    rf = rf.fit(X_train, y_train)\n",
    "    predictions = rf.predict(X_test)\n",
    "    print(\"min_impurity_decrease= \", value, precision_recall_fscore_support(y_test, predictions, average='weighted'))\n",
    "    "
   ]
  },
  {
   "cell_type": "code",
   "execution_count": 10,
   "metadata": {},
   "outputs": [
    {
     "name": "stdout",
     "output_type": "stream",
     "text": [
      "min_impurity_split=  0.0 (0.7473701821527908, 0.7532467532467533, 0.748121878121878, None)\n",
      "min_impurity_split=  0.05 (0.7535895907988931, 0.7597402597402597, 0.7523799794283987, None)\n",
      "min_impurity_split=  0.1 (0.7465213358070502, 0.7532467532467533, 0.7448082577799559, None)\n",
      "min_impurity_split=  0.15000000000000002 (0.7606257378984652, 0.7662337662337663, 0.7598727802809436, None)\n",
      "min_impurity_split=  0.2 (0.7542891890717976, 0.7597402597402597, 0.7487456279654328, None)\n",
      "min_impurity_split=  0.25 (0.7680081627847654, 0.7727272727272727, 0.7641125862030235, None)\n",
      "min_impurity_split=  0.30000000000000004 (0.74851419766674, 0.7532467532467533, 0.7387584892172047, None)\n",
      "min_impurity_split=  0.35000000000000003 (0.7415693550147332, 0.7467532467532467, 0.7307068796987222, None)\n",
      "min_impurity_split=  0.4 (0.7219941348973608, 0.7272727272727273, 0.702922077922078, None)\n",
      "min_impurity_split=  0.45 (0.7319044591771865, 0.6948051948051948, 0.6208589764145319, None)\n",
      "min_impurity_split=  0.5 (0.4216562658121099, 0.6493506493506493, 0.5112997238981491, None)\n",
      "min_impurity_split=  0.55 (0.4216562658121099, 0.6493506493506493, 0.5112997238981491, None)\n",
      "min_impurity_split=  0.6000000000000001 (0.4216562658121099, 0.6493506493506493, 0.5112997238981491, None)\n",
      "min_impurity_split=  0.65 (0.4216562658121099, 0.6493506493506493, 0.5112997238981491, None)\n"
     ]
    }
   ],
   "source": [
    "#rf = RandomForestClassifier(min_impurity_split=5, random_state =42)\n",
    "#min_impurity_split\n",
    "for value in np.arange(0.0,0.7,0.05):\n",
    "    rf = RandomForestClassifier(min_impurity_split=value,random_state =42)\n",
    "    rf = rf.fit(X_train, y_train)\n",
    "    predictions = rf.predict(X_test)\n",
    "    print(\"min_impurity_split= \", value, precision_recall_fscore_support(y_test, predictions, average='weighted'))"
   ]
  },
  {
   "cell_type": "code",
   "execution_count": 15,
   "metadata": {},
   "outputs": [
    {
     "name": "stdout",
     "output_type": "stream",
     "text": [
      "              precision    recall  f1-score   support\n",
      "\n",
      "           0       0.83      0.86      0.84       100\n",
      "           1       0.72      0.67      0.69        54\n",
      "\n",
      "    accuracy                           0.79       154\n",
      "   macro avg       0.77      0.76      0.77       154\n",
      "weighted avg       0.79      0.79      0.79       154\n",
      "\n"
     ]
    }
   ],
   "source": [
    "rf = RandomForestClassifier(min_samples_split=4, random_state =42)\n",
    "rf = rf.fit(X_train, y_train)\n",
    "predictions = rf.predict(X_test)\n",
    "print(classification_report(y_test, predictions))"
   ]
  },
  {
   "cell_type": "code",
   "execution_count": 16,
   "metadata": {},
   "outputs": [
    {
     "name": "stdout",
     "output_type": "stream",
     "text": [
      "[0.08245741 0.29732347 0.0840247  0.06510676 0.06805083 0.1647503\n",
      " 0.12339451 0.114892  ] Index(['Pregnancies', 'Glucose', 'BloodPressure', 'SkinThickness', 'Insulin',\n",
      "       'BMI', 'DiabetesPedigreeFunction', 'Age'],\n",
      "      dtype='object')\n"
     ]
    }
   ],
   "source": [
    "print(rf.feature_importances_, X.columns)"
   ]
  },
  {
   "cell_type": "markdown",
   "metadata": {},
   "source": [
    "## 2. How does setting bootstrap=False influence the model performance? Note: the default is bootstrap=True. Explain why your results might be so.\n",
    "If bootsrap=True then bootstrap(random samples with replacement) samples are used when building trees. If False, the whole dataset is used to build each tree.\n",
    "Changing from True to False, values of precision, recall, f1 scores went down a little. Timewise False setting was little behind than True setting. But in general in larger dataset, what was discussed in the class, if whole dataset is considered it takes long time and consumes lot of memory.\n"
   ]
  },
  {
   "cell_type": "code",
   "execution_count": 13,
   "metadata": {},
   "outputs": [
    {
     "name": "stdout",
     "output_type": "stream",
     "text": [
      "bootstrap= True (0.7473701821527908, 0.7532467532467533, 0.748121878121878, None)\n",
      "Elapsed time: 0.292067099999997\n"
     ]
    }
   ],
   "source": [
    "from time import perf_counter\n",
    "t1_true_start = perf_counter()\n",
    "rf = RandomForestClassifier(bootstrap=True, random_state =42)\n",
    "rf = rf.fit(X_train, y_train)\n",
    "predictions = rf.predict(X_test)\n",
    "print(\"bootstrap= True\", precision_recall_fscore_support(y_test, predictions, average='weighted'))\n",
    "t1_true_stop = perf_counter()\n",
    "print(\"Elapsed time:\", t1_true_stop- t1_true_start)\n"
   ]
  },
  {
   "cell_type": "code",
   "execution_count": 14,
   "metadata": {},
   "outputs": [
    {
     "name": "stdout",
     "output_type": "stream",
     "text": [
      "bootstrap= False (0.7422917218835586, 0.7467532467532467, 0.7436948559373376, None)\n",
      "Elapsed time: 0.26468339999999557\n"
     ]
    }
   ],
   "source": [
    "t1_False_start = perf_counter()\n",
    "rf = RandomForestClassifier(bootstrap=False, random_state =42)\n",
    "rf = rf.fit(X_train, y_train)\n",
    "predictions = rf.predict(X_test)\n",
    "print(\"bootstrap= False\", precision_recall_fscore_support(y_test, predictions, average='weighted'))\n",
    "t1_False_stop = perf_counter()\n",
    "print(\"Elapsed time:\", t1_False_stop- t1_False_start)"
   ]
  },
  {
   "cell_type": "code",
   "execution_count": null,
   "metadata": {},
   "outputs": [],
   "source": []
  }
 ],
 "metadata": {
  "kernelspec": {
   "display_name": "Python 3",
   "language": "python",
   "name": "python3"
  },
  "language_info": {
   "codemirror_mode": {
    "name": "ipython",
    "version": 3
   },
   "file_extension": ".py",
   "mimetype": "text/x-python",
   "name": "python",
   "nbconvert_exporter": "python",
   "pygments_lexer": "ipython3",
   "version": "3.8.5"
  }
 },
 "nbformat": 4,
 "nbformat_minor": 4
}
