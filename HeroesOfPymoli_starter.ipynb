{
 "cells": [
  {
   "cell_type": "markdown",
   "metadata": {},
   "source": [
    "### Heroes Of Pymoli Data Analysis\n",
    "* Of the 576 active players, the vast majority are male (84.03%) There also exists, a smaller, but notable proportion of female players (14.06%)\n",
    "\n",
    "* Our peak age demographic falls between 20-24 (44.79%) with secondary groups falling between 15-19 (18.58%) and 25-29 (13.37%)."
   ]
  },
  {
   "cell_type": "markdown",
   "metadata": {},
   "source": [
    "### Note\n",
    "* Instructions have been included for each segment. You do not have to follow them exactly, but they are included to help you think through the steps."
   ]
  },
  {
   "cell_type": "code",
   "execution_count": 177,
   "metadata": {},
   "outputs": [],
   "source": [
    "# Dependencies and Setup\n",
    "import pandas as pd\n",
    "import numpy as np\n",
    "\n",
    "# File to Load (Remember to Change These)\n",
    "file_to_load = \"Resources/purchase_data.csv\"\n",
    "\n",
    "# Read Purchasing File and store into Pandas data frame\n",
    "purchase_data = pd.read_csv(file_to_load)\n",
    "player_purchase_data = purchase_data"
   ]
  },
  {
   "cell_type": "markdown",
   "metadata": {},
   "source": [
    "## Player Count"
   ]
  },
  {
   "cell_type": "markdown",
   "metadata": {},
   "source": [
    "* Display the total number of players\n"
   ]
  },
  {
   "cell_type": "code",
   "execution_count": 178,
   "metadata": {},
   "outputs": [
    {
     "data": {
      "text/html": [
       "<div>\n",
       "<style scoped>\n",
       "    .dataframe tbody tr th:only-of-type {\n",
       "        vertical-align: middle;\n",
       "    }\n",
       "\n",
       "    .dataframe tbody tr th {\n",
       "        vertical-align: top;\n",
       "    }\n",
       "\n",
       "    .dataframe thead th {\n",
       "        text-align: right;\n",
       "    }\n",
       "</style>\n",
       "<table border=\"1\" class=\"dataframe\">\n",
       "  <thead>\n",
       "    <tr style=\"text-align: right;\">\n",
       "      <th></th>\n",
       "      <th>Total Players</th>\n",
       "    </tr>\n",
       "  </thead>\n",
       "  <tbody>\n",
       "    <tr>\n",
       "      <th>0</th>\n",
       "      <td>576</td>\n",
       "    </tr>\n",
       "  </tbody>\n",
       "</table>\n",
       "</div>"
      ],
      "text/plain": [
       "   Total Players\n",
       "0            576"
      ]
     },
     "execution_count": 178,
     "metadata": {},
     "output_type": "execute_result"
    }
   ],
   "source": [
    "#Get the count of unique players\n",
    "#Create a dicitonary with key value pair for total players\n",
    "players = [{\"Total Players\": purchase_data[\"SN\"].nunique()}]\n",
    "total_players_df = pd.DataFrame(players)\n",
    "total_players_df"
   ]
  },
  {
   "cell_type": "markdown",
   "metadata": {},
   "source": [
    "## Purchasing Analysis (Total)"
   ]
  },
  {
   "cell_type": "markdown",
   "metadata": {},
   "source": [
    "* Run basic calculations to obtain number of unique items, average price, etc.\n",
    "\n",
    "\n",
    "* Create a summary data frame to hold the results\n",
    "\n",
    "\n",
    "* Optional: give the displayed data cleaner formatting\n",
    "\n",
    "\n",
    "* Display the summary data frame\n"
   ]
  },
  {
   "cell_type": "code",
   "execution_count": 179,
   "metadata": {
    "scrolled": true
   },
   "outputs": [
    {
     "data": {
      "text/html": [
       "<style  type=\"text/css\" >\n",
       "</style><table id=\"T_86a56952_924c_11eb_a8ed_bc7737746c2d\" ><thead>    <tr>        <th class=\"blank level0\" ></th>        <th class=\"col_heading level0 col0\" >Number of Unique Items</th>        <th class=\"col_heading level0 col1\" >Average Price</th>        <th class=\"col_heading level0 col2\" >Number of Purchases</th>        <th class=\"col_heading level0 col3\" >Total Revenue</th>    </tr></thead><tbody>\n",
       "                <tr>\n",
       "                        <th id=\"T_86a56952_924c_11eb_a8ed_bc7737746c2dlevel0_row0\" class=\"row_heading level0 row0\" >0</th>\n",
       "                        <td id=\"T_86a56952_924c_11eb_a8ed_bc7737746c2drow0_col0\" class=\"data row0 col0\" >183</td>\n",
       "                        <td id=\"T_86a56952_924c_11eb_a8ed_bc7737746c2drow0_col1\" class=\"data row0 col1\" >$3.05</td>\n",
       "                        <td id=\"T_86a56952_924c_11eb_a8ed_bc7737746c2drow0_col2\" class=\"data row0 col2\" >780</td>\n",
       "                        <td id=\"T_86a56952_924c_11eb_a8ed_bc7737746c2drow0_col3\" class=\"data row0 col3\" >$2,379.77</td>\n",
       "            </tr>\n",
       "    </tbody></table>"
      ],
      "text/plain": [
       "<pandas.io.formats.style.Styler at 0x2453bc0e070>"
      ]
     },
     "metadata": {},
     "output_type": "display_data"
    }
   ],
   "source": [
    "# create a dictionary of unique items, average price, number of purchases and total revenue\n",
    "display_dict  = [{\"Number of Unique Items\": purchase_data[\"Item ID\"].nunique(),\n",
    "                 \"Average Price\": purchase_data[\"Price\"].mean(),\n",
    "                 \"Number of Purchases\": purchase_data[\"Purchase ID\"].count(),\n",
    "                 \"Total Revenue\": purchase_data[\"Price\"].sum()}]\n",
    "\n",
    "#create DataFrame using the dictionary above\n",
    "display_summary = pd.DataFrame(display_dict)\n",
    "display(display_summary.style.format({\"Average Price\":\"${:,.2f}\",\"Total Revenue\":\"${:,.2f}\"}))\n"
   ]
  },
  {
   "cell_type": "markdown",
   "metadata": {},
   "source": [
    "## Gender Demographics"
   ]
  },
  {
   "cell_type": "markdown",
   "metadata": {},
   "source": [
    "* Percentage and Count of Male Players\n",
    "\n",
    "\n",
    "* Percentage and Count of Female Players\n",
    "\n",
    "\n",
    "* Percentage and Count of Other / Non-Disclosed\n",
    "\n",
    "\n"
   ]
  },
  {
   "cell_type": "code",
   "execution_count": 180,
   "metadata": {},
   "outputs": [
    {
     "data": {
      "text/html": [
       "<div>\n",
       "<style scoped>\n",
       "    .dataframe tbody tr th:only-of-type {\n",
       "        vertical-align: middle;\n",
       "    }\n",
       "\n",
       "    .dataframe tbody tr th {\n",
       "        vertical-align: top;\n",
       "    }\n",
       "\n",
       "    .dataframe thead th {\n",
       "        text-align: right;\n",
       "    }\n",
       "</style>\n",
       "<table border=\"1\" class=\"dataframe\">\n",
       "  <thead>\n",
       "    <tr style=\"text-align: right;\">\n",
       "      <th></th>\n",
       "      <th>Total Count</th>\n",
       "      <th>Percentage of Players</th>\n",
       "    </tr>\n",
       "    <tr>\n",
       "      <th>Gender</th>\n",
       "      <th></th>\n",
       "      <th></th>\n",
       "    </tr>\n",
       "  </thead>\n",
       "  <tbody>\n",
       "    <tr>\n",
       "      <th>Male</th>\n",
       "      <td>484</td>\n",
       "      <td>84.03</td>\n",
       "    </tr>\n",
       "    <tr>\n",
       "      <th>Female</th>\n",
       "      <td>81</td>\n",
       "      <td>14.06</td>\n",
       "    </tr>\n",
       "    <tr>\n",
       "      <th>Other / Non-Disclosed</th>\n",
       "      <td>11</td>\n",
       "      <td>1.91</td>\n",
       "    </tr>\n",
       "  </tbody>\n",
       "</table>\n",
       "</div>"
      ],
      "text/plain": [
       "                       Total Count  Percentage of Players\n",
       "Gender                                                   \n",
       "Male                           484                  84.03\n",
       "Female                          81                  14.06\n",
       "Other / Non-Disclosed           11                   1.91"
      ]
     },
     "metadata": {},
     "output_type": "display_data"
    }
   ],
   "source": [
    "#Get the unique players subset\n",
    "player_df = purchase_data.drop_duplicates(subset = [\"SN\"])\n",
    "#get the value counts foe each gender\n",
    "gender_count_df =  pd.DataFrame(player_df.value_counts(\"Gender\"), columns=[\"Total Count\"])\n",
    "\n",
    "#Calculate percentage of players\n",
    "gender_count_df[\"Percentage of Players\"] = round((100*gender_count_df[\"Total Count\"])/player_df[\"SN\"].nunique(),2)\n",
    "display(gender_count_df)\n"
   ]
  },
  {
   "cell_type": "markdown",
   "metadata": {},
   "source": [
    "\n",
    "## Purchasing Analysis (Gender)"
   ]
  },
  {
   "cell_type": "markdown",
   "metadata": {},
   "source": [
    "* Run basic calculations to obtain purchase count, avg. purchase price, avg. purchase total per person etc. by gender\n",
    "\n",
    "\n",
    "\n",
    "\n",
    "* Create a summary data frame to hold the results\n",
    "\n",
    "\n",
    "* Optional: give the displayed data cleaner formatting\n",
    "\n",
    "\n",
    "* Display the summary data frame"
   ]
  },
  {
   "cell_type": "code",
   "execution_count": 181,
   "metadata": {},
   "outputs": [
    {
     "data": {
      "text/html": [
       "<style  type=\"text/css\" >\n",
       "</style><table id=\"T_86d15517_924c_11eb_b9f2_bc7737746c2d\" ><thead>    <tr>        <th class=\"blank level0\" ></th>        <th class=\"col_heading level0 col0\" >Purchase Count</th>        <th class=\"col_heading level0 col1\" >Average Purchase Price</th>        <th class=\"col_heading level0 col2\" >Total Purchase Value</th>        <th class=\"col_heading level0 col3\" >Avg Total Purchase per Person</th>    </tr>    <tr>        <th class=\"index_name level0\" >Gender</th>        <th class=\"blank\" ></th>        <th class=\"blank\" ></th>        <th class=\"blank\" ></th>        <th class=\"blank\" ></th>    </tr></thead><tbody>\n",
       "                <tr>\n",
       "                        <th id=\"T_86d15517_924c_11eb_b9f2_bc7737746c2dlevel0_row0\" class=\"row_heading level0 row0\" >Female</th>\n",
       "                        <td id=\"T_86d15517_924c_11eb_b9f2_bc7737746c2drow0_col0\" class=\"data row0 col0\" >113</td>\n",
       "                        <td id=\"T_86d15517_924c_11eb_b9f2_bc7737746c2drow0_col1\" class=\"data row0 col1\" >$3.20</td>\n",
       "                        <td id=\"T_86d15517_924c_11eb_b9f2_bc7737746c2drow0_col2\" class=\"data row0 col2\" >$361.94</td>\n",
       "                        <td id=\"T_86d15517_924c_11eb_b9f2_bc7737746c2drow0_col3\" class=\"data row0 col3\" >$4.47</td>\n",
       "            </tr>\n",
       "            <tr>\n",
       "                        <th id=\"T_86d15517_924c_11eb_b9f2_bc7737746c2dlevel0_row1\" class=\"row_heading level0 row1\" >Male</th>\n",
       "                        <td id=\"T_86d15517_924c_11eb_b9f2_bc7737746c2drow1_col0\" class=\"data row1 col0\" >652</td>\n",
       "                        <td id=\"T_86d15517_924c_11eb_b9f2_bc7737746c2drow1_col1\" class=\"data row1 col1\" >$3.02</td>\n",
       "                        <td id=\"T_86d15517_924c_11eb_b9f2_bc7737746c2drow1_col2\" class=\"data row1 col2\" >$1,967.64</td>\n",
       "                        <td id=\"T_86d15517_924c_11eb_b9f2_bc7737746c2drow1_col3\" class=\"data row1 col3\" >$4.07</td>\n",
       "            </tr>\n",
       "            <tr>\n",
       "                        <th id=\"T_86d15517_924c_11eb_b9f2_bc7737746c2dlevel0_row2\" class=\"row_heading level0 row2\" >Other / Non-Disclosed</th>\n",
       "                        <td id=\"T_86d15517_924c_11eb_b9f2_bc7737746c2drow2_col0\" class=\"data row2 col0\" >15</td>\n",
       "                        <td id=\"T_86d15517_924c_11eb_b9f2_bc7737746c2drow2_col1\" class=\"data row2 col1\" >$3.35</td>\n",
       "                        <td id=\"T_86d15517_924c_11eb_b9f2_bc7737746c2drow2_col2\" class=\"data row2 col2\" >$50.19</td>\n",
       "                        <td id=\"T_86d15517_924c_11eb_b9f2_bc7737746c2drow2_col3\" class=\"data row2 col3\" >$4.56</td>\n",
       "            </tr>\n",
       "    </tbody></table>"
      ],
      "text/plain": [
       "<pandas.io.formats.style.Styler at 0x245394f51f0>"
      ]
     },
     "metadata": {},
     "output_type": "display_data"
    }
   ],
   "source": [
    "#Assign the purchase data to new variable\n",
    "purchasing_analysis_df = purchase_data\n",
    "#group the data frame by Gender\n",
    "gender_group_df = purchasing_analysis_df.groupby(\"Gender\")\n",
    "\n",
    "#Calcualte count, sum and mean\n",
    "analysis_display_df = gender_group_df.aggregate({\"Purchase ID\": \"count\",\"Price\":[\"mean\",\"sum\"],\"SN\":\"nunique\" })\n",
    "\n",
    "#Column names\n",
    "column_names = [\"Purchase_Count\",\"Average_Purchase_Price\",\"Total_Purchase_Value\",\"Unique_Count\"]\n",
    "analysis_display_df.columns = column_names\n",
    "\n",
    "#calculaye Average Total Purchase per Person\n",
    "dummy_data= pd.DataFrame(round(analysis_display_df.Total_Purchase_Value/analysis_display_df.Unique_Count,2), columns = [\"Avg_Total_Purchase_per_Person\"])\n",
    "\n",
    "#Assign the value of Average Total Purchase per Person to Unique_Count column\n",
    "analysis_display_df[\"Unique_Count\"]=dummy_data[\"Avg_Total_Purchase_per_Person\"]\n",
    "#rename the Unique_Count column to  Avg_Total_Purchase_per_Person\n",
    "analysis_display_df.rename(columns={\"Unique_Count\": \"Avg_Total_Purchase_per_Person\"}, inplace=True)\n",
    "\n",
    "\n",
    "#replace \"_\" in column names with \" \"\n",
    "analysis_display_df.columns = display_df.columns.str.replace(\"_\",\" \")\n",
    "\n",
    "#Format the columns to display in $ format\n",
    "display(analysis_display_df.style.format({\"Average Purchase Price\":\"${:,.2f}\",\n",
    "                              \"Total Purchase Value\":\"${:,.2f}\",\"Avg Total Purchase per Person\":\"${:,.2f}\"}))"
   ]
  },
  {
   "cell_type": "markdown",
   "metadata": {},
   "source": [
    "## Age Demographics"
   ]
  },
  {
   "cell_type": "markdown",
   "metadata": {},
   "source": [
    "* Establish bins for ages\n",
    "\n",
    "\n",
    "* Categorize the existing players using the age bins. Hint: use pd.cut()\n",
    "\n",
    "\n",
    "* Calculate the numbers and percentages by age group\n",
    "\n",
    "\n",
    "* Create a summary data frame to hold the results\n",
    "\n",
    "\n",
    "* Optional: round the percentage column to two decimal points\n",
    "\n",
    "\n",
    "* Display Age Demographics Table\n"
   ]
  },
  {
   "cell_type": "code",
   "execution_count": 182,
   "metadata": {},
   "outputs": [
    {
     "data": {
      "text/html": [
       "<div>\n",
       "<style scoped>\n",
       "    .dataframe tbody tr th:only-of-type {\n",
       "        vertical-align: middle;\n",
       "    }\n",
       "\n",
       "    .dataframe tbody tr th {\n",
       "        vertical-align: top;\n",
       "    }\n",
       "\n",
       "    .dataframe thead th {\n",
       "        text-align: right;\n",
       "    }\n",
       "</style>\n",
       "<table border=\"1\" class=\"dataframe\">\n",
       "  <thead>\n",
       "    <tr style=\"text-align: right;\">\n",
       "      <th></th>\n",
       "      <th>Total Count</th>\n",
       "      <th>Percentage of Players</th>\n",
       "    </tr>\n",
       "    <tr>\n",
       "      <th>Age</th>\n",
       "      <th></th>\n",
       "      <th></th>\n",
       "    </tr>\n",
       "  </thead>\n",
       "  <tbody>\n",
       "    <tr>\n",
       "      <th>&lt;10</th>\n",
       "      <td>17</td>\n",
       "      <td>2.95</td>\n",
       "    </tr>\n",
       "    <tr>\n",
       "      <th>10-14</th>\n",
       "      <td>22</td>\n",
       "      <td>3.82</td>\n",
       "    </tr>\n",
       "    <tr>\n",
       "      <th>15-19</th>\n",
       "      <td>107</td>\n",
       "      <td>18.58</td>\n",
       "    </tr>\n",
       "    <tr>\n",
       "      <th>20-24</th>\n",
       "      <td>258</td>\n",
       "      <td>44.79</td>\n",
       "    </tr>\n",
       "    <tr>\n",
       "      <th>25-29</th>\n",
       "      <td>77</td>\n",
       "      <td>13.37</td>\n",
       "    </tr>\n",
       "    <tr>\n",
       "      <th>30-34</th>\n",
       "      <td>52</td>\n",
       "      <td>9.03</td>\n",
       "    </tr>\n",
       "    <tr>\n",
       "      <th>35-39</th>\n",
       "      <td>31</td>\n",
       "      <td>5.38</td>\n",
       "    </tr>\n",
       "    <tr>\n",
       "      <th>40+</th>\n",
       "      <td>12</td>\n",
       "      <td>2.08</td>\n",
       "    </tr>\n",
       "  </tbody>\n",
       "</table>\n",
       "</div>"
      ],
      "text/plain": [
       "       Total Count  Percentage of Players\n",
       "Age                                      \n",
       " <10            17                   2.95\n",
       "10-14           22                   3.82\n",
       "15-19          107                  18.58\n",
       "20-24          258                  44.79\n",
       "25-29           77                  13.37\n",
       "30-34           52                   9.03\n",
       "35-39           31                   5.38\n",
       "40+             12                   2.08"
      ]
     },
     "execution_count": 182,
     "metadata": {},
     "output_type": "execute_result"
    }
   ],
   "source": [
    "#Drop duplicate Players\n",
    "unique_player_df = purchase_data.drop_duplicates(subset = [\"SN\"])\n",
    "\n",
    "#Create age bins\n",
    "age_bins=[0,9, 14, 19, 24, 29, 34, 39, 100]\n",
    "age_labels = [\" <10\",\"10-14\",\"15-19\", \"20-24\",\"25-29\", \"30-34\", \"35-39\", \"40+\"]\n",
    "age_groups_df=pd.DataFrame(pd.cut(unique_player_df[\"Age\"], age_bins, labels=age_labels))\n",
    "\n",
    "\n",
    "#Get the count for each bin/age group\n",
    "grouped_age_df = age_groups_df.groupby(\"Age\")\n",
    "grouped_age_df_count = pd.DataFrame(grouped_age_df[\"Age\"].count())\n",
    "grouped_age_df_count.rename(columns={\"Age\" : \"Total Count\"}, inplace=True)\n",
    "\n",
    "# Calculating Percentage\n",
    "grouped_age_df_count['Percentage of Players'] = round((grouped_age_df_count['Total Count'] * 100 )/ unique_player_df[\"SN\"].count(),2)\n",
    "grouped_age_df_count"
   ]
  },
  {
   "cell_type": "markdown",
   "metadata": {},
   "source": [
    "## Purchasing Analysis (Age)"
   ]
  },
  {
   "cell_type": "markdown",
   "metadata": {},
   "source": [
    "* Bin the purchase_data data frame by age\n",
    "\n",
    "\n",
    "* Run basic calculations to obtain purchase count, avg. purchase price, avg. purchase total per person etc. in the table below\n",
    "\n",
    "\n",
    "* Create a summary data frame to hold the results\n",
    "\n",
    "\n",
    "* Optional: give the displayed data cleaner formatting\n",
    "\n",
    "\n",
    "* Display the summary data frame"
   ]
  },
  {
   "cell_type": "code",
   "execution_count": 183,
   "metadata": {},
   "outputs": [
    {
     "data": {
      "text/html": [
       "<style  type=\"text/css\" >\n",
       "</style><table id=\"T_87005332_924c_11eb_bceb_bc7737746c2d\" ><thead>    <tr>        <th class=\"blank level0\" ></th>        <th class=\"col_heading level0 col0\" >Purchase Count</th>        <th class=\"col_heading level0 col1\" >Average Purchase Price</th>        <th class=\"col_heading level0 col2\" >Total Purchase Value</th>        <th class=\"col_heading level0 col3\" >Avg Total Purchase per Person</th>    </tr>    <tr>        <th class=\"index_name level0\" >AgeGroup</th>        <th class=\"blank\" ></th>        <th class=\"blank\" ></th>        <th class=\"blank\" ></th>        <th class=\"blank\" ></th>    </tr></thead><tbody>\n",
       "                <tr>\n",
       "                        <th id=\"T_87005332_924c_11eb_bceb_bc7737746c2dlevel0_row0\" class=\"row_heading level0 row0\" > <10</th>\n",
       "                        <td id=\"T_87005332_924c_11eb_bceb_bc7737746c2drow0_col0\" class=\"data row0 col0\" >23</td>\n",
       "                        <td id=\"T_87005332_924c_11eb_bceb_bc7737746c2drow0_col1\" class=\"data row0 col1\" >$3.35</td>\n",
       "                        <td id=\"T_87005332_924c_11eb_bceb_bc7737746c2drow0_col2\" class=\"data row0 col2\" >$77.13</td>\n",
       "                        <td id=\"T_87005332_924c_11eb_bceb_bc7737746c2drow0_col3\" class=\"data row0 col3\" >$4.54</td>\n",
       "            </tr>\n",
       "            <tr>\n",
       "                        <th id=\"T_87005332_924c_11eb_bceb_bc7737746c2dlevel0_row1\" class=\"row_heading level0 row1\" >10-14</th>\n",
       "                        <td id=\"T_87005332_924c_11eb_bceb_bc7737746c2drow1_col0\" class=\"data row1 col0\" >28</td>\n",
       "                        <td id=\"T_87005332_924c_11eb_bceb_bc7737746c2drow1_col1\" class=\"data row1 col1\" >$2.96</td>\n",
       "                        <td id=\"T_87005332_924c_11eb_bceb_bc7737746c2drow1_col2\" class=\"data row1 col2\" >$82.78</td>\n",
       "                        <td id=\"T_87005332_924c_11eb_bceb_bc7737746c2drow1_col3\" class=\"data row1 col3\" >$3.76</td>\n",
       "            </tr>\n",
       "            <tr>\n",
       "                        <th id=\"T_87005332_924c_11eb_bceb_bc7737746c2dlevel0_row2\" class=\"row_heading level0 row2\" >15-19</th>\n",
       "                        <td id=\"T_87005332_924c_11eb_bceb_bc7737746c2drow2_col0\" class=\"data row2 col0\" >136</td>\n",
       "                        <td id=\"T_87005332_924c_11eb_bceb_bc7737746c2drow2_col1\" class=\"data row2 col1\" >$3.04</td>\n",
       "                        <td id=\"T_87005332_924c_11eb_bceb_bc7737746c2drow2_col2\" class=\"data row2 col2\" >$412.89</td>\n",
       "                        <td id=\"T_87005332_924c_11eb_bceb_bc7737746c2drow2_col3\" class=\"data row2 col3\" >$3.86</td>\n",
       "            </tr>\n",
       "            <tr>\n",
       "                        <th id=\"T_87005332_924c_11eb_bceb_bc7737746c2dlevel0_row3\" class=\"row_heading level0 row3\" >20-24</th>\n",
       "                        <td id=\"T_87005332_924c_11eb_bceb_bc7737746c2drow3_col0\" class=\"data row3 col0\" >365</td>\n",
       "                        <td id=\"T_87005332_924c_11eb_bceb_bc7737746c2drow3_col1\" class=\"data row3 col1\" >$3.05</td>\n",
       "                        <td id=\"T_87005332_924c_11eb_bceb_bc7737746c2drow3_col2\" class=\"data row3 col2\" >$1,114.06</td>\n",
       "                        <td id=\"T_87005332_924c_11eb_bceb_bc7737746c2drow3_col3\" class=\"data row3 col3\" >$4.32</td>\n",
       "            </tr>\n",
       "            <tr>\n",
       "                        <th id=\"T_87005332_924c_11eb_bceb_bc7737746c2dlevel0_row4\" class=\"row_heading level0 row4\" >25-29</th>\n",
       "                        <td id=\"T_87005332_924c_11eb_bceb_bc7737746c2drow4_col0\" class=\"data row4 col0\" >101</td>\n",
       "                        <td id=\"T_87005332_924c_11eb_bceb_bc7737746c2drow4_col1\" class=\"data row4 col1\" >$2.90</td>\n",
       "                        <td id=\"T_87005332_924c_11eb_bceb_bc7737746c2drow4_col2\" class=\"data row4 col2\" >$293.00</td>\n",
       "                        <td id=\"T_87005332_924c_11eb_bceb_bc7737746c2drow4_col3\" class=\"data row4 col3\" >$3.81</td>\n",
       "            </tr>\n",
       "            <tr>\n",
       "                        <th id=\"T_87005332_924c_11eb_bceb_bc7737746c2dlevel0_row5\" class=\"row_heading level0 row5\" >30-34</th>\n",
       "                        <td id=\"T_87005332_924c_11eb_bceb_bc7737746c2drow5_col0\" class=\"data row5 col0\" >73</td>\n",
       "                        <td id=\"T_87005332_924c_11eb_bceb_bc7737746c2drow5_col1\" class=\"data row5 col1\" >$2.93</td>\n",
       "                        <td id=\"T_87005332_924c_11eb_bceb_bc7737746c2drow5_col2\" class=\"data row5 col2\" >$214.00</td>\n",
       "                        <td id=\"T_87005332_924c_11eb_bceb_bc7737746c2drow5_col3\" class=\"data row5 col3\" >$4.12</td>\n",
       "            </tr>\n",
       "            <tr>\n",
       "                        <th id=\"T_87005332_924c_11eb_bceb_bc7737746c2dlevel0_row6\" class=\"row_heading level0 row6\" >35-39</th>\n",
       "                        <td id=\"T_87005332_924c_11eb_bceb_bc7737746c2drow6_col0\" class=\"data row6 col0\" >41</td>\n",
       "                        <td id=\"T_87005332_924c_11eb_bceb_bc7737746c2drow6_col1\" class=\"data row6 col1\" >$3.60</td>\n",
       "                        <td id=\"T_87005332_924c_11eb_bceb_bc7737746c2drow6_col2\" class=\"data row6 col2\" >$147.67</td>\n",
       "                        <td id=\"T_87005332_924c_11eb_bceb_bc7737746c2drow6_col3\" class=\"data row6 col3\" >$4.76</td>\n",
       "            </tr>\n",
       "            <tr>\n",
       "                        <th id=\"T_87005332_924c_11eb_bceb_bc7737746c2dlevel0_row7\" class=\"row_heading level0 row7\" >40+</th>\n",
       "                        <td id=\"T_87005332_924c_11eb_bceb_bc7737746c2drow7_col0\" class=\"data row7 col0\" >13</td>\n",
       "                        <td id=\"T_87005332_924c_11eb_bceb_bc7737746c2drow7_col1\" class=\"data row7 col1\" >$2.94</td>\n",
       "                        <td id=\"T_87005332_924c_11eb_bceb_bc7737746c2drow7_col2\" class=\"data row7 col2\" >$38.24</td>\n",
       "                        <td id=\"T_87005332_924c_11eb_bceb_bc7737746c2drow7_col3\" class=\"data row7 col3\" >$3.19</td>\n",
       "            </tr>\n",
       "    </tbody></table>"
      ],
      "text/plain": [
       "<pandas.io.formats.style.Styler at 0x2453a9c68e0>"
      ]
     },
     "metadata": {},
     "output_type": "display_data"
    }
   ],
   "source": [
    "player_df1 = player_purchase_data\n",
    "\n",
    "#Create age bins with labels\n",
    "age_bins=[0,9, 14, 19, 24, 29, 34, 39, 100]\n",
    "age_labels = [\" <10\",\"10-14\",\"15-19\", \"20-24\",\"25-29\", \"30-34\", \"35-39\", \"40+\"]\n",
    "age_groups_df=pd.DataFrame(pd.cut(player_df1[\"Age\"], age_bins, labels=age_labels))\n",
    "age_groups_df.columns = [\"AgeGroup\"]\n",
    "\n",
    "#concatenate the player df1 and age group df\n",
    "concat_df = pd.concat([age_groups_df ,player_df1], axis='columns', sort=False)\n",
    "\n",
    "#Group the dataframe by AgeGroup\n",
    "grouped_age_df = concat_df.groupby(\"AgeGroup\")\n",
    "\n",
    "#Calculate count, mean  and sum\n",
    "display_df = grouped_age_df.aggregate({\"Age\": \"count\",\"Price\":[\"mean\",\"sum\"],\"SN\":\"nunique\" })\n",
    "\n",
    "#give the appropriate columns names\n",
    "column_names = [\"Purchase_Count\",\"Average_Purchase_Price\",\"Total_Purchase_Value\",\"Unique_Count\"]\n",
    "display_df.columns = column_names\n",
    "\n",
    "#Calculate Avg Total Purchase per Person and assign it to Unique_Count column\n",
    "dummy_data= pd.DataFrame(round(display_df.Total_Purchase_Value/display_df.Unique_Count,2), columns = [\"Avg_Total_Purchase_per_Person\"])\n",
    "display_df[\"Unique_Count\"]=dummy_data[\"Avg_Total_Purchase_per_Person\"]\n",
    "\n",
    "#rename Unique_Count column to Avg_Total_Purchase_per_Person\n",
    "display_df.rename(columns={\"Unique_Count\": \"Avg_Total_Purchase_per_Person\"}, inplace=True)\n",
    "\n",
    "#Replace \"_\" in column names to \" \"\n",
    "display_df.columns = display_df.columns.str.replace(\"_\",\" \")\n",
    "\n",
    "#format to display in $\n",
    "display(display_df.style.format({\"Average Purchase Price\":\"${:,.2f}\",\n",
    "                              \"Total Purchase Value\":\"${:,.2f}\",\"Avg Total Purchase per Person\":\"${:,.2f}\"}))\n"
   ]
  },
  {
   "cell_type": "markdown",
   "metadata": {},
   "source": [
    "## Top Spenders"
   ]
  },
  {
   "cell_type": "markdown",
   "metadata": {},
   "source": [
    "* Run basic calculations to obtain the results in the table below\n",
    "\n",
    "\n",
    "* Create a summary data frame to hold the results\n",
    "\n",
    "\n",
    "* Sort the total purchase value column in descending order\n",
    "\n",
    "\n",
    "* Optional: give the displayed data cleaner formatting\n",
    "\n",
    "\n",
    "* Display a preview of the summary data frame\n",
    "\n"
   ]
  },
  {
   "cell_type": "code",
   "execution_count": 184,
   "metadata": {},
   "outputs": [
    {
     "data": {
      "text/html": [
       "<style  type=\"text/css\" >\n",
       "</style><table id=\"T_87162f83_924c_11eb_9252_bc7737746c2d\" ><thead>    <tr>        <th class=\"blank level0\" ></th>        <th class=\"col_heading level0 col0\" >Purchase Count</th>        <th class=\"col_heading level0 col1\" >Average Purchase Price</th>        <th class=\"col_heading level0 col2\" >Total Purchase Value</th>    </tr>    <tr>        <th class=\"index_name level0\" >SN</th>        <th class=\"blank\" ></th>        <th class=\"blank\" ></th>        <th class=\"blank\" ></th>    </tr></thead><tbody>\n",
       "                <tr>\n",
       "                        <th id=\"T_87162f83_924c_11eb_9252_bc7737746c2dlevel0_row0\" class=\"row_heading level0 row0\" >Lisosia93</th>\n",
       "                        <td id=\"T_87162f83_924c_11eb_9252_bc7737746c2drow0_col0\" class=\"data row0 col0\" >5</td>\n",
       "                        <td id=\"T_87162f83_924c_11eb_9252_bc7737746c2drow0_col1\" class=\"data row0 col1\" >$3.79</td>\n",
       "                        <td id=\"T_87162f83_924c_11eb_9252_bc7737746c2drow0_col2\" class=\"data row0 col2\" >$18.96</td>\n",
       "            </tr>\n",
       "            <tr>\n",
       "                        <th id=\"T_87162f83_924c_11eb_9252_bc7737746c2dlevel0_row1\" class=\"row_heading level0 row1\" >Idastidru52</th>\n",
       "                        <td id=\"T_87162f83_924c_11eb_9252_bc7737746c2drow1_col0\" class=\"data row1 col0\" >4</td>\n",
       "                        <td id=\"T_87162f83_924c_11eb_9252_bc7737746c2drow1_col1\" class=\"data row1 col1\" >$3.86</td>\n",
       "                        <td id=\"T_87162f83_924c_11eb_9252_bc7737746c2drow1_col2\" class=\"data row1 col2\" >$15.45</td>\n",
       "            </tr>\n",
       "            <tr>\n",
       "                        <th id=\"T_87162f83_924c_11eb_9252_bc7737746c2dlevel0_row2\" class=\"row_heading level0 row2\" >Chamjask73</th>\n",
       "                        <td id=\"T_87162f83_924c_11eb_9252_bc7737746c2drow2_col0\" class=\"data row2 col0\" >3</td>\n",
       "                        <td id=\"T_87162f83_924c_11eb_9252_bc7737746c2drow2_col1\" class=\"data row2 col1\" >$4.61</td>\n",
       "                        <td id=\"T_87162f83_924c_11eb_9252_bc7737746c2drow2_col2\" class=\"data row2 col2\" >$13.83</td>\n",
       "            </tr>\n",
       "            <tr>\n",
       "                        <th id=\"T_87162f83_924c_11eb_9252_bc7737746c2dlevel0_row3\" class=\"row_heading level0 row3\" >Iral74</th>\n",
       "                        <td id=\"T_87162f83_924c_11eb_9252_bc7737746c2drow3_col0\" class=\"data row3 col0\" >4</td>\n",
       "                        <td id=\"T_87162f83_924c_11eb_9252_bc7737746c2drow3_col1\" class=\"data row3 col1\" >$3.40</td>\n",
       "                        <td id=\"T_87162f83_924c_11eb_9252_bc7737746c2drow3_col2\" class=\"data row3 col2\" >$13.62</td>\n",
       "            </tr>\n",
       "            <tr>\n",
       "                        <th id=\"T_87162f83_924c_11eb_9252_bc7737746c2dlevel0_row4\" class=\"row_heading level0 row4\" >Iskadarya95</th>\n",
       "                        <td id=\"T_87162f83_924c_11eb_9252_bc7737746c2drow4_col0\" class=\"data row4 col0\" >3</td>\n",
       "                        <td id=\"T_87162f83_924c_11eb_9252_bc7737746c2drow4_col1\" class=\"data row4 col1\" >$4.37</td>\n",
       "                        <td id=\"T_87162f83_924c_11eb_9252_bc7737746c2drow4_col2\" class=\"data row4 col2\" >$13.10</td>\n",
       "            </tr>\n",
       "    </tbody></table>"
      ],
      "text/plain": [
       "<pandas.io.formats.style.Styler at 0x2453a8fd4f0>"
      ]
     },
     "metadata": {},
     "output_type": "display_data"
    }
   ],
   "source": [
    "SN_group_data = player_purchase_data.groupby(\"SN\")\n",
    "#calculate count, mean and sum\n",
    "top_spender_df = SN_group_data.aggregate({\"Purchase ID\": \"count\",\"Price\":[\"mean\",\"sum\"]})\n",
    "\n",
    "#Give proper column names\n",
    "top_spender_df.columns = [\"Purchase Count\",\"Average Purchase Price\",\"Total Purchase Value\"]\n",
    "#sort by total purchase value and purchase count \n",
    "sorted_top_spender_df = top_spender_df.sort_values(by=[\"Total Purchase Value\",\"Purchase Count\"], ascending=[False,False]).head(5)\n",
    "\n",
    "#format to display in $\n",
    "display(sorted_top_spender_df.style.format({\"Average Purchase Price\":\"${:,.2f}\",\n",
    "                              \"Total Purchase Value\":\"${:,.2f}\"}))"
   ]
  },
  {
   "cell_type": "markdown",
   "metadata": {},
   "source": [
    "## Most Popular Items"
   ]
  },
  {
   "cell_type": "markdown",
   "metadata": {},
   "source": [
    "* Retrieve the Item ID, Item Name, and Item Price columns\n",
    "\n",
    "\n",
    "* Group by Item ID and Item Name. Perform calculations to obtain purchase count, item price, and total purchase value\n",
    "\n",
    "\n",
    "* Create a summary data frame to hold the results\n",
    "\n",
    "\n",
    "* Sort the purchase count column in descending order\n",
    "\n",
    "\n",
    "* Optional: give the displayed data cleaner formatting\n",
    "\n",
    "\n",
    "* Display a preview of the summary data frame\n",
    "\n"
   ]
  },
  {
   "cell_type": "code",
   "execution_count": 185,
   "metadata": {},
   "outputs": [
    {
     "data": {
      "text/html": [
       "<style  type=\"text/css\" >\n",
       "</style><table id=\"T_872b6824_924c_11eb_90bd_bc7737746c2d\" ><thead>    <tr>        <th class=\"blank\" ></th>        <th class=\"blank level0\" ></th>        <th class=\"col_heading level0 col0\" >Purchase Count</th>        <th class=\"col_heading level0 col1\" >Item Price</th>        <th class=\"col_heading level0 col2\" >Total Purchase Value</th>    </tr>    <tr>        <th class=\"index_name level0\" >Item ID</th>        <th class=\"index_name level1\" >Item Name</th>        <th class=\"blank\" ></th>        <th class=\"blank\" ></th>        <th class=\"blank\" ></th>    </tr></thead><tbody>\n",
       "                <tr>\n",
       "                        <th id=\"T_872b6824_924c_11eb_90bd_bc7737746c2dlevel0_row0\" class=\"row_heading level0 row0\" >178</th>\n",
       "                        <th id=\"T_872b6824_924c_11eb_90bd_bc7737746c2dlevel1_row0\" class=\"row_heading level1 row0\" >Oathbreaker, Last Hope of the Breaking Storm</th>\n",
       "                        <td id=\"T_872b6824_924c_11eb_90bd_bc7737746c2drow0_col0\" class=\"data row0 col0\" >12</td>\n",
       "                        <td id=\"T_872b6824_924c_11eb_90bd_bc7737746c2drow0_col1\" class=\"data row0 col1\" >$4.23</td>\n",
       "                        <td id=\"T_872b6824_924c_11eb_90bd_bc7737746c2drow0_col2\" class=\"data row0 col2\" >$50.76</td>\n",
       "            </tr>\n",
       "            <tr>\n",
       "                        <th id=\"T_872b6824_924c_11eb_90bd_bc7737746c2dlevel0_row1\" class=\"row_heading level0 row1\" >145</th>\n",
       "                        <th id=\"T_872b6824_924c_11eb_90bd_bc7737746c2dlevel1_row1\" class=\"row_heading level1 row1\" >Fiery Glass Crusader</th>\n",
       "                        <td id=\"T_872b6824_924c_11eb_90bd_bc7737746c2drow1_col0\" class=\"data row1 col0\" >9</td>\n",
       "                        <td id=\"T_872b6824_924c_11eb_90bd_bc7737746c2drow1_col1\" class=\"data row1 col1\" >$4.58</td>\n",
       "                        <td id=\"T_872b6824_924c_11eb_90bd_bc7737746c2drow1_col2\" class=\"data row1 col2\" >$41.22</td>\n",
       "            </tr>\n",
       "            <tr>\n",
       "                        <th id=\"T_872b6824_924c_11eb_90bd_bc7737746c2dlevel0_row2\" class=\"row_heading level0 row2\" >108</th>\n",
       "                        <th id=\"T_872b6824_924c_11eb_90bd_bc7737746c2dlevel1_row2\" class=\"row_heading level1 row2\" >Extraction, Quickblade Of Trembling Hands</th>\n",
       "                        <td id=\"T_872b6824_924c_11eb_90bd_bc7737746c2drow2_col0\" class=\"data row2 col0\" >9</td>\n",
       "                        <td id=\"T_872b6824_924c_11eb_90bd_bc7737746c2drow2_col1\" class=\"data row2 col1\" >$3.53</td>\n",
       "                        <td id=\"T_872b6824_924c_11eb_90bd_bc7737746c2drow2_col2\" class=\"data row2 col2\" >$31.77</td>\n",
       "            </tr>\n",
       "            <tr>\n",
       "                        <th id=\"T_872b6824_924c_11eb_90bd_bc7737746c2dlevel0_row3\" class=\"row_heading level0 row3\" >82</th>\n",
       "                        <th id=\"T_872b6824_924c_11eb_90bd_bc7737746c2dlevel1_row3\" class=\"row_heading level1 row3\" >Nirvana</th>\n",
       "                        <td id=\"T_872b6824_924c_11eb_90bd_bc7737746c2drow3_col0\" class=\"data row3 col0\" >9</td>\n",
       "                        <td id=\"T_872b6824_924c_11eb_90bd_bc7737746c2drow3_col1\" class=\"data row3 col1\" >$4.90</td>\n",
       "                        <td id=\"T_872b6824_924c_11eb_90bd_bc7737746c2drow3_col2\" class=\"data row3 col2\" >$44.10</td>\n",
       "            </tr>\n",
       "            <tr>\n",
       "                        <th id=\"T_872b6824_924c_11eb_90bd_bc7737746c2dlevel0_row4\" class=\"row_heading level0 row4\" >19</th>\n",
       "                        <th id=\"T_872b6824_924c_11eb_90bd_bc7737746c2dlevel1_row4\" class=\"row_heading level1 row4\" >Pursuit, Cudgel of Necromancy</th>\n",
       "                        <td id=\"T_872b6824_924c_11eb_90bd_bc7737746c2drow4_col0\" class=\"data row4 col0\" >8</td>\n",
       "                        <td id=\"T_872b6824_924c_11eb_90bd_bc7737746c2drow4_col1\" class=\"data row4 col1\" >$1.02</td>\n",
       "                        <td id=\"T_872b6824_924c_11eb_90bd_bc7737746c2drow4_col2\" class=\"data row4 col2\" >$8.16</td>\n",
       "            </tr>\n",
       "    </tbody></table>"
      ],
      "text/plain": [
       "<pandas.io.formats.style.Styler at 0x2453a526cd0>"
      ]
     },
     "metadata": {},
     "output_type": "display_data"
    }
   ],
   "source": [
    "#Group by Item ID and Item Name\n",
    "item_group_data = player_purchase_data.groupby([\"Item ID\",\"Item Name\"])\n",
    "\n",
    "#calculate count, unique and sum values\n",
    "most_popular_items_df = item_group_data.aggregate({\"Purchase ID\": \"count\",\"Price\":[\"unique\",\"sum\"]})\n",
    "\n",
    "\n",
    "#give proper column names\n",
    "most_popular_items_df.columns = [\"Purchase Count\",\"Item Price\",\"Total Purchase Value\"]\n",
    "\n",
    "#Convert the object type pf column Item Price to float\n",
    "most_popular_items_df[\"Item Price\"] = most_popular_items_df[\"Item Price\"].astype(float)\n",
    "\n",
    "#sort by purchase count in descending order and show only first 5 records\n",
    "sorted_most_popular_items_df= most_popular_items_df.sort_values([\"Purchase Count\"], ascending=False).head(5)\n",
    "\n",
    "#Format columns to display in $\n",
    "display(sorted_most_popular_items_df.style.format({\"Item Price\":\"${:,.2f}\",\n",
    "                                \"Total Purchase Value\":\"${:,.2f}\"}))\n"
   ]
  },
  {
   "cell_type": "markdown",
   "metadata": {},
   "source": [
    "## Most Profitable Items"
   ]
  },
  {
   "cell_type": "markdown",
   "metadata": {},
   "source": [
    "* Sort the above table by total purchase value in descending order\n",
    "\n",
    "\n",
    "* Optional: give the displayed data cleaner formatting\n",
    "\n",
    "\n",
    "* Display a preview of the data frame\n",
    "\n"
   ]
  },
  {
   "cell_type": "code",
   "execution_count": 186,
   "metadata": {
    "scrolled": true
   },
   "outputs": [
    {
     "data": {
      "text/html": [
       "<style  type=\"text/css\" >\n",
       "</style><table id=\"T_8734ef94_924c_11eb_9229_bc7737746c2d\" ><thead>    <tr>        <th class=\"blank\" ></th>        <th class=\"blank level0\" ></th>        <th class=\"col_heading level0 col0\" >Purchase Count</th>        <th class=\"col_heading level0 col1\" >Item Price</th>        <th class=\"col_heading level0 col2\" >Total Purchase Value</th>    </tr>    <tr>        <th class=\"index_name level0\" >Item ID</th>        <th class=\"index_name level1\" >Item Name</th>        <th class=\"blank\" ></th>        <th class=\"blank\" ></th>        <th class=\"blank\" ></th>    </tr></thead><tbody>\n",
       "                <tr>\n",
       "                        <th id=\"T_8734ef94_924c_11eb_9229_bc7737746c2dlevel0_row0\" class=\"row_heading level0 row0\" >178</th>\n",
       "                        <th id=\"T_8734ef94_924c_11eb_9229_bc7737746c2dlevel1_row0\" class=\"row_heading level1 row0\" >Oathbreaker, Last Hope of the Breaking Storm</th>\n",
       "                        <td id=\"T_8734ef94_924c_11eb_9229_bc7737746c2drow0_col0\" class=\"data row0 col0\" >12</td>\n",
       "                        <td id=\"T_8734ef94_924c_11eb_9229_bc7737746c2drow0_col1\" class=\"data row0 col1\" >$4.23</td>\n",
       "                        <td id=\"T_8734ef94_924c_11eb_9229_bc7737746c2drow0_col2\" class=\"data row0 col2\" >$50.76</td>\n",
       "            </tr>\n",
       "            <tr>\n",
       "                        <th id=\"T_8734ef94_924c_11eb_9229_bc7737746c2dlevel0_row1\" class=\"row_heading level0 row1\" >82</th>\n",
       "                        <th id=\"T_8734ef94_924c_11eb_9229_bc7737746c2dlevel1_row1\" class=\"row_heading level1 row1\" >Nirvana</th>\n",
       "                        <td id=\"T_8734ef94_924c_11eb_9229_bc7737746c2drow1_col0\" class=\"data row1 col0\" >9</td>\n",
       "                        <td id=\"T_8734ef94_924c_11eb_9229_bc7737746c2drow1_col1\" class=\"data row1 col1\" >$4.90</td>\n",
       "                        <td id=\"T_8734ef94_924c_11eb_9229_bc7737746c2drow1_col2\" class=\"data row1 col2\" >$44.10</td>\n",
       "            </tr>\n",
       "            <tr>\n",
       "                        <th id=\"T_8734ef94_924c_11eb_9229_bc7737746c2dlevel0_row2\" class=\"row_heading level0 row2\" >145</th>\n",
       "                        <th id=\"T_8734ef94_924c_11eb_9229_bc7737746c2dlevel1_row2\" class=\"row_heading level1 row2\" >Fiery Glass Crusader</th>\n",
       "                        <td id=\"T_8734ef94_924c_11eb_9229_bc7737746c2drow2_col0\" class=\"data row2 col0\" >9</td>\n",
       "                        <td id=\"T_8734ef94_924c_11eb_9229_bc7737746c2drow2_col1\" class=\"data row2 col1\" >$4.58</td>\n",
       "                        <td id=\"T_8734ef94_924c_11eb_9229_bc7737746c2drow2_col2\" class=\"data row2 col2\" >$41.22</td>\n",
       "            </tr>\n",
       "            <tr>\n",
       "                        <th id=\"T_8734ef94_924c_11eb_9229_bc7737746c2dlevel0_row3\" class=\"row_heading level0 row3\" >92</th>\n",
       "                        <th id=\"T_8734ef94_924c_11eb_9229_bc7737746c2dlevel1_row3\" class=\"row_heading level1 row3\" >Final Critic</th>\n",
       "                        <td id=\"T_8734ef94_924c_11eb_9229_bc7737746c2drow3_col0\" class=\"data row3 col0\" >8</td>\n",
       "                        <td id=\"T_8734ef94_924c_11eb_9229_bc7737746c2drow3_col1\" class=\"data row3 col1\" >$4.88</td>\n",
       "                        <td id=\"T_8734ef94_924c_11eb_9229_bc7737746c2drow3_col2\" class=\"data row3 col2\" >$39.04</td>\n",
       "            </tr>\n",
       "            <tr>\n",
       "                        <th id=\"T_8734ef94_924c_11eb_9229_bc7737746c2dlevel0_row4\" class=\"row_heading level0 row4\" >103</th>\n",
       "                        <th id=\"T_8734ef94_924c_11eb_9229_bc7737746c2dlevel1_row4\" class=\"row_heading level1 row4\" >Singed Scalpel</th>\n",
       "                        <td id=\"T_8734ef94_924c_11eb_9229_bc7737746c2drow4_col0\" class=\"data row4 col0\" >8</td>\n",
       "                        <td id=\"T_8734ef94_924c_11eb_9229_bc7737746c2drow4_col1\" class=\"data row4 col1\" >$4.35</td>\n",
       "                        <td id=\"T_8734ef94_924c_11eb_9229_bc7737746c2drow4_col2\" class=\"data row4 col2\" >$34.80</td>\n",
       "            </tr>\n",
       "    </tbody></table>"
      ],
      "text/plain": [
       "<pandas.io.formats.style.Styler at 0x2453a9f31c0>"
      ]
     },
     "metadata": {},
     "output_type": "display_data"
    }
   ],
   "source": [
    "#Sort the above dataframe by Total purchase value in descending order and show only first 5 records\n",
    "most_profitable_items_df = most_popular_items_df.sort_values(by=\"Total Purchase Value\", ascending=False).head(5)\n",
    "#format to display in $\n",
    "display(most_profitable_items_df.style.format({\"Item Price\":\"${:,.2f}\",\n",
    "                                \"Total Purchase Value\":\"${:,.2f}\"}))"
   ]
  },
  {
   "cell_type": "code",
   "execution_count": null,
   "metadata": {},
   "outputs": [],
   "source": []
  }
 ],
 "metadata": {
  "anaconda-cloud": {},
  "kernel_info": {
   "name": "python3"
  },
  "kernelspec": {
   "display_name": "Python 3",
   "language": "python",
   "name": "python3"
  },
  "language_info": {
   "codemirror_mode": {
    "name": "ipython",
    "version": 3
   },
   "file_extension": ".py",
   "mimetype": "text/x-python",
   "name": "python",
   "nbconvert_exporter": "python",
   "pygments_lexer": "ipython3",
   "version": "3.8.5"
  },
  "nteract": {
   "version": "0.2.0"
  }
 },
 "nbformat": 4,
 "nbformat_minor": 4
}
