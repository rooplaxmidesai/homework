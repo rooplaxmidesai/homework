{
 "cells": [
  {
   "cell_type": "code",
   "execution_count": 2,
   "metadata": {},
   "outputs": [],
   "source": [
    "import pandas as pd\n",
    "import matplotlib.pyplot as plt\n",
    "import numpy as np"
   ]
  },
  {
   "cell_type": "markdown",
   "metadata": {},
   "source": [
    "# Basic Data Exploration"
   ]
  },
  {
   "cell_type": "code",
   "execution_count": 4,
   "metadata": {},
   "outputs": [],
   "source": [
    "df = pd.read_csv('temperatures/temperature.csv')"
   ]
  },
  {
   "cell_type": "code",
   "execution_count": 5,
   "metadata": {},
   "outputs": [],
   "source": [
    "df['datetime'] = pd.to_datetime(df['datetime'])"
   ]
  },
  {
   "cell_type": "code",
   "execution_count": 6,
   "metadata": {},
   "outputs": [],
   "source": [
    "df['date']=df['datetime'].dt.date"
   ]
  },
  {
   "cell_type": "markdown",
   "metadata": {},
   "source": [
    "#### Discussion\n",
    "\n",
    "1. Why is this called \"exponential\"? (Try writing out what the first few terms work out to be)\n",
    "    * Exponential method is one of the forecasting methods. It is a technique used to detect significant changes in data by considering the most recent data. Prediction is a weighted sum of past observations, but the model explicitly uses an exponentially decreasing weight for past observations.\n",
    "    * These are the smoothed values from below example:array([287.17, 287.17,287.17160921, 287.17761545,287.18757901, 287.20110417])\n",
    "\n",
    "2. What happens if you make the \"factor\" in the code much smaller? Try .01, .001.\n",
    "    * very smooth line , shifted a little bit, takes a while for data to respond to changes, see the plot below with factor 0.001\n",
    "\n",
    "3. Do you expect this to be faster or slower than implementing a rolling average?\n",
    "    * it is much slower than rolling average\n",
    "\n",
    "4. Try running the two methods - you can even use the time module to measure performance.  Which method is faster?\n",
    "    * rolling is faster\n",
    "    * measure the performance of the code - use time module as below\n",
    "\n",
    "5. In applications where you want to smooth data as it arrives in real time, it's very common to use exponential smoothing instead of a rolling average - why do you think this might be?\n",
    "    * It gives more significance to recent observations\n",
    "    * It gives more accurate result than other methods\n"
   ]
  },
  {
   "cell_type": "code",
   "execution_count": 7,
   "metadata": {},
   "outputs": [],
   "source": [
    "import time"
   ]
  },
  {
   "cell_type": "code",
   "execution_count": 9,
   "metadata": {},
   "outputs": [
    {
     "data": {
      "text/plain": [
       "0               NaN\n",
       "1        287.170000\n",
       "2        287.186092\n",
       "3        287.231672\n",
       "4        287.277251\n",
       "            ...    \n",
       "45248    288.080000\n",
       "45249    286.020000\n",
       "45250    283.940000\n",
       "45251    282.170000\n",
       "45252    280.650000\n",
       "Name: Boston, Length: 45253, dtype: float64"
      ]
     },
     "metadata": {},
     "output_type": "display_data"
    },
    {
     "name": "stdout",
     "output_type": "stream",
     "text": [
      "287.17\n",
      "nan\n"
     ]
    }
   ],
   "source": [
    "display(df[\"Boston\"])\n",
    "print(df.iloc[1]['Boston'])\n",
    "print(df.iloc[0]['Boston'])"
   ]
  },
  {
   "cell_type": "code",
   "execution_count": 16,
   "metadata": {},
   "outputs": [
    {
     "data": {
      "text/plain": [
       "array([287.17      , 287.17      , 287.17160921, 287.17761545,\n",
       "       287.18757901, 287.20110417])"
      ]
     },
     "execution_count": 16,
     "metadata": {},
     "output_type": "execute_result"
    }
   ],
   "source": [
    "#Question 1\n",
    "smoothed_boston1 = np.zeros(6)\n",
    "\n",
    "factor = 0.1\n",
    "\n",
    "for k in range(6):\n",
    "    if k == 0:\n",
    "        smoothed_boston1[k]=df.iloc[1]['Boston']\n",
    "    else:\n",
    "        current_data = df.iloc[k]['Boston']\n",
    "        if np.isnan(current_data):\n",
    "            smoothed_boston1[k]=smoothed_boston1[k-1]\n",
    "        else:\n",
    "            smoothed_boston1[k] = (1-factor)*smoothed_boston1[k-1] + factor*current_data\n",
    "            \n",
    "smoothed_boston1"
   ]
  },
  {
   "cell_type": "code",
   "execution_count": 21,
   "metadata": {},
   "outputs": [
    {
     "name": "stdout",
     "output_type": "stream",
     "text": [
      "Elapsed time for exponential method is: 12.953259699999762\n"
     ]
    }
   ],
   "source": [
    "#Question 2,3,4\n",
    "start = time.perf_counter()\n",
    "smoothed_boston = np.zeros(len(df)-1)\n",
    "\n",
    "factor = 0.1\n",
    "\n",
    "for k in range(len(df)-1):\n",
    "    if k == 0:\n",
    "        smoothed_boston[k]=df.iloc[1]['Boston']\n",
    "        \n",
    "    else:\n",
    "        current_data = df.iloc[k]['Boston']\n",
    "        \n",
    "        if np.isnan(current_data):\n",
    "            smoothed_boston[k]=smoothed_boston[k-1]\n",
    "        else:\n",
    "            smoothed_boston[k] = (1-factor)*smoothed_boston[k-1] + factor*current_data\n",
    "            \n",
    "end = time.perf_counter()\n",
    "elapsed_time_exponential = end - start\n",
    "print(\"Elapsed time for exponential method is:\", elapsed_time_exponential)"
   ]
  },
  {
   "cell_type": "code",
   "execution_count": 22,
   "metadata": {},
   "outputs": [
    {
     "name": "stdout",
     "output_type": "stream",
     "text": [
      "Elapsed time for rolling method is: 0.4612964000007196\n",
      "rolling method is faster\n"
     ]
    }
   ],
   "source": [
    "start = time.perf_counter()\n",
    "df['Boston'].rolling(1000).mean()\n",
    "end = time.perf_counter()\n",
    "elapsed_time_rolling = end - start\n",
    "print(\"Elapsed time for rolling method is:\", elapsed_time_rolling)\n",
    "\n",
    "if elapsed_time_rolling < elapsed_time_exponential:\n",
    "    print(\"rolling method is faster\")\n",
    "else:\n",
    "    print(\"exponential method is faster\")"
   ]
  },
  {
   "cell_type": "code",
   "execution_count": 23,
   "metadata": {},
   "outputs": [
    {
     "data": {
      "text/plain": [
       "<matplotlib.legend.Legend at 0x24b583ba8e0>"
      ]
     },
     "execution_count": 23,
     "metadata": {},
     "output_type": "execute_result"
    },
    {
     "data": {
      "image/png": "[encoded data removed]",
      "text/plain": [
       "<Figure size 432x288 with 1 Axes>"
      ]
     },
     "metadata": {
      "needs_background": "light"
     },
     "output_type": "display_data"
    }
   ],
   "source": [
    "plt.plot(df['Boston'], label='orig')\n",
    "plt.plot(smoothed_boston, label='smoothed with factor 0.1')\n",
    "plt.legend()"
   ]
  },
  {
   "cell_type": "code",
   "execution_count": 17,
   "metadata": {},
   "outputs": [
    {
     "data": {
      "text/plain": [
       "array([287.17      , 287.17      , 287.17001609, ..., 284.62870276,\n",
       "       284.62801406, 284.62555604])"
      ]
     },
     "execution_count": 17,
     "metadata": {},
     "output_type": "execute_result"
    }
   ],
   "source": [
    "\n",
    "smoothed_boston1 = np.zeros(len(df)-1)\n",
    "\n",
    "factor = 0.001\n",
    "\n",
    "for k in range(len(df)-1):\n",
    "    if k == 0:\n",
    "        smoothed_boston1[k]=df.iloc[1]['Boston']\n",
    "    else:\n",
    "        current_data = df.iloc[k]['Boston']\n",
    "        if np.isnan(current_data):\n",
    "            smoothed_boston1[k]=smoothed_boston1[k-1]\n",
    "        else:\n",
    "            smoothed_boston1[k] = (1-factor)*smoothed_boston1[k-1] + factor*current_data\n",
    "            \n",
    "smoothed_boston1"
   ]
  },
  {
   "cell_type": "code",
   "execution_count": 18,
   "metadata": {},
   "outputs": [
    {
     "data": {
      "text/plain": [
       "<matplotlib.legend.Legend at 0x144a0c7a580>"
      ]
     },
     "execution_count": 18,
     "metadata": {},
     "output_type": "execute_result"
    },
    {
     "data": {
      "image/png": "[encoded data removed]",
      "text/plain": [
       "<Figure size 432x288 with 1 Axes>"
      ]
     },
     "metadata": {
      "needs_background": "light"
     },
     "output_type": "display_data"
    }
   ],
   "source": [
    "plt.plot(df['Boston'], label='orig')\n",
    "plt.plot(smoothed_boston1, label='smoothed with factor 0.001')\n",
    "plt.legend()"
   ]
  },
  {
   "cell_type": "code",
   "execution_count": 23,
   "metadata": {},
   "outputs": [
    {
     "data": {
      "text/html": [
       "<div>\n",
       "<style scoped>\n",
       "    .dataframe tbody tr th:only-of-type {\n",
       "        vertical-align: middle;\n",
       "    }\n",
       "\n",
       "    .dataframe tbody tr th {\n",
       "        vertical-align: top;\n",
       "    }\n",
       "\n",
       "    .dataframe thead th {\n",
       "        text-align: right;\n",
       "    }\n",
       "</style>\n",
       "<table border=\"1\" class=\"dataframe\">\n",
       "  <thead>\n",
       "    <tr style=\"text-align: right;\">\n",
       "      <th></th>\n",
       "      <th>0</th>\n",
       "    </tr>\n",
       "  </thead>\n",
       "  <tbody>\n",
       "    <tr>\n",
       "      <th>0</th>\n",
       "      <td>10</td>\n",
       "    </tr>\n",
       "    <tr>\n",
       "      <th>1</th>\n",
       "      <td>20</td>\n",
       "    </tr>\n",
       "    <tr>\n",
       "      <th>2</th>\n",
       "      <td>30</td>\n",
       "    </tr>\n",
       "    <tr>\n",
       "      <th>3</th>\n",
       "      <td>40</td>\n",
       "    </tr>\n",
       "    <tr>\n",
       "      <th>4</th>\n",
       "      <td>50</td>\n",
       "    </tr>\n",
       "    <tr>\n",
       "      <th>5</th>\n",
       "      <td>60</td>\n",
       "    </tr>\n",
       "  </tbody>\n",
       "</table>\n",
       "</div>"
      ],
      "text/plain": [
       "    0\n",
       "0  10\n",
       "1  20\n",
       "2  30\n",
       "3  40\n",
       "4  50\n",
       "5  60"
      ]
     },
     "metadata": {},
     "output_type": "display_data"
    },
    {
     "name": "stdout",
     "output_type": "stream",
     "text": [
      "20\n"
     ]
    },
    {
     "data": {
      "text/plain": [
       "array([20.  , 20.  , 21.  , 22.9 , 25.61])"
      ]
     },
     "execution_count": 23,
     "metadata": {},
     "output_type": "execute_result"
    }
   ],
   "source": [
    "#Question 1 trying example\n",
    "num_list = [10,20,30,40,50,60]\n",
    "sample_df = pd.DataFrame(num_list)\n",
    "display(sample_df)\n",
    "\n",
    "smoothed = np.zeros(len(num_list)-1)\n",
    "print(sample_df.iloc[1][0])\n",
    "\n",
    "factor = 0.1\n",
    "\n",
    "for k in range(len(num_list)-1):\n",
    "    if k == 0:\n",
    "        smoothed[k]=sample_df.iloc[1][0]\n",
    "    else:\n",
    "        current_data = sample_df.iloc[k][0]\n",
    "        if np.isnan(current_data):\n",
    "            smoothed[k]=smoothed[k-1]\n",
    "        else:\n",
    "            smoothed[k] = (1-factor)*smoothed[k-1] + factor*current_data\n",
    "            \n",
    "smoothed"
   ]
  },
  {
   "cell_type": "code",
   "execution_count": null,
   "metadata": {},
   "outputs": [],
   "source": []
  }
 ],
 "metadata": {
  "kernelspec": {
   "display_name": "Python 3",
   "language": "python",
   "name": "python3"
  },
  "language_info": {
   "codemirror_mode": {
    "name": "ipython",
    "version": 3
   },
   "file_extension": ".py",
   "mimetype": "text/x-python",
   "name": "python",
   "nbconvert_exporter": "python",
   "pygments_lexer": "ipython3",
   "version": "3.8.5"
  }
 },
 "nbformat": 4,
 "nbformat_minor": 4
}
