{
 "cells": [
  {
   "cell_type": "markdown",
   "metadata": {},
   "source": [
    "## 1. Make sure you can get the API from class to work in Azure. Take a screenshot of it working and add the image to a jupyter notebook.\n",
    "\n",
    "- Flask APP \"route /\" screenshot\n",
    "    - !['Hello World!'](./FlaskApp_sc1.PNG?raw=true \"route /\")\n",
    "- Flask APP \"route /gdp\" screen\n",
    "    - !['US GDP'](./FlaskApp_sc2.PNG?raw=true \"route /gdp\")\n",
    "- Flask APP \"route /gdp/year\" screenshot\n",
    "    - !['US GDP for year'](./FlaskApp_sc3.PNG?raw=true \"route /gdp/year\")\n",
    "\n",
    "- Azure Flask API \"route /\" screenshot\n",
    "    - !['Hello World!'](./AzureFlaskApp_sc1.PNG?raw=true \"route /\")\n",
    "- Azure Flask API \"route /gdp\" screenshot\n",
    "    - !['US GDP'](./AzureFlaskApp_sc2.PNG?raw=true \"route /gdp\")\n",
    "- Azure Flask API \"route /gdp/year\" screenshot\n",
    "    - !['US GDP for year'](./AzureFlaskApp_sc3.PNG?raw=true \"route /gdp/year\")\n"
   ]
  },
  {
   "cell_type": "code",
   "execution_count": null,
   "metadata": {},
   "outputs": [],
   "source": []
  }
 ],
 "metadata": {
  "kernelspec": {
   "display_name": "Python 3",
   "language": "python",
   "name": "python3"
  },
  "language_info": {
   "codemirror_mode": {
    "name": "ipython",
    "version": 3
   },
   "file_extension": ".py",
   "mimetype": "text/x-python",
   "name": "python",
   "nbconvert_exporter": "python",
   "pygments_lexer": "ipython3",
   "version": "3.8.5"
  }
 },
 "nbformat": 4,
 "nbformat_minor": 4
}
