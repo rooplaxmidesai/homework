{
 "cells": [
  {
   "cell_type": "markdown",
   "metadata": {},
   "source": [
    "## 1. Look up the Adam optimization functions in PyTorch\n",
    "https://pytorch.org/docs/stable/optim.html . \n",
    "- How does it work? Try at least one other optimization function with the diabetes dataset shown in class. \n",
    "    - Optimizers work to reduce losses by changing the attributes of the neural network such as weights and learning rate.Adam(Adaptive moment) works by maintaining a learning rate for each network weight (parameter) and separately adapted as learning unfolds. Adam combines benefits of both AdaGrad(Adaptive Gradient) and RMSProp(Root Mean Square propogation).\n",
    "    - Epoch number: 1 with loss: 0.6604259610176086\n",
    "    - Epoch number: 491 with loss: 0.43983137607574463\n",
    "    - accuracy_score - 0.7272727272727273\n",
    "    - recall - 0.73\n",
    "- How does the model perform with the new optimizer? \n",
    "    - Tried different optimizers Adagrad, SGD,Adadelta accuracy didn't improve infact it went down\n",
    "    - With RMSprop optimizer accuracy went up to 0.72 \n",
    "        - Epoch number: 1 with loss: 0.6150843501091003 \n",
    "        - Epoch number: 491 with loss: 0.05505194514989853\n",
    "        - acuuracy_score - 0.7207792207792207\n",
    "        - recall - 0.72\n",
    "- Did it perform better or worse than Adam? Why do you think that is?\n",
    "    - Compared to Adam doing RMSprop Adam did perfom better.\n",
    "    - Didn't quiet understand why values sometimes changed after every run ? after restaring kernel?"
   ]
  },
  {
   "cell_type": "code",
   "execution_count": 13,
   "metadata": {},
   "outputs": [
    {
     "data": {
      "text/html": [
       "<div>\n",
       "<style scoped>\n",
       "    .dataframe tbody tr th:only-of-type {\n",
       "        vertical-align: middle;\n",
       "    }\n",
       "\n",
       "    .dataframe tbody tr th {\n",
       "        vertical-align: top;\n",
       "    }\n",
       "\n",
       "    .dataframe thead th {\n",
       "        text-align: right;\n",
       "    }\n",
       "</style>\n",
       "<table border=\"1\" class=\"dataframe\">\n",
       "  <thead>\n",
       "    <tr style=\"text-align: right;\">\n",
       "      <th></th>\n",
       "      <th>Pregnancies</th>\n",
       "      <th>Glucose</th>\n",
       "      <th>BloodPressure</th>\n",
       "      <th>SkinThickness</th>\n",
       "      <th>Insulin</th>\n",
       "      <th>BMI</th>\n",
       "      <th>DiabetesPedigreeFunction</th>\n",
       "      <th>Age</th>\n",
       "      <th>Outcome</th>\n",
       "    </tr>\n",
       "  </thead>\n",
       "  <tbody>\n",
       "    <tr>\n",
       "      <th>0</th>\n",
       "      <td>6</td>\n",
       "      <td>148</td>\n",
       "      <td>72</td>\n",
       "      <td>35</td>\n",
       "      <td>0</td>\n",
       "      <td>33.6</td>\n",
       "      <td>0.627</td>\n",
       "      <td>50</td>\n",
       "      <td>1</td>\n",
       "    </tr>\n",
       "    <tr>\n",
       "      <th>1</th>\n",
       "      <td>1</td>\n",
       "      <td>85</td>\n",
       "      <td>66</td>\n",
       "      <td>29</td>\n",
       "      <td>0</td>\n",
       "      <td>26.6</td>\n",
       "      <td>0.351</td>\n",
       "      <td>31</td>\n",
       "      <td>0</td>\n",
       "    </tr>\n",
       "    <tr>\n",
       "      <th>2</th>\n",
       "      <td>8</td>\n",
       "      <td>183</td>\n",
       "      <td>64</td>\n",
       "      <td>0</td>\n",
       "      <td>0</td>\n",
       "      <td>23.3</td>\n",
       "      <td>0.672</td>\n",
       "      <td>32</td>\n",
       "      <td>1</td>\n",
       "    </tr>\n",
       "    <tr>\n",
       "      <th>3</th>\n",
       "      <td>1</td>\n",
       "      <td>89</td>\n",
       "      <td>66</td>\n",
       "      <td>23</td>\n",
       "      <td>94</td>\n",
       "      <td>28.1</td>\n",
       "      <td>0.167</td>\n",
       "      <td>21</td>\n",
       "      <td>0</td>\n",
       "    </tr>\n",
       "    <tr>\n",
       "      <th>4</th>\n",
       "      <td>0</td>\n",
       "      <td>137</td>\n",
       "      <td>40</td>\n",
       "      <td>35</td>\n",
       "      <td>168</td>\n",
       "      <td>43.1</td>\n",
       "      <td>2.288</td>\n",
       "      <td>33</td>\n",
       "      <td>1</td>\n",
       "    </tr>\n",
       "  </tbody>\n",
       "</table>\n",
       "</div>"
      ],
      "text/plain": [
       "   Pregnancies  Glucose  BloodPressure  SkinThickness  Insulin   BMI  \\\n",
       "0            6      148             72             35        0  33.6   \n",
       "1            1       85             66             29        0  26.6   \n",
       "2            8      183             64              0        0  23.3   \n",
       "3            1       89             66             23       94  28.1   \n",
       "4            0      137             40             35      168  43.1   \n",
       "\n",
       "   DiabetesPedigreeFunction  Age  Outcome  \n",
       "0                     0.627   50        1  \n",
       "1                     0.351   31        0  \n",
       "2                     0.672   32        1  \n",
       "3                     0.167   21        0  \n",
       "4                     2.288   33        1  "
      ]
     },
     "execution_count": 13,
     "metadata": {},
     "output_type": "execute_result"
    }
   ],
   "source": [
    "import pandas as pd\n",
    "import torch\n",
    "\n",
    "diabetes_df = pd.read_csv(\"../week_13/diabetes.csv\")\n",
    "diabetes_df.head()"
   ]
  },
  {
   "cell_type": "code",
   "execution_count": 14,
   "metadata": {},
   "outputs": [],
   "source": [
    "from sklearn.model_selection import train_test_split\n",
    "from sklearn.preprocessing import StandardScaler\n",
    "\n",
    "X = diabetes_df.drop('Outcome', axis=1).values\n",
    "y = diabetes_df['Outcome'].values\n",
    "\n",
    "# Split into training and test set\n",
    "X_train, X_test, y_train, y_test = train_test_split(X, y, test_size = 0.2, random_state=42, stratify=y)\n",
    "\n",
    "# #Standardize\n",
    "sc= StandardScaler()\n",
    "X_train=sc.fit_transform(X_train)\n",
    "X_test=sc.fit_transform(X_test)"
   ]
  },
  {
   "cell_type": "code",
   "execution_count": 15,
   "metadata": {},
   "outputs": [
    {
     "name": "stdout",
     "output_type": "stream",
     "text": [
      "tensor([[-0.8514, -0.9801, -0.4048,  ..., -0.6077,  0.3108, -0.7922],\n",
      "        [ 0.3566,  0.1614,  0.4654,  ..., -0.3021, -0.1164,  0.5610],\n",
      "        [-0.5494, -0.5045, -0.6223,  ...,  0.3726, -0.7649, -0.7076],\n",
      "        ...,\n",
      "        [-0.8514, -0.7582,  0.0303,  ...,  0.7800, -0.7861, -0.2847],\n",
      "        [ 1.8665, -0.3142,  0.0303,  ..., -0.5695, -1.0194,  0.5610],\n",
      "        [ 0.0546,  0.7322, -0.6223,  ..., -0.3149, -0.5770,  0.3073]])\n"
     ]
    }
   ],
   "source": [
    "import torch.nn as nn\n",
    "import torch.nn.functional as F #this has activation functions\n",
    "\n",
    "# Creating tensors\n",
    "X_train = torch.FloatTensor(X_train)\n",
    "X_test = torch.FloatTensor(X_test)\n",
    "\n",
    "y_train = torch.LongTensor(y_train)\n",
    "y_test = torch.LongTensor(y_test)\n",
    "\n",
    "print(X_train)"
   ]
  },
  {
   "cell_type": "code",
   "execution_count": 16,
   "metadata": {},
   "outputs": [],
   "source": [
    "class ANN_Model(nn.Module):\n",
    "    def __init__(self, input_features=8, hidden1=20, hidden2=20, out_features =2):\n",
    "        super().__init__()\n",
    "        self.layer_1_connection = nn.Linear(input_features, hidden1)\n",
    "        self.layer_2_connection = nn.Linear(hidden1, hidden2)\n",
    "        self.out = nn.Linear(hidden2, out_features)\n",
    "    \n",
    "    def forward(self, x):\n",
    "        #apply activation functions\n",
    "        x = F.relu(self.layer_1_connection(x))\n",
    "        x = F.relu(self.layer_2_connection(x))\n",
    "        x = self.out(x)\n",
    "        return x"
   ]
  },
  {
   "cell_type": "code",
   "execution_count": 17,
   "metadata": {},
   "outputs": [],
   "source": [
    "torch.manual_seed(42)\n",
    "\n",
    "#instantiate the model\n",
    "model = ANN_Model()"
   ]
  },
  {
   "cell_type": "code",
   "execution_count": 18,
   "metadata": {},
   "outputs": [],
   "source": [
    "# loss function\n",
    "loss_function = nn.CrossEntropyLoss()\n",
    "\n",
    "#optimizer\n",
    "#optimizer = torch.optim.Adam(model.parameters(), lr = 0.01)\n",
    "#noted results for this learning rate\n",
    "#optimizer =  torch.optim.SGD(model.parameters(), lr=0.05) #, momentum=0.9)\n",
    "\n",
    "#According to what was discussed in group exercise, SparseAdam doesn't work here because this dataset doesn't have any missing/null values. SparseAdams is used for datasets where\n",
    "#there are missing values.\n",
    "#optimizer = torch.optim.SparseAdam(model.parameters(), lr=0.01,betas=0.9)\n",
    "#optimizer = torch.optim.Adadelta(model.parameters(), lr=0.05 )#, rho=0.9, eps=1e-06, weight_decay=0)\n",
    "#optimizer = torch.optim.Adagrad(model.parameters(), lr=0.01,lr_decay=0, weight_decay=0, initial_accumulator_value=0)\n",
    "\n",
    "optimizer = torch.optim.RMSprop(model.parameters(), lr=0.01, alpha=0.99, eps=1e-08, weight_decay=0, momentum=0, centered=False)\n",
    "#Adamw?\n",
    "#how fast they tune?\n",
    "#how quickly the model can perform?\n",
    "#different optimizer for regression problems?\n"
   ]
  },
  {
   "cell_type": "code",
   "execution_count": 19,
   "metadata": {},
   "outputs": [
    {
     "name": "stdout",
     "output_type": "stream",
     "text": [
      "Epoch number: 1 with loss: 0.6150843501091003\n",
      "Epoch number: 11 with loss: 0.43112674355506897\n",
      "Epoch number: 21 with loss: 0.41004201769828796\n",
      "Epoch number: 31 with loss: 0.3770589232444763\n",
      "Epoch number: 41 with loss: 0.361624538898468\n",
      "Epoch number: 51 with loss: 0.34350842237472534\n",
      "Epoch number: 61 with loss: 0.32837292551994324\n",
      "Epoch number: 71 with loss: 0.3073282837867737\n",
      "Epoch number: 81 with loss: 0.28974857926368713\n",
      "Epoch number: 91 with loss: 0.2859925627708435\n",
      "Epoch number: 101 with loss: 0.264140784740448\n",
      "Epoch number: 111 with loss: 0.24424584209918976\n",
      "Epoch number: 121 with loss: 0.23626987636089325\n",
      "Epoch number: 131 with loss: 0.22080349922180176\n",
      "Epoch number: 141 with loss: 0.2224786877632141\n",
      "Epoch number: 151 with loss: 0.20888471603393555\n",
      "Epoch number: 161 with loss: 0.20124228298664093\n",
      "Epoch number: 171 with loss: 0.18742360174655914\n",
      "Epoch number: 181 with loss: 0.187859907746315\n",
      "Epoch number: 191 with loss: 0.17149567604064941\n",
      "Epoch number: 201 with loss: 0.1689658761024475\n",
      "Epoch number: 211 with loss: 0.1627076417207718\n",
      "Epoch number: 221 with loss: 0.15099285542964935\n",
      "Epoch number: 231 with loss: 0.15357063710689545\n",
      "Epoch number: 241 with loss: 0.13392885029315948\n",
      "Epoch number: 251 with loss: 0.14290043711662292\n",
      "Epoch number: 261 with loss: 0.12216739356517792\n",
      "Epoch number: 271 with loss: 0.13070189952850342\n",
      "Epoch number: 281 with loss: 0.12340950965881348\n",
      "Epoch number: 291 with loss: 0.11489687114953995\n",
      "Epoch number: 301 with loss: 0.11959145218133926\n",
      "Epoch number: 311 with loss: 0.17561979591846466\n",
      "Epoch number: 321 with loss: 0.09684092551469803\n",
      "Epoch number: 331 with loss: 0.09156440198421478\n",
      "Epoch number: 341 with loss: 0.0879703238606453\n",
      "Epoch number: 351 with loss: 0.08994906395673752\n",
      "Epoch number: 361 with loss: 0.08968203514814377\n",
      "Epoch number: 371 with loss: 0.07810646295547485\n",
      "Epoch number: 381 with loss: 0.09325007349252701\n",
      "Epoch number: 391 with loss: 0.08922422677278519\n",
      "Epoch number: 401 with loss: 0.0741306021809578\n",
      "Epoch number: 411 with loss: 0.0704241469502449\n",
      "Epoch number: 421 with loss: 0.06774930655956268\n",
      "Epoch number: 431 with loss: 0.06488620489835739\n",
      "Epoch number: 441 with loss: 0.0636475682258606\n",
      "Epoch number: 451 with loss: 0.061725493520498276\n",
      "Epoch number: 461 with loss: 0.06006580591201782\n",
      "Epoch number: 471 with loss: 0.059995558112859726\n",
      "Epoch number: 481 with loss: 0.06581368297338486\n",
      "Epoch number: 491 with loss: 0.05505194514989853\n"
     ]
    }
   ],
   "source": [
    "#run model through multiple epochs/iterations\n",
    "final_loss = []\n",
    "n_epochs = 500\n",
    "for epoch in range(n_epochs):\n",
    "    y_pred = model.forward(X_train)\n",
    "    loss = loss_function(y_pred, y_train)\n",
    "    final_loss.append(loss)\n",
    "    \n",
    "    if epoch % 10 == 1:\n",
    "        print(f'Epoch number: {epoch} with loss: {loss.item()}')\n",
    "    \n",
    "    optimizer.zero_grad() #zero the gradient before running backwards propagation\n",
    "    loss.backward() #for backward propagation \n",
    "    optimizer.step() #performs one optimization step each epoch\n",
    "    "
   ]
  },
  {
   "cell_type": "code",
   "execution_count": 20,
   "metadata": {},
   "outputs": [],
   "source": [
    "#predictions\n",
    "y_pred = []\n",
    "\n",
    "with torch.no_grad():\n",
    "    for i, data in enumerate(X_test):\n",
    "        prediction = model(data)\n",
    "        y_pred.append(prediction.argmax().item())\n"
   ]
  },
  {
   "cell_type": "code",
   "execution_count": 21,
   "metadata": {},
   "outputs": [
    {
     "name": "stdout",
     "output_type": "stream",
     "text": [
      "0.7207792207792207\n"
     ]
    }
   ],
   "source": [
    "from sklearn.metrics import accuracy_score\n",
    "a_score = accuracy_score(y_test, y_pred)\n",
    "print(a_score)"
   ]
  },
  {
   "cell_type": "code",
   "execution_count": 22,
   "metadata": {},
   "outputs": [
    {
     "name": "stdout",
     "output_type": "stream",
     "text": [
      "              precision    recall  f1-score   support\n",
      "\n",
      "           0       0.76      0.84      0.80       100\n",
      "           1       0.63      0.50      0.56        54\n",
      "\n",
      "    accuracy                           0.72       154\n",
      "   macro avg       0.69      0.67      0.68       154\n",
      "weighted avg       0.71      0.72      0.71       154\n",
      "\n"
     ]
    }
   ],
   "source": [
    "from sklearn.metrics import classification_report\n",
    "\n",
    "print(classification_report(y_test, y_pred))"
   ]
  },
  {
   "cell_type": "markdown",
   "metadata": {},
   "source": [
    "## 2. Write a function that lists and counts the number of divisors for an input value.\n",
    "- Example 1:\n",
    "- Input: 5\n",
    "- Output: “There are 2 divisors: 1 and 5”\n",
    "- Example 2:\n",
    "- Input: 40\n",
    "- Output: “There are 8 divisors: 1, 2, 4, 5, 8, 10, 20, and 40”"
   ]
  },
  {
   "cell_type": "code",
   "execution_count": 23,
   "metadata": {},
   "outputs": [],
   "source": [
    "def getDivisorsAndCount(number):\n",
    "    if number > 0:\n",
    "        count = 0\n",
    "        divisors = []\n",
    "        for i in range(1,number+1):\n",
    "            if number%i == 0:\n",
    "                count = count + 1\n",
    "                divisors.append(i)\n",
    "        \n",
    "    my_string = ','.join(map(str, divisors)) \n",
    "    new =' and '\n",
    "    old=','\n",
    "    maxreplace = 1\n",
    "\n",
    "    result = new.join(my_string.rsplit(old, maxreplace))\n",
    "    print(\"There are \",count,\"divisors: \" , result)\n",
    "    "
   ]
  },
  {
   "cell_type": "code",
   "execution_count": 24,
   "metadata": {},
   "outputs": [
    {
     "name": "stdout",
     "output_type": "stream",
     "text": [
      "There are  2 divisors:  1 and 5\n",
      "There are  8 divisors:  1,2,4,5,8,10,20 and 40\n",
      "There are  2 divisors:  1 and 13\n"
     ]
    }
   ],
   "source": [
    "getDivisorsAndCount(5)\n",
    "getDivisorsAndCount(40)\n",
    "getDivisorsAndCount(13)"
   ]
  },
  {
   "cell_type": "code",
   "execution_count": null,
   "metadata": {},
   "outputs": [],
   "source": []
  }
 ],
 "metadata": {
  "kernelspec": {
   "display_name": "Python 3",
   "language": "python",
   "name": "python3"
  },
  "language_info": {
   "codemirror_mode": {
    "name": "ipython",
    "version": 3
   },
   "file_extension": ".py",
   "mimetype": "text/x-python",
   "name": "python",
   "nbconvert_exporter": "python",
   "pygments_lexer": "ipython3",
   "version": "3.8.5"
  }
 },
 "nbformat": 4,
 "nbformat_minor": 4
}
