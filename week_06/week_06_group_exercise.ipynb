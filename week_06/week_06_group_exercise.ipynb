{
 "cells": [
  {
   "cell_type": "code",
   "execution_count": 158,
   "metadata": {
    "scrolled": false
   },
   "outputs": [
    {
     "data": {
      "text/plain": [
       "'\\n1. Import jeopardy.csv and create a dataframe from the data. Find out the following:\\n    a. How many rows are there in the dataframe? What does a row represent in this\\n    dataset? What is the “grain”?\\n    b. Clean the data. How do you need to “clean” it? What is “dirty” about this data?\\n    c. How many unique shows were there each year?\\n    d. How many times was each category used?\\n    e. Which month (over the years) has had the most shows?\\n    f. Are there any answers that appeared multiple times? Find the questions for the top\\n    three most common answers.\\n\\n2. Create a visualization that shows the top 5 categories (those referenced the most often). Be\\nsure to label appropriately\\n'"
      ]
     },
     "execution_count": 158,
     "metadata": {},
     "output_type": "execute_result"
    }
   ],
   "source": [
    "\"\"\"\n",
    "1. Import jeopardy.csv and create a dataframe from the data. Find out the following:\n",
    "    a. How many rows are there in the dataframe? What does a row represent in this\n",
    "    dataset? What is the “grain”?\n",
    "    b. Clean the data. How do you need to “clean” it? What is “dirty” about this data?\n",
    "    c. How many unique shows were there each year?\n",
    "    d. How many times was each category used?\n",
    "    e. Which month (over the years) has had the most shows?\n",
    "    f. Are there any answers that appeared multiple times? Find the questions for the top\n",
    "    three most common answers.\n",
    "\n",
    "2. Create a visualization that shows the top 5 categories (those referenced the most often). Be\n",
    "sure to label appropriately\n",
    "\"\"\""
   ]
  },
  {
   "cell_type": "code",
   "execution_count": 159,
   "metadata": {},
   "outputs": [],
   "source": [
    "import pandas as pd\n",
    "import matplotlib.pyplot as plt\n",
    "import seaborn as sns"
   ]
  },
  {
   "cell_type": "code",
   "execution_count": 160,
   "metadata": {},
   "outputs": [
    {
     "data": {
      "text/html": [
       "<div>\n",
       "<style scoped>\n",
       "    .dataframe tbody tr th:only-of-type {\n",
       "        vertical-align: middle;\n",
       "    }\n",
       "\n",
       "    .dataframe tbody tr th {\n",
       "        vertical-align: top;\n",
       "    }\n",
       "\n",
       "    .dataframe thead th {\n",
       "        text-align: right;\n",
       "    }\n",
       "</style>\n",
       "<table border=\"1\" class=\"dataframe\">\n",
       "  <thead>\n",
       "    <tr style=\"text-align: right;\">\n",
       "      <th></th>\n",
       "      <th>Show Number</th>\n",
       "      <th>Air Date</th>\n",
       "      <th>Round</th>\n",
       "      <th>Category</th>\n",
       "      <th>Value</th>\n",
       "      <th>Question</th>\n",
       "      <th>Answer</th>\n",
       "    </tr>\n",
       "  </thead>\n",
       "  <tbody>\n",
       "    <tr>\n",
       "      <th>0</th>\n",
       "      <td>4680</td>\n",
       "      <td>12/31/2004</td>\n",
       "      <td>Jeopardy!</td>\n",
       "      <td>HISTORY</td>\n",
       "      <td>$200</td>\n",
       "      <td>For the last 8 years of his life, Galileo was ...</td>\n",
       "      <td>Copernicus</td>\n",
       "    </tr>\n",
       "    <tr>\n",
       "      <th>1</th>\n",
       "      <td>4680</td>\n",
       "      <td>12/31/2004</td>\n",
       "      <td>Jeopardy!</td>\n",
       "      <td>ESPN's TOP 10 ALL-TIME ATHLETES</td>\n",
       "      <td>$200</td>\n",
       "      <td>No. 2: 1912 Olympian; football star at Carlisl...</td>\n",
       "      <td>Jim Thorpe</td>\n",
       "    </tr>\n",
       "    <tr>\n",
       "      <th>2</th>\n",
       "      <td>4680</td>\n",
       "      <td>12/31/2004</td>\n",
       "      <td>Jeopardy!</td>\n",
       "      <td>EVERYBODY TALKS ABOUT IT...</td>\n",
       "      <td>$200</td>\n",
       "      <td>The city of Yuma in this state has a record av...</td>\n",
       "      <td>Arizona</td>\n",
       "    </tr>\n",
       "    <tr>\n",
       "      <th>3</th>\n",
       "      <td>4680</td>\n",
       "      <td>12/31/2004</td>\n",
       "      <td>Jeopardy!</td>\n",
       "      <td>THE COMPANY LINE</td>\n",
       "      <td>$200</td>\n",
       "      <td>In 1963, live on \"The Art Linkletter Show\", th...</td>\n",
       "      <td>McDonald's</td>\n",
       "    </tr>\n",
       "    <tr>\n",
       "      <th>4</th>\n",
       "      <td>4680</td>\n",
       "      <td>12/31/2004</td>\n",
       "      <td>Jeopardy!</td>\n",
       "      <td>EPITAPHS &amp; TRIBUTES</td>\n",
       "      <td>$200</td>\n",
       "      <td>Signer of the Dec. of Indep., framer of the Co...</td>\n",
       "      <td>John Adams</td>\n",
       "    </tr>\n",
       "  </tbody>\n",
       "</table>\n",
       "</div>"
      ],
      "text/plain": [
       "   Show Number    Air Date      Round                         Category  Value  \\\n",
       "0         4680  12/31/2004  Jeopardy!                          HISTORY  $200    \n",
       "1         4680  12/31/2004  Jeopardy!  ESPN's TOP 10 ALL-TIME ATHLETES  $200    \n",
       "2         4680  12/31/2004  Jeopardy!      EVERYBODY TALKS ABOUT IT...  $200    \n",
       "3         4680  12/31/2004  Jeopardy!                 THE COMPANY LINE  $200    \n",
       "4         4680  12/31/2004  Jeopardy!              EPITAPHS & TRIBUTES  $200    \n",
       "\n",
       "                                            Question      Answer  \n",
       "0  For the last 8 years of his life, Galileo was ...  Copernicus  \n",
       "1  No. 2: 1912 Olympian; football star at Carlisl...  Jim Thorpe  \n",
       "2  The city of Yuma in this state has a record av...     Arizona  \n",
       "3  In 1963, live on \"The Art Linkletter Show\", th...  McDonald's  \n",
       "4  Signer of the Dec. of Indep., framer of the Co...  John Adams  "
      ]
     },
     "metadata": {},
     "output_type": "display_data"
    }
   ],
   "source": [
    "#1. Import jeopardy.csv and create a dataframe from the data\n",
    "\n",
    "#set the filename and read into dataframe\n",
    "csv_filename = \"JEOPARDY_CSV.csv\"\n",
    "jeopardy_df = pd.read_csv(csv_filename)\n",
    "jeopardy_df.columns = jeopardy_df.columns.str.lstrip()\n",
    "display(jeopardy_df.head())\n"
   ]
  },
  {
   "cell_type": "code",
   "execution_count": 161,
   "metadata": {},
   "outputs": [
    {
     "name": "stdout",
     "output_type": "stream",
     "text": [
      "216930\n"
     ]
    }
   ],
   "source": [
    "#a. How many rows are there in the dataframe? What does a row represent in this dataset? What is the “grain”?\n",
    "print(len(jeopardy_df))\n",
    "\n",
    "#A row represents a question and its answer in a category for a game show number.\n",
    "\n",
    "#What is grain? -\n",
    "#The Grain or Granularity of the table refers to the level of each row in the table. It has more than one row for show number"
   ]
  },
  {
   "cell_type": "code",
   "execution_count": 162,
   "metadata": {},
   "outputs": [
    {
     "data": {
      "text/html": [
       "<div>\n",
       "<style scoped>\n",
       "    .dataframe tbody tr th:only-of-type {\n",
       "        vertical-align: middle;\n",
       "    }\n",
       "\n",
       "    .dataframe tbody tr th {\n",
       "        vertical-align: top;\n",
       "    }\n",
       "\n",
       "    .dataframe thead th {\n",
       "        text-align: right;\n",
       "    }\n",
       "</style>\n",
       "<table border=\"1\" class=\"dataframe\">\n",
       "  <thead>\n",
       "    <tr style=\"text-align: right;\">\n",
       "      <th></th>\n",
       "      <th>Show Number</th>\n",
       "      <th>Air Date</th>\n",
       "      <th>Round</th>\n",
       "      <th>Category</th>\n",
       "      <th>Value</th>\n",
       "      <th>Question</th>\n",
       "      <th>Answer</th>\n",
       "      <th>Month</th>\n",
       "      <th>Year</th>\n",
       "    </tr>\n",
       "  </thead>\n",
       "  <tbody>\n",
       "    <tr>\n",
       "      <th>0</th>\n",
       "      <td>4680</td>\n",
       "      <td>12/31/2004</td>\n",
       "      <td>Jeopardy!</td>\n",
       "      <td>History</td>\n",
       "      <td>$200</td>\n",
       "      <td>For the last 8 years of his life, Galileo was ...</td>\n",
       "      <td>Copernicus</td>\n",
       "      <td>12</td>\n",
       "      <td>2004</td>\n",
       "    </tr>\n",
       "    <tr>\n",
       "      <th>1</th>\n",
       "      <td>4680</td>\n",
       "      <td>12/31/2004</td>\n",
       "      <td>Jeopardy!</td>\n",
       "      <td>Espn's top 10 all-time athletes</td>\n",
       "      <td>$200</td>\n",
       "      <td>No. 2: 1912 Olympian; football star at Carlisl...</td>\n",
       "      <td>Jim Thorpe</td>\n",
       "      <td>12</td>\n",
       "      <td>2004</td>\n",
       "    </tr>\n",
       "    <tr>\n",
       "      <th>2</th>\n",
       "      <td>4680</td>\n",
       "      <td>12/31/2004</td>\n",
       "      <td>Jeopardy!</td>\n",
       "      <td>Everybody talks about it...</td>\n",
       "      <td>$200</td>\n",
       "      <td>The city of Yuma in this state has a record av...</td>\n",
       "      <td>Arizona</td>\n",
       "      <td>12</td>\n",
       "      <td>2004</td>\n",
       "    </tr>\n",
       "    <tr>\n",
       "      <th>3</th>\n",
       "      <td>4680</td>\n",
       "      <td>12/31/2004</td>\n",
       "      <td>Jeopardy!</td>\n",
       "      <td>The company line</td>\n",
       "      <td>$200</td>\n",
       "      <td>In 1963, live on \"The Art Linkletter Show\", th...</td>\n",
       "      <td>McDonald's</td>\n",
       "      <td>12</td>\n",
       "      <td>2004</td>\n",
       "    </tr>\n",
       "    <tr>\n",
       "      <th>4</th>\n",
       "      <td>4680</td>\n",
       "      <td>12/31/2004</td>\n",
       "      <td>Jeopardy!</td>\n",
       "      <td>Epitaphs &amp; tributes</td>\n",
       "      <td>$200</td>\n",
       "      <td>Signer of the Dec. of Indep., framer of the Co...</td>\n",
       "      <td>John Adams</td>\n",
       "      <td>12</td>\n",
       "      <td>2004</td>\n",
       "    </tr>\n",
       "  </tbody>\n",
       "</table>\n",
       "</div>"
      ],
      "text/plain": [
       "   Show Number    Air Date      Round                         Category  Value  \\\n",
       "0         4680  12/31/2004  Jeopardy!                          History  $200    \n",
       "1         4680  12/31/2004  Jeopardy!  Espn's top 10 all-time athletes  $200    \n",
       "2         4680  12/31/2004  Jeopardy!      Everybody talks about it...  $200    \n",
       "3         4680  12/31/2004  Jeopardy!                 The company line  $200    \n",
       "4         4680  12/31/2004  Jeopardy!              Epitaphs & tributes  $200    \n",
       "\n",
       "                                            Question      Answer  Month  Year  \n",
       "0  For the last 8 years of his life, Galileo was ...  Copernicus     12  2004  \n",
       "1  No. 2: 1912 Olympian; football star at Carlisl...  Jim Thorpe     12  2004  \n",
       "2  The city of Yuma in this state has a record av...     Arizona     12  2004  \n",
       "3  In 1963, live on \"The Art Linkletter Show\", th...  McDonald's     12  2004  \n",
       "4  Signer of the Dec. of Indep., framer of the Co...  John Adams     12  2004  "
      ]
     },
     "metadata": {},
     "output_type": "display_data"
    }
   ],
   "source": [
    "# b. Clean the data. How do you need to “clean” it? What is “dirty” about this data?\n",
    "# You can clean by removing any repeating/duplicate rows\n",
    "jeopardy_df.drop_duplicates() \n",
    "# category column has all upper case letter we can make it capitalize\n",
    "jeopardy_df['Category'] = jeopardy_df['Category'].str.capitalize()\n",
    "\n",
    "\n",
    "#Create month and year columns\n",
    "jeopardy_df['Month'] = pd.DatetimeIndex(jeopardy_df['Air Date']).month\n",
    "jeopardy_df['Year'] = pd.DatetimeIndex(jeopardy_df['Air Date']).year\n",
    "\n",
    "display(jeopardy_df.head())"
   ]
  },
  {
   "cell_type": "code",
   "execution_count": 163,
   "metadata": {},
   "outputs": [
    {
     "name": "stdout",
     "output_type": "stream",
     "text": [
      "Year\n",
      "1984     23\n",
      "1985     16\n",
      "1986     25\n",
      "1987     22\n",
      "1988     22\n",
      "1989     36\n",
      "1990     73\n",
      "1991     24\n",
      "1992     32\n",
      "1993     35\n",
      "1994     19\n",
      "1995     19\n",
      "1996     83\n",
      "1997    221\n",
      "1998    223\n",
      "1999    229\n",
      "2000    225\n",
      "2001    203\n",
      "2002    114\n",
      "2003    158\n",
      "2004    220\n",
      "2005    225\n",
      "2006    230\n",
      "2007    231\n",
      "2008    232\n",
      "2009    226\n",
      "2010    231\n",
      "2011    224\n",
      "2012     19\n",
      "Name: Show Number, dtype: int64\n"
     ]
    }
   ],
   "source": [
    "#c. How many unique shows were there each year?\n",
    "jeopardy_year = jeopardy_df.groupby('Year')\n",
    "print(jeopardy_year['Show Number'].nunique())"
   ]
  },
  {
   "cell_type": "code",
   "execution_count": 164,
   "metadata": {},
   "outputs": [
    {
     "data": {
      "text/plain": [
       "Category\n",
       "Before & after             547\n",
       "Science                    519\n",
       "Literature                 496\n",
       "American history           418\n",
       "Potpourri                  401\n",
       "                          ... \n",
       "Heraldic symbols             1\n",
       "Pop music firsts             1\n",
       "Religious personalities      1\n",
       "5-letter literary terms      1\n",
       "Food lore                    1\n",
       "Length: 27905, dtype: int64"
      ]
     },
     "metadata": {},
     "output_type": "display_data"
    }
   ],
   "source": [
    "# d. How many times was each category used?\n",
    "display(jeopardy_df.value_counts('Category') )"
   ]
  },
  {
   "cell_type": "code",
   "execution_count": 165,
   "metadata": {},
   "outputs": [
    {
     "data": {
      "text/html": [
       "<div>\n",
       "<style scoped>\n",
       "    .dataframe tbody tr th:only-of-type {\n",
       "        vertical-align: middle;\n",
       "    }\n",
       "\n",
       "    .dataframe tbody tr th {\n",
       "        vertical-align: top;\n",
       "    }\n",
       "\n",
       "    .dataframe thead th {\n",
       "        text-align: right;\n",
       "    }\n",
       "</style>\n",
       "<table border=\"1\" class=\"dataframe\">\n",
       "  <thead>\n",
       "    <tr style=\"text-align: right;\">\n",
       "      <th></th>\n",
       "      <th>Most shows</th>\n",
       "    </tr>\n",
       "    <tr>\n",
       "      <th>Month</th>\n",
       "      <th></th>\n",
       "    </tr>\n",
       "  </thead>\n",
       "  <tbody>\n",
       "    <tr>\n",
       "      <th>12</th>\n",
       "      <td>20875</td>\n",
       "    </tr>\n",
       "  </tbody>\n",
       "</table>\n",
       "</div>"
      ],
      "text/plain": [
       "       Most shows\n",
       "Month            \n",
       "12          20875"
      ]
     },
     "metadata": {},
     "output_type": "display_data"
    }
   ],
   "source": [
    "#e. Which month (over the years) has had the most shows?\n",
    "jeopardy_month = pd.DataFrame(jeopardy_df.value_counts('Month'),columns=['Most shows'])\n",
    "display(jeopardy_month.sort_values(\"Month\",ascending=False).head(1))\n"
   ]
  },
  {
   "cell_type": "code",
   "execution_count": 192,
   "metadata": {},
   "outputs": [
    {
     "name": "stdout",
     "output_type": "stream",
     "text": [
      "The questions for the top three most common answers:-\n"
     ]
    },
    {
     "data": {
      "text/html": [
       "<div>\n",
       "<style scoped>\n",
       "    .dataframe tbody tr th:only-of-type {\n",
       "        vertical-align: middle;\n",
       "    }\n",
       "\n",
       "    .dataframe tbody tr th {\n",
       "        vertical-align: top;\n",
       "    }\n",
       "\n",
       "    .dataframe thead th {\n",
       "        text-align: right;\n",
       "    }\n",
       "</style>\n",
       "<table border=\"1\" class=\"dataframe\">\n",
       "  <thead>\n",
       "    <tr style=\"text-align: right;\">\n",
       "      <th></th>\n",
       "      <th>Answer</th>\n",
       "      <th>Questions</th>\n",
       "    </tr>\n",
       "  </thead>\n",
       "  <tbody>\n",
       "    <tr>\n",
       "      <th>0</th>\n",
       "      <td>China</td>\n",
       "      <td>In 1958 this country launched its second 5-yea...</td>\n",
       "    </tr>\n",
       "    <tr>\n",
       "      <th>1</th>\n",
       "      <td>China</td>\n",
       "      <td>In 1999 this country began 3 \"golden weeks\" of...</td>\n",
       "    </tr>\n",
       "    <tr>\n",
       "      <th>2</th>\n",
       "      <td>China</td>\n",
       "      <td>P.F. Chang's is an upscale bistro specializing...</td>\n",
       "    </tr>\n",
       "    <tr>\n",
       "      <th>3</th>\n",
       "      <td>China</td>\n",
       "      <td>This country's National People's Congress has ...</td>\n",
       "    </tr>\n",
       "    <tr>\n",
       "      <th>4</th>\n",
       "      <td>China</td>\n",
       "      <td>Of the 6 nations India borders, this one is th...</td>\n",
       "    </tr>\n",
       "    <tr>\n",
       "      <th>...</th>\n",
       "      <td>...</td>\n",
       "      <td>...</td>\n",
       "    </tr>\n",
       "    <tr>\n",
       "      <th>191</th>\n",
       "      <td>Japan</td>\n",
       "      <td>On Feb. 8, 1904 this country attacked Port Art...</td>\n",
       "    </tr>\n",
       "    <tr>\n",
       "      <th>192</th>\n",
       "      <td>Japan</td>\n",
       "      <td>This nation's maritime self-defense force, suc...</td>\n",
       "    </tr>\n",
       "    <tr>\n",
       "      <th>193</th>\n",
       "      <td>Japan</td>\n",
       "      <td>On July 8, 1853 Matthew Perry presented a lett...</td>\n",
       "    </tr>\n",
       "    <tr>\n",
       "      <th>194</th>\n",
       "      <td>Japan</td>\n",
       "      <td>Kirin</td>\n",
       "    </tr>\n",
       "    <tr>\n",
       "      <th>195</th>\n",
       "      <td>Japan</td>\n",
       "      <td>In Asia: Prime Minister Junichiro Koizumi</td>\n",
       "    </tr>\n",
       "  </tbody>\n",
       "</table>\n",
       "<p>627 rows × 2 columns</p>\n",
       "</div>"
      ],
      "text/plain": [
       "    Answer                                          Questions\n",
       "0    China  In 1958 this country launched its second 5-yea...\n",
       "1    China  In 1999 this country began 3 \"golden weeks\" of...\n",
       "2    China  P.F. Chang's is an upscale bistro specializing...\n",
       "3    China  This country's National People's Congress has ...\n",
       "4    China  Of the 6 nations India borders, this one is th...\n",
       "..     ...                                                ...\n",
       "191  Japan  On Feb. 8, 1904 this country attacked Port Art...\n",
       "192  Japan  This nation's maritime self-defense force, suc...\n",
       "193  Japan  On July 8, 1853 Matthew Perry presented a lett...\n",
       "194  Japan                                              Kirin\n",
       "195  Japan          In Asia: Prime Minister Junichiro Koizumi\n",
       "\n",
       "[627 rows x 2 columns]"
      ]
     },
     "execution_count": 192,
     "metadata": {},
     "output_type": "execute_result"
    }
   ],
   "source": [
    "# Are there any answers that appeared multiple times? Find the questions for the top three most common answers.\n",
    "#Yes there are answers that appeared multiple times. Like below, these are the top 3 most common answers.\n",
    "most_common_ans = jeopardy_df['Answer'].value_counts().head(3)\n",
    "print(\"The questions for the top three most common answers:-\")\n",
    "index = 0\n",
    "jeopardy_questions = []\n",
    "qanda_df = pd.DataFrame()\n",
    "for answer in most_common_ans.index: \n",
    "    index=index +1\n",
    "    jeopardy_df1=  jeopardy_df.query(\"Answer == '\" + answer + \"'\")\n",
    "    jeopardy_questions = {\"Answer\": answer, \"Questions\": jeopardy_df1[\"Question\"].tolist()}\n",
    "    qanda_df = pd.concat([qanda_df,pd.DataFrame(jeopardy_questions)])\n",
    "    #print(\"\\n\" + str(index) + \".Questions for answer:\" , answer,\"\\n\",jeopardy_df1[\"Question\"].to_string())\n",
    "    \n",
    "qanda_df"
   ]
  },
  {
   "cell_type": "code",
   "execution_count": 170,
   "metadata": {},
   "outputs": [
    {
     "data": {
      "text/html": [
       "<style  type=\"text/css\" >\n",
       "</style><table id=\"T_dfd9d487_9948_11eb_84b0_bc7737746c2d\" ><thead>    <tr>        <th class=\"blank level0\" ></th>        <th class=\"col_heading level0 col0\" >Question Count</th>        <th class=\"col_heading level0 col1\" >Value</th>    </tr>    <tr>        <th class=\"index_name level0\" >Category</th>        <th class=\"blank\" ></th>        <th class=\"blank\" ></th>    </tr></thead><tbody>\n",
       "                <tr>\n",
       "                        <th id=\"T_dfd9d487_9948_11eb_84b0_bc7737746c2dlevel0_row0\" class=\"row_heading level0 row0\" >Before & after</th>\n",
       "                        <td id=\"T_dfd9d487_9948_11eb_84b0_bc7737746c2drow0_col0\" class=\"data row0 col0\" >547</td>\n",
       "                        <td id=\"T_dfd9d487_9948_11eb_84b0_bc7737746c2drow0_col1\" class=\"data row0 col1\" >$491,900.00</td>\n",
       "            </tr>\n",
       "            <tr>\n",
       "                        <th id=\"T_dfd9d487_9948_11eb_84b0_bc7737746c2dlevel0_row1\" class=\"row_heading level0 row1\" >Science</th>\n",
       "                        <td id=\"T_dfd9d487_9948_11eb_84b0_bc7737746c2drow1_col0\" class=\"data row1 col0\" >519</td>\n",
       "                        <td id=\"T_dfd9d487_9948_11eb_84b0_bc7737746c2drow1_col1\" class=\"data row1 col1\" >$361,221.00</td>\n",
       "            </tr>\n",
       "            <tr>\n",
       "                        <th id=\"T_dfd9d487_9948_11eb_84b0_bc7737746c2dlevel0_row2\" class=\"row_heading level0 row2\" >Literature</th>\n",
       "                        <td id=\"T_dfd9d487_9948_11eb_84b0_bc7737746c2drow2_col0\" class=\"data row2 col0\" >496</td>\n",
       "                        <td id=\"T_dfd9d487_9948_11eb_84b0_bc7737746c2drow2_col1\" class=\"data row2 col1\" >$344,900.00</td>\n",
       "            </tr>\n",
       "            <tr>\n",
       "                        <th id=\"T_dfd9d487_9948_11eb_84b0_bc7737746c2dlevel0_row3\" class=\"row_heading level0 row3\" >American history</th>\n",
       "                        <td id=\"T_dfd9d487_9948_11eb_84b0_bc7737746c2drow3_col0\" class=\"data row3 col0\" >418</td>\n",
       "                        <td id=\"T_dfd9d487_9948_11eb_84b0_bc7737746c2drow3_col1\" class=\"data row3 col1\" >$235,200.00</td>\n",
       "            </tr>\n",
       "            <tr>\n",
       "                        <th id=\"T_dfd9d487_9948_11eb_84b0_bc7737746c2dlevel0_row4\" class=\"row_heading level0 row4\" >Potpourri</th>\n",
       "                        <td id=\"T_dfd9d487_9948_11eb_84b0_bc7737746c2drow4_col0\" class=\"data row4 col0\" >401</td>\n",
       "                        <td id=\"T_dfd9d487_9948_11eb_84b0_bc7737746c2drow4_col1\" class=\"data row4 col1\" >$232,900.00</td>\n",
       "            </tr>\n",
       "    </tbody></table>"
      ],
      "text/plain": [
       "<pandas.io.formats.style.Styler at 0x17cda9e15e0>"
      ]
     },
     "metadata": {},
     "output_type": "display_data"
    }
   ],
   "source": [
    "#2. Create a visualization that shows the top 5 categories (those referenced the most often). Be sure to label appropriately\n",
    "#Format from currency to numeric\n",
    "value_series = pd.to_numeric(jeopardy_df[\"Value\"].replace(\"[^0-9\\.-]\",\"\",regex=True))\n",
    "jeopardy_df[\"Value\"] =  value_series\n",
    "\n",
    "#Group by category\n",
    "jeopardy_category = jeopardy_df.groupby('Category')\n",
    "jeopardy_category_df = jeopardy_category.aggregate({\"Question\": \"count\",\"Value\":\"sum\"})\n",
    "\n",
    "jeopardy_category_df.rename(columns={\"Question\": \"Question Count\"}, inplace=True)\n",
    "\n",
    "#sort by question Count in descending order and show only first 5 records i.e Top 5 categories\n",
    "sorted_jeopardy_category_df= jeopardy_category_df.sort_values([\"Question Count\"], ascending=False).head(5)\n",
    "display(sorted_jeopardy_category_df.style.format({\"Value\":\"${:,.2f}\"}))"
   ]
  },
  {
   "cell_type": "code",
   "execution_count": 172,
   "metadata": {},
   "outputs": [
    {
     "data": {
      "image/png": "[encoded data removed]",
      "text/plain": [
       "<Figure size 576x576 with 1 Axes>"
      ]
     },
     "metadata": {},
     "output_type": "display_data"
    }
   ],
   "source": [
    "#plot pie chart to display top 5 categories\n",
    "fig,ax = plt.subplots()\n",
    "fig.set_size_inches([8,8])\n",
    "sorted_jeopardy_category_df.plot(kind='pie',y=\"Question Count\",ax=ax,\n",
    "                                 startangle=90,shadow=False,labels=sorted_jeopardy_category_df.index,\n",
    "                                 autopct='%1.1f%%',legend=False,fontsize=10)\n",
    "\n",
    "ax.set_title(\"Top 5 categories and questions count chart\",fontsize=10)\n",
    "plt.show()"
   ]
  },
  {
   "cell_type": "code",
   "execution_count": null,
   "metadata": {},
   "outputs": [],
   "source": []
  }
 ],
 "metadata": {
  "kernelspec": {
   "display_name": "Python 3",
   "language": "python",
   "name": "python3"
  },
  "language_info": {
   "codemirror_mode": {
    "name": "ipython",
    "version": 3
   },
   "file_extension": ".py",
   "mimetype": "text/x-python",
   "name": "python",
   "nbconvert_exporter": "python",
   "pygments_lexer": "ipython3",
   "version": "3.8.5"
  }
 },
 "nbformat": 4,
 "nbformat_minor": 4
}
