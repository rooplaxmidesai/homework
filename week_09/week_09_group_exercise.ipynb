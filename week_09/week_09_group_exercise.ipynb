{
 "cells": [
  {
   "cell_type": "markdown",
   "metadata": {},
   "source": [
    "# 1.a Linear and rank correlation"
   ]
  },
  {
   "cell_type": "markdown",
   "metadata": {},
   "source": [
    "## Linear Correlation\n",
    "* Linear correlation measures the linear relationship between variables \n",
    "* If the relationship between the two features is closer to some linear function, \n",
    "then their linear correlation is stronger and the absolute value of the correlation coefficient is higher.\n",
    "* Pearson’s coefficient measures linear correlation \n",
    "    * r = 1  - total positive linear correlation\n",
    "    * r = -1 - toal neagtive liner correlation\n",
    "    * r =0   - no correlation"
   ]
  },
  {
   "cell_type": "markdown",
   "metadata": {},
   "source": [
    "## Rank Correlation\n",
    "* Rank correlation measures the monotonic relationship between two variables. \n",
    "* Rank correlation compares the ranks or the orderings of the data related to two variables\n",
    "* In other words, rank correlation is concerned only with the order of values, not with the particular values from the variables.\n",
    "* The Spearman and Kendall coefficients compare the ranks of data.\n"
   ]
  },
  {
   "cell_type": "markdown",
   "metadata": {},
   "source": [
    "### In rank correlation,\n",
    " * as the value of one variable increases, so does the value of the other variable OR\n",
    " * as the value of one of the variable increases, the other value descreases\n",
    " * BUT, not exactly at a constant rate\n",
    "\n",
    "### In linear correlation,\n",
    "  * whereas in a linear relationship the rate of increase/decrease is constant"
   ]
  },
  {
   "cell_type": "code",
   "execution_count": 8,
   "metadata": {},
   "outputs": [],
   "source": [
    "import pandas as pd\n",
    "import matplotlib.pyplot as plt\n",
    "import seaborn as sns"
   ]
  },
  {
   "cell_type": "code",
   "execution_count": 19,
   "metadata": {},
   "outputs": [
    {
     "data": {
      "text/html": [
       "<div>\n",
       "<style scoped>\n",
       "    .dataframe tbody tr th:only-of-type {\n",
       "        vertical-align: middle;\n",
       "    }\n",
       "\n",
       "    .dataframe tbody tr th {\n",
       "        vertical-align: top;\n",
       "    }\n",
       "\n",
       "    .dataframe thead th {\n",
       "        text-align: right;\n",
       "    }\n",
       "</style>\n",
       "<table border=\"1\" class=\"dataframe\">\n",
       "  <thead>\n",
       "    <tr style=\"text-align: right;\">\n",
       "      <th></th>\n",
       "      <th>id</th>\n",
       "      <th>name</th>\n",
       "      <th>host_id</th>\n",
       "      <th>host_name</th>\n",
       "      <th>neighbourhood_group</th>\n",
       "      <th>neighbourhood</th>\n",
       "      <th>latitude</th>\n",
       "      <th>longitude</th>\n",
       "      <th>room_type</th>\n",
       "      <th>price</th>\n",
       "      <th>minimum_nights</th>\n",
       "      <th>number_of_reviews</th>\n",
       "      <th>last_review</th>\n",
       "      <th>reviews_per_month</th>\n",
       "      <th>calculated_host_listings_count</th>\n",
       "      <th>availability_365</th>\n",
       "    </tr>\n",
       "  </thead>\n",
       "  <tbody>\n",
       "    <tr>\n",
       "      <th>0</th>\n",
       "      <td>36666</td>\n",
       "      <td>Mo's Cozy Casa w/ veranda &amp; access to dock</td>\n",
       "      <td>157752</td>\n",
       "      <td>Monique</td>\n",
       "      <td>Belize</td>\n",
       "      <td>Belize Islands</td>\n",
       "      <td>17.74786</td>\n",
       "      <td>-88.02398</td>\n",
       "      <td>Entire home/apt</td>\n",
       "      <td>141</td>\n",
       "      <td>3</td>\n",
       "      <td>250</td>\n",
       "      <td>2/23/2021</td>\n",
       "      <td>2.0</td>\n",
       "      <td>5</td>\n",
       "      <td>225</td>\n",
       "    </tr>\n",
       "  </tbody>\n",
       "</table>\n",
       "</div>"
      ],
      "text/plain": [
       "      id                                        name  host_id host_name  \\\n",
       "0  36666  Mo's Cozy Casa w/ veranda & access to dock   157752   Monique   \n",
       "\n",
       "  neighbourhood_group   neighbourhood  latitude  longitude        room_type  \\\n",
       "0              Belize  Belize Islands  17.74786  -88.02398  Entire home/apt   \n",
       "\n",
       "   price  minimum_nights  number_of_reviews last_review  reviews_per_month  \\\n",
       "0    141               3                250   2/23/2021                2.0   \n",
       "\n",
       "   calculated_host_listings_count  availability_365  \n",
       "0                               5               225  "
      ]
     },
     "execution_count": 19,
     "metadata": {},
     "output_type": "execute_result"
    }
   ],
   "source": [
    "df = pd.read_csv(\"belize_airbnb_listings.csv\")\n",
    "df.head(1)"
   ]
  },
  {
   "cell_type": "markdown",
   "metadata": {},
   "source": [
    "## 1.b Create a scatter plot showing the relation between calculated_host_listings_count and availability_365"
   ]
  },
  {
   "cell_type": "code",
   "execution_count": 32,
   "metadata": {},
   "outputs": [
    {
     "data": {
      "text/plain": [
       "<AxesSubplot:xlabel='calculated_host_listings_count', ylabel='availability_365'>"
      ]
     },
     "execution_count": 32,
     "metadata": {},
     "output_type": "execute_result"
    },
    {
     "data": {
      "image/png": "[encoded data removed]",
      "text/plain": [
       "<Figure size 432x288 with 1 Axes>"
      ]
     },
     "metadata": {
      "needs_background": "light"
     },
     "output_type": "display_data"
    }
   ],
   "source": [
    "sns.scatterplot(x=\"calculated_host_listings_count\",y=\"availability_365\" , data=df)\n"
   ]
  },
  {
   "cell_type": "markdown",
   "metadata": {},
   "source": [
    "## 1.c Calculate the correlation coefficient for the data in the scatter plot, and describe what is happening"
   ]
  },
  {
   "cell_type": "code",
   "execution_count": 33,
   "metadata": {},
   "outputs": [
    {
     "name": "stdout",
     "output_type": "stream",
     "text": [
      "Pearson coefficient: 0.17275502922698915\n",
      "Spearman coefficient: 0.13829213060714826\n",
      "Kendall coefficient: 0.10075474184153557\n"
     ]
    }
   ],
   "source": [
    "print(\"Pearson coefficient:\",df[\"calculated_host_listings_count\"].corr(df[\"availability_365\"]))\n",
    "print(\"Spearman coefficient:\",df[\"calculated_host_listings_count\"].corr(df[\"availability_365\"],method=\"spearman\"))\n",
    "print(\"Kendall coefficient:\",df[\"calculated_host_listings_count\"].corr(df[\"availability_365\"],method=\"kendall\"))\n",
    "\n",
    "# The scatter plot and coefficient shows that there is weak correlation between \n",
    "# calculated_host_listings_count and availability_365"
   ]
  },
  {
   "cell_type": "markdown",
   "metadata": {},
   "source": [
    "## 2. Create a box and whisker plot for Belize Airbnb data price"
   ]
  },
  {
   "cell_type": "code",
   "execution_count": 35,
   "metadata": {},
   "outputs": [
    {
     "data": {
      "text/plain": [
       "<AxesSubplot:xlabel='price'>"
      ]
     },
     "execution_count": 35,
     "metadata": {},
     "output_type": "execute_result"
    },
    {
     "data": {
      "image/png": "[encoded data removed]",
      "text/plain": [
       "<Figure size 432x288 with 1 Axes>"
      ]
     },
     "metadata": {
      "needs_background": "light"
     },
     "output_type": "display_data"
    }
   ],
   "source": [
    "sns.boxplot(x=\"price\",data=df)\n"
   ]
  },
  {
   "cell_type": "code",
   "execution_count": 36,
   "metadata": {},
   "outputs": [
    {
     "data": {
      "text/plain": [
       "<AxesSubplot:xlabel='price'>"
      ]
     },
     "execution_count": 36,
     "metadata": {},
     "output_type": "execute_result"
    },
    {
     "data": {
      "image/png": "[encoded data removed]",
      "text/plain": [
       "<Figure size 432x288 with 1 Axes>"
      ]
     },
     "metadata": {
      "needs_background": "light"
     },
     "output_type": "display_data"
    }
   ],
   "source": [
    "sns.boxplot(x=\"price\",data=df, showfliers=False)\n",
    "# The whisker plot show the outliers price below 100 and greater than 400"
   ]
  },
  {
   "cell_type": "markdown",
   "metadata": {},
   "source": [
    "## This is warm up exercise in class"
   ]
  },
  {
   "cell_type": "code",
   "execution_count": 3,
   "metadata": {},
   "outputs": [
    {
     "data": {
      "text/plain": [
       "mean      357.102289\n",
       "median    220.000000\n",
       "std       563.124825\n",
       "Name: price, dtype: float64"
      ]
     },
     "execution_count": 3,
     "metadata": {},
     "output_type": "execute_result"
    }
   ],
   "source": [
    "\n",
    "df[\"price\"].agg([\"mean\",\"median\",\"std\"])\n",
    "# Average/mean price of airbnb listing is 357.102289\n",
    "# Median that is middle price of all is 220.000000\n",
    "# Standard deviation shows how spread the price is from mean price"
   ]
  },
  {
   "cell_type": "code",
   "execution_count": 4,
   "metadata": {},
   "outputs": [
    {
     "data": {
      "text/html": [
       "<div>\n",
       "<style scoped>\n",
       "    .dataframe tbody tr th:only-of-type {\n",
       "        vertical-align: middle;\n",
       "    }\n",
       "\n",
       "    .dataframe tbody tr th {\n",
       "        vertical-align: top;\n",
       "    }\n",
       "\n",
       "    .dataframe thead th {\n",
       "        text-align: right;\n",
       "    }\n",
       "</style>\n",
       "<table border=\"1\" class=\"dataframe\">\n",
       "  <thead>\n",
       "    <tr style=\"text-align: right;\">\n",
       "      <th></th>\n",
       "      <th>mean</th>\n",
       "      <th>median</th>\n",
       "      <th>std</th>\n",
       "    </tr>\n",
       "    <tr>\n",
       "      <th>neighbourhood</th>\n",
       "      <th></th>\n",
       "      <th></th>\n",
       "      <th></th>\n",
       "    </tr>\n",
       "  </thead>\n",
       "  <tbody>\n",
       "    <tr>\n",
       "      <th>Belize Islands</th>\n",
       "      <td>399.442824</td>\n",
       "      <td>282</td>\n",
       "      <td>438.731574</td>\n",
       "    </tr>\n",
       "    <tr>\n",
       "      <th>Belize Mainland</th>\n",
       "      <td>288.273063</td>\n",
       "      <td>161</td>\n",
       "      <td>553.318326</td>\n",
       "    </tr>\n",
       "    <tr>\n",
       "      <th>Cayo</th>\n",
       "      <td>205.847525</td>\n",
       "      <td>151</td>\n",
       "      <td>293.618561</td>\n",
       "    </tr>\n",
       "    <tr>\n",
       "      <th>Corozal</th>\n",
       "      <td>156.553846</td>\n",
       "      <td>139</td>\n",
       "      <td>77.879922</td>\n",
       "    </tr>\n",
       "    <tr>\n",
       "      <th>Orange Walk</th>\n",
       "      <td>122.035714</td>\n",
       "      <td>101</td>\n",
       "      <td>69.729362</td>\n",
       "    </tr>\n",
       "    <tr>\n",
       "      <th>Stann Creek Islands</th>\n",
       "      <td>1136.166667</td>\n",
       "      <td>572</td>\n",
       "      <td>1515.236665</td>\n",
       "    </tr>\n",
       "    <tr>\n",
       "      <th>Stann Creek Mainland</th>\n",
       "      <td>456.994690</td>\n",
       "      <td>252</td>\n",
       "      <td>891.420819</td>\n",
       "    </tr>\n",
       "    <tr>\n",
       "      <th>Toledo Mainland</th>\n",
       "      <td>222.978723</td>\n",
       "      <td>122</td>\n",
       "      <td>235.121198</td>\n",
       "    </tr>\n",
       "  </tbody>\n",
       "</table>\n",
       "</div>"
      ],
      "text/plain": [
       "                             mean  median          std\n",
       "neighbourhood                                         \n",
       "Belize Islands         399.442824     282   438.731574\n",
       "Belize Mainland        288.273063     161   553.318326\n",
       "Cayo                   205.847525     151   293.618561\n",
       "Corozal                156.553846     139    77.879922\n",
       "Orange Walk            122.035714     101    69.729362\n",
       "Stann Creek Islands   1136.166667     572  1515.236665\n",
       "Stann Creek Mainland   456.994690     252   891.420819\n",
       "Toledo Mainland        222.978723     122   235.121198"
      ]
     },
     "execution_count": 4,
     "metadata": {},
     "output_type": "execute_result"
    }
   ],
   "source": [
    "df.groupby(\"neighbourhood\")[\"price\"].agg([\"mean\",\"median\",\"std\"])\n"
   ]
  },
  {
   "cell_type": "code",
   "execution_count": null,
   "metadata": {},
   "outputs": [],
   "source": []
  }
 ],
 "metadata": {
  "kernelspec": {
   "display_name": "Python 3",
   "language": "python",
   "name": "python3"
  },
  "language_info": {
   "codemirror_mode": {
    "name": "ipython",
    "version": 3
   },
   "file_extension": ".py",
   "mimetype": "text/x-python",
   "name": "python",
   "nbconvert_exporter": "python",
   "pygments_lexer": "ipython3",
   "version": "3.8.5"
  }
 },
 "nbformat": 4,
 "nbformat_minor": 4
}
